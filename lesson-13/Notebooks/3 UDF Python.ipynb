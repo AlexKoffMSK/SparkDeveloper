{
 "cells": [
  {
   "cell_type": "code",
   "execution_count": 6,
   "id": "f6ef82c6-1d1c-4e64-8d97-ca894c6c1ee9",
   "metadata": {},
   "outputs": [],
   "source": [
    "from pyspark.sql import SparkSession\n",
    "\n",
    "spark = (\n",
    "    SparkSession\n",
    "        .builder\n",
    "        .master(\"local[*]\")\n",
    "        .appName(\"UDF\")\n",
    "        .getOrCreate()\n",
    ")"
   ]
  },
  {
   "cell_type": "code",
   "execution_count": 7,
   "id": "d472674f-b03a-46c2-bbd8-767e2108500a",
   "metadata": {},
   "outputs": [
    {
     "name": "stderr",
     "output_type": "stream",
     "text": [
      "24/02/19 11:55:55 WARN CacheManager: Asked to cache already cached data.        \n"
     ]
    }
   ],
   "source": [
    "train = spark.read.csv(\"../data/train.csv\", inferSchema=True, header=True).cache()"
   ]
  },
  {
   "cell_type": "code",
   "execution_count": 8,
   "id": "c6aeed90-d944-4ed4-bcb8-02cf2c560dce",
   "metadata": {},
   "outputs": [],
   "source": [
    "from pyspark.sql import functions as f\n",
    "from pyspark.sql.functions import col\n",
    "from pyspark.sql.types import LongType\n",
    "\n",
    "def to_months(ms):\n",
    "    return ms // 31536000000 // 12\n",
    "\n",
    "to_months_udf = f.udf(to_months, LongType())"
   ]
  },
  {
   "cell_type": "code",
   "execution_count": 9,
   "id": "5faf696f-2367-4bf7-b033-1d5525285075",
   "metadata": {},
   "outputs": [
    {
     "name": "stderr",
     "output_type": "stream",
     "text": [
      "[Stage 11:====================================================>   (41 + 3) / 44]\r"
     ]
    },
    {
     "name": "stdout",
     "output_type": "stream",
     "text": [
      "+----------+----------+\n",
      "|content_id|avg(month)|\n",
      "+----------+----------+\n",
      "|      4519|       0.0|\n",
      "|      4818|       0.0|\n",
      "|      5518|       0.0|\n",
      "|     13285|       0.0|\n",
      "|     12027|       0.0|\n",
      "|       833|       0.0|\n",
      "|      9427|       0.0|\n",
      "|       496|       0.0|\n",
      "|      5156|       0.0|\n",
      "|      6336|       0.0|\n",
      "|      2866|       0.0|\n",
      "|      1959|       0.0|\n",
      "|      7982|       0.0|\n",
      "|     23336|       0.0|\n",
      "|       148|       0.0|\n",
      "|      1342|       0.0|\n",
      "|      1088|       0.0|\n",
      "|      1580|       0.0|\n",
      "|       471|       0.0|\n",
      "|      2122|       0.0|\n",
      "+----------+----------+\n",
      "only showing top 20 rows\n",
      "\n",
      "CPU times: user 22.9 ms, sys: 9.03 ms, total: 32 ms\n",
      "Wall time: 41.9 s\n"
     ]
    },
    {
     "name": "stderr",
     "output_type": "stream",
     "text": [
      "                                                                                \r"
     ]
    }
   ],
   "source": [
    "%%time\n",
    "(\n",
    "    train\n",
    "        .select(\"content_id\", to_months_udf(\"timestamp\").alias(\"month\"))\n",
    "        .groupBy(\"content_id\")\n",
    "        .mean(\"month\")\n",
    "        .show()\n",
    ")"
   ]
  },
  {
   "cell_type": "code",
   "execution_count": 10,
   "id": "fd673325-bc0c-4486-94b5-0c259fd90772",
   "metadata": {},
   "outputs": [
    {
     "name": "stderr",
     "output_type": "stream",
     "text": [
      "[Stage 14:===============================================>        (37 + 7) / 44]\r"
     ]
    },
    {
     "name": "stdout",
     "output_type": "stream",
     "text": [
      "+----------+--------------------+\n",
      "|content_id|          avg(month)|\n",
      "+----------+--------------------+\n",
      "|      4519|0.015429677931821352|\n",
      "|      4818|0.016230649272587192|\n",
      "|      5518| 0.02103952664360606|\n",
      "|     13285| 0.04141825984987046|\n",
      "|     12027| 0.04150963056316861|\n",
      "|       833|0.022584471034752644|\n",
      "|      9427| 0.02158891106034129|\n",
      "|       496|0.020155351740181845|\n",
      "|      5156|0.018064186032779997|\n",
      "|      6336|0.019195051162991618|\n",
      "|      2866|0.026921431007821156|\n",
      "|      1959| 0.02670915106444127|\n",
      "|      7982| 0.02122819619071833|\n",
      "|     23336|0.019260306662998706|\n",
      "|       148|0.017910791660268703|\n",
      "|      1342| 0.02195320830526077|\n",
      "|      1088| 0.02461949633696784|\n",
      "|      1580|0.022461073541947943|\n",
      "|       471| 0.02611517946736722|\n",
      "|      2122|0.026057020501248997|\n",
      "+----------+--------------------+\n",
      "only showing top 20 rows\n",
      "\n",
      "CPU times: user 7.08 ms, sys: 1.51 ms, total: 8.6 ms\n",
      "Wall time: 1.83 s\n"
     ]
    },
    {
     "name": "stderr",
     "output_type": "stream",
     "text": [
      "                                                                                \r"
     ]
    }
   ],
   "source": [
    "%%time\n",
    "(\n",
    " train\n",
    "    .select(\"content_id\", (col(\"timestamp\") / 31536000000 / 12).alias(\"month\"))\n",
    "    .groupBy(\"content_id\")\n",
    "    .mean(\"month\")\n",
    "    .show()\n",
    ")"
   ]
  },
  {
   "cell_type": "code",
   "execution_count": null,
   "id": "f9074778-02ee-43a0-96c4-58d631b94a32",
   "metadata": {},
   "outputs": [],
   "source": []
  }
 ],
 "metadata": {
  "kernelspec": {
   "display_name": "Python 3 (ipykernel)",
   "language": "python",
   "name": "python3"
  },
  "language_info": {
   "codemirror_mode": {
    "name": "ipython",
    "version": 3
   },
   "file_extension": ".py",
   "mimetype": "text/x-python",
   "name": "python",
   "nbconvert_exporter": "python",
   "pygments_lexer": "ipython3",
   "version": "3.10.12"
  }
 },
 "nbformat": 4,
 "nbformat_minor": 5
}
