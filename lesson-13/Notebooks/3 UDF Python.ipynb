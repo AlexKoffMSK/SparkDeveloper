{
 "cells": [
  {
   "cell_type": "code",
   "execution_count": 1,
   "id": "f6ef82c6-1d1c-4e64-8d97-ca894c6c1ee9",
   "metadata": {},
   "outputs": [
    {
     "name": "stderr",
     "output_type": "stream",
     "text": [
      "24/06/13 14:55:12 WARN NativeCodeLoader: Unable to load native-hadoop library for your platform... using builtin-java classes where applicable\n",
      "24/06/13 14:55:13 WARN Utils: Service 'SparkUI' could not bind on port 4040. Attempting port 4041.\n",
      "24/06/13 14:55:13 WARN Utils: Service 'SparkUI' could not bind on port 4041. Attempting port 4042.\n"
     ]
    }
   ],
   "source": [
    "from pyspark.sql import SparkSession\n",
    "\n",
    "spark = (\n",
    "    SparkSession\n",
    "        .builder\n",
    "        .master(\"local[*]\")\n",
    "        .appName(\"UDF\")\n",
    "        .getOrCreate()\n",
    ")"
   ]
  },
  {
   "cell_type": "code",
   "execution_count": 2,
   "id": "d472674f-b03a-46c2-bbd8-767e2108500a",
   "metadata": {},
   "outputs": [
    {
     "name": "stderr",
     "output_type": "stream",
     "text": [
      "                                                                                \r"
     ]
    }
   ],
   "source": [
    "train = spark.read.csv(\"../data/train.csv\", inferSchema=True, header=True).cache()"
   ]
  },
  {
   "cell_type": "code",
   "execution_count": 4,
   "id": "47af8f0e",
   "metadata": {},
   "outputs": [
    {
     "name": "stderr",
     "output_type": "stream",
     "text": [
      "[Stage 2:=======================================================> (43 + 1) / 44]\r"
     ]
    },
    {
     "name": "stdout",
     "output_type": "stream",
     "text": [
      "+------+---------+-------+----------+---------------+-----------------+-----------+------------------+---------------------------+------------------------------+\n",
      "|row_id|timestamp|user_id|content_id|content_type_id|task_container_id|user_answer|answered_correctly|prior_question_elapsed_time|prior_question_had_explanation|\n",
      "+------+---------+-------+----------+---------------+-----------------+-----------+------------------+---------------------------+------------------------------+\n",
      "|     0|        0|    115|      5692|              0|                1|          3|                 1|                       NULL|                          NULL|\n",
      "|     1|    56943|    115|      5716|              0|                2|          2|                 1|                    37000.0|                         false|\n",
      "|     2|   118363|    115|       128|              0|                0|          0|                 1|                    55000.0|                         false|\n",
      "|     3|   131167|    115|      7860|              0|                3|          0|                 1|                    19000.0|                         false|\n",
      "|     4|   137965|    115|      7922|              0|                4|          1|                 1|                    11000.0|                         false|\n",
      "+------+---------+-------+----------+---------------+-----------------+-----------+------------------+---------------------------+------------------------------+\n",
      "only showing top 5 rows\n",
      "\n"
     ]
    },
    {
     "name": "stderr",
     "output_type": "stream",
     "text": [
      "                                                                                \r"
     ]
    }
   ],
   "source": [
    "train.show(5)"
   ]
  },
  {
   "cell_type": "code",
   "execution_count": 3,
   "id": "c6aeed90-d944-4ed4-bcb8-02cf2c560dce",
   "metadata": {},
   "outputs": [],
   "source": [
    "from pyspark.sql import functions as f\n",
    "from pyspark.sql.functions import col\n",
    "from pyspark.sql.types import LongType\n",
    "\n",
    "def to_months(ms):\n",
    "    return ms // 31536000000 * 12\n",
    "\n",
    "to_months_udf = f.udf(to_months, LongType())"
   ]
  },
  {
   "cell_type": "code",
   "execution_count": 5,
   "id": "5faf696f-2367-4bf7-b033-1d5525285075",
   "metadata": {},
   "outputs": [
    {
     "name": "stderr",
     "output_type": "stream",
     "text": [
      "[Stage 4:=======================================================> (43 + 1) / 44]\r"
     ]
    },
    {
     "name": "stdout",
     "output_type": "stream",
     "text": [
      "+----------+------------------+\n",
      "|content_id|        avg(month)|\n",
      "+----------+------------------+\n",
      "|      4519|0.4460020768431983|\n",
      "|      4818|0.5068813295247988|\n",
      "|      5518|0.6536082474226804|\n",
      "|     13285| 2.725925925925926|\n",
      "|     12027|2.2696177062374248|\n",
      "|       833|0.7334516865330967|\n",
      "|      9427| 0.652203699474766|\n",
      "|       496|0.6270834569072898|\n",
      "|      5156|0.5233297393761386|\n",
      "|      6336|0.6127002288329519|\n",
      "|      2866|0.9061162849232318|\n",
      "|      1959|1.0353606789250354|\n",
      "|      7982|0.6966064981949458|\n",
      "|     23336| 0.564428149870339|\n",
      "|       148| 0.602506180206291|\n",
      "|      1342|0.7789912124752375|\n",
      "|      1088|0.7588338484671289|\n",
      "|      1580|0.7253544345532477|\n",
      "|       471|0.8491909385113269|\n",
      "|      2122|0.8964813870474247|\n",
      "+----------+------------------+\n",
      "only showing top 20 rows\n",
      "\n",
      "CPU times: user 35 ms, sys: 39.9 ms, total: 74.9 ms\n",
      "Wall time: 48.5 s\n"
     ]
    },
    {
     "name": "stderr",
     "output_type": "stream",
     "text": [
      "                                                                                \r"
     ]
    }
   ],
   "source": [
    "%%time\n",
    "(\n",
    "    train\n",
    "        .select(\"content_id\", to_months_udf(\"timestamp\").alias(\"month\"))\n",
    "        .groupBy(\"content_id\")\n",
    "        .mean(\"month\")\n",
    "        .show()\n",
    ")"
   ]
  },
  {
   "cell_type": "code",
   "execution_count": 7,
   "id": "fd673325-bc0c-4486-94b5-0c259fd90772",
   "metadata": {},
   "outputs": [
    {
     "name": "stderr",
     "output_type": "stream",
     "text": [
      "[Stage 7:==============================================>          (36 + 8) / 44]\r"
     ]
    },
    {
     "name": "stdout",
     "output_type": "stream",
     "text": [
      "+----------+------------------+\n",
      "|content_id|        avg(month)|\n",
      "+----------+------------------+\n",
      "|      4519|2.2218736221822732|\n",
      "|      4818|2.3372134952525556|\n",
      "|      5518| 3.029691836679273|\n",
      "|     13285| 5.964229418381344|\n",
      "|     12027|5.9773868010962765|\n",
      "|       833|  3.25216382900438|\n",
      "|      9427| 3.108803192689145|\n",
      "|       496|2.9023706505861853|\n",
      "|      5156|2.6012427887203198|\n",
      "|      6336|2.7640873674707946|\n",
      "|      2866|3.8766860651262456|\n",
      "|      1959|3.8461177532795423|\n",
      "|      7982|3.0568602514634398|\n",
      "|     23336| 2.773484159471813|\n",
      "|       148| 2.579153999078694|\n",
      "|      1342|  3.16126199595755|\n",
      "|      1088| 3.545207472523368|\n",
      "|      1580|3.2343945900405027|\n",
      "|       471| 3.760585843300882|\n",
      "|      2122|3.7522109521798543|\n",
      "+----------+------------------+\n",
      "only showing top 20 rows\n",
      "\n",
      "CPU times: user 6.68 ms, sys: 3.43 ms, total: 10.1 ms\n",
      "Wall time: 2.55 s\n"
     ]
    },
    {
     "name": "stderr",
     "output_type": "stream",
     "text": [
      "                                                                                \r"
     ]
    }
   ],
   "source": [
    "%%time\n",
    "(\n",
    " train\n",
    "    .select(\"content_id\", (col(\"timestamp\") / 31536000000 * 12).alias(\"month\"))\n",
    "    .groupBy(\"content_id\")\n",
    "    .mean(\"month\")\n",
    "    .show()\n",
    ")"
   ]
  },
  {
   "cell_type": "code",
   "execution_count": null,
   "id": "f9074778-02ee-43a0-96c4-58d631b94a32",
   "metadata": {},
   "outputs": [],
   "source": []
  }
 ],
 "metadata": {
  "kernelspec": {
   "display_name": "Python 3 (ipykernel)",
   "language": "python",
   "name": "python3"
  },
  "language_info": {
   "codemirror_mode": {
    "name": "ipython",
    "version": 3
   },
   "file_extension": ".py",
   "mimetype": "text/x-python",
   "name": "python",
   "nbconvert_exporter": "python",
   "pygments_lexer": "ipython3",
   "version": "3.10.12"
  }
 },
 "nbformat": 4,
 "nbformat_minor": 5
}
