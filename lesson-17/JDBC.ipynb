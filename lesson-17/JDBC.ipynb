{
 "cells": [
  {
   "cell_type": "code",
   "execution_count": 1,
   "id": "69f3eae9-38ea-40bf-bb2b-f3ba0eb393c0",
   "metadata": {},
   "outputs": [],
   "source": [
    "from pyspark.sql import SparkSession\n",
    "from pyspark.sql import functions as F"
   ]
  },
  {
   "cell_type": "code",
   "execution_count": 2,
   "id": "94a24d33-f85f-4ba6-95ae-61901ddacac1",
   "metadata": {},
   "outputs": [
    {
     "name": "stderr",
     "output_type": "stream",
     "text": [
      "24/03/11 13:55:25 WARN NativeCodeLoader: Unable to load native-hadoop library for your platform... using builtin-java classes where applicable\n"
     ]
    }
   ],
   "source": [
    "spark = (\n",
    "    SparkSession\n",
    "        .builder\n",
    "        .master(\"local\")\n",
    "        .appName(\"Data Sources\")\n",
    "        .config(\"spark.jars\", \"jars/postgresql-42.7.2.jar\")\n",
    "        .config(\"spark.driver.memory\", \"16g\")\n",
    "        .getOrCreate()\n",
    ")"
   ]
  },
  {
   "cell_type": "markdown",
   "id": "131d0b6e-76bb-421c-920d-02cb84e72411",
   "metadata": {},
   "source": [
    "## Драйвер"
   ]
  },
  {
   "cell_type": "code",
   "execution_count": 3,
   "id": "41d93afc-be0e-420d-af36-4247fdf8cb2f",
   "metadata": {},
   "outputs": [],
   "source": [
    "driver = \"org.postgresql.Driver\"\n",
    "url = \"jdbc:postgresql://localhost:5432/spark\"\n",
    "user = \"postgres\"\n",
    "password = \"postgres\""
   ]
  },
  {
   "cell_type": "markdown",
   "id": "784e48b3-e72b-48ce-90fd-5e66f3cc117c",
   "metadata": {},
   "source": [
    "## Чтение таблицы целиком"
   ]
  },
  {
   "cell_type": "markdown",
   "id": "533923fc-54c6-4bdd-b324-32c6baf9dce9",
   "metadata": {},
   "source": [
    "### Пример 1"
   ]
  },
  {
   "cell_type": "code",
   "execution_count": 4,
   "id": "713126df-fb47-451a-8c14-36afe87ae5dc",
   "metadata": {},
   "outputs": [
    {
     "data": {
      "text/plain": [
       "30003"
      ]
     },
     "execution_count": 4,
     "metadata": {},
     "output_type": "execute_result"
    }
   ],
   "source": [
    "employees_df = spark.read. \\\n",
    "    format(\"jdbc\"). \\\n",
    "    option(\"driver\", driver). \\\n",
    "    option(\"url\", url). \\\n",
    "    option(\"user\", user). \\\n",
    "    option(\"password\", password). \\\n",
    "    option(\"dbtable\", \"public.employees\"). \\\n",
    "    load()\n",
    "\n",
    "employees_df.count()"
   ]
  },
  {
   "cell_type": "code",
   "execution_count": 5,
   "id": "2108bedf-5ec3-4ff7-9706-d48c293e8eb6",
   "metadata": {},
   "outputs": [
    {
     "name": "stdout",
     "output_type": "stream",
     "text": [
      "+------+----------+----------+-----------+------+----------+\n",
      "|emp_no|birth_date|first_name|  last_name|gender| hire_date|\n",
      "+------+----------+----------+-----------+------+----------+\n",
      "| 10010|1963-06-01| Duangkaew|   Piveteau|     F|1989-08-24|\n",
      "| 10020|1952-12-24|    Mayuko|    Warwick|     M|1991-01-26|\n",
      "| 10030|1958-07-14|     Elvis|    Demeyer|     M|1994-02-17|\n",
      "| 10040|1959-09-13|     Weiyi|    Meriste|     F|1993-02-14|\n",
      "| 10050|1958-05-21|   Yinghua|     Dredge|     M|1990-12-25|\n",
      "| 10060|1961-10-15|  Breannda|Billingsley|     M|1987-11-02|\n",
      "| 10070|1955-08-20|    Reuven| Garigliano|     M|1985-10-14|\n",
      "| 10080|1957-12-03|    Premal|       Baek|     M|1985-11-19|\n",
      "| 10090|1961-05-30|    Kendra|    Hofting|     M|1986-03-14|\n",
      "| 10100|1953-04-21|  Hironobu|  Haraldson|     F|1987-09-21|\n",
      "+------+----------+----------+-----------+------+----------+\n",
      "only showing top 10 rows\n",
      "\n"
     ]
    }
   ],
   "source": [
    "employees_df.show(10)"
   ]
  },
  {
   "cell_type": "markdown",
   "id": "3c9dc472-968d-4e5f-aa08-d0593bc9b877",
   "metadata": {},
   "source": [
    "### Пример 2"
   ]
  },
  {
   "cell_type": "code",
   "execution_count": 6,
   "id": "83d45f91-da3b-488f-9021-4fd4ae5831dc",
   "metadata": {},
   "outputs": [],
   "source": [
    "DBPARAMS = {\n",
    "    \"user\": user,\n",
    "    \"password\": password,\n",
    "    \"driver\": driver\n",
    "}"
   ]
  },
  {
   "cell_type": "code",
   "execution_count": 7,
   "id": "2b03b075-33a3-4358-99b5-fa0f40103aec",
   "metadata": {},
   "outputs": [
    {
     "data": {
      "text/plain": [
       "30003"
      ]
     },
     "execution_count": 7,
     "metadata": {},
     "output_type": "execute_result"
    }
   ],
   "source": [
    "df = spark.read.jdbc(url=url, table=\"public.employees\", properties=DBPARAMS)\n",
    "df.count()"
   ]
  },
  {
   "cell_type": "code",
   "execution_count": 8,
   "id": "876be6b8-58b1-4d63-8790-d980253351ec",
   "metadata": {},
   "outputs": [
    {
     "name": "stdout",
     "output_type": "stream",
     "text": [
      "+------+----------+----------+-----------+------+----------+\n",
      "|emp_no|birth_date|first_name|  last_name|gender| hire_date|\n",
      "+------+----------+----------+-----------+------+----------+\n",
      "| 10010|1963-06-01| Duangkaew|   Piveteau|     F|1989-08-24|\n",
      "| 10020|1952-12-24|    Mayuko|    Warwick|     M|1991-01-26|\n",
      "| 10030|1958-07-14|     Elvis|    Demeyer|     M|1994-02-17|\n",
      "| 10040|1959-09-13|     Weiyi|    Meriste|     F|1993-02-14|\n",
      "| 10050|1958-05-21|   Yinghua|     Dredge|     M|1990-12-25|\n",
      "| 10060|1961-10-15|  Breannda|Billingsley|     M|1987-11-02|\n",
      "| 10070|1955-08-20|    Reuven| Garigliano|     M|1985-10-14|\n",
      "| 10080|1957-12-03|    Premal|       Baek|     M|1985-11-19|\n",
      "| 10090|1961-05-30|    Kendra|    Hofting|     M|1986-03-14|\n",
      "| 10100|1953-04-21|  Hironobu|  Haraldson|     F|1987-09-21|\n",
      "+------+----------+----------+-----------+------+----------+\n",
      "only showing top 10 rows\n",
      "\n"
     ]
    }
   ],
   "source": [
    "df.show(10)"
   ]
  },
  {
   "cell_type": "code",
   "execution_count": 9,
   "id": "a0645e84-b0a1-4570-a6b2-dfbcef91667c",
   "metadata": {},
   "outputs": [
    {
     "data": {
      "text/plain": [
       "1"
      ]
     },
     "execution_count": 9,
     "metadata": {},
     "output_type": "execute_result"
    }
   ],
   "source": [
    "df.rdd.getNumPartitions()"
   ]
  },
  {
   "cell_type": "code",
   "execution_count": 10,
   "id": "b8c0f6f7-e3e6-47f7-9d7b-4f7a29757817",
   "metadata": {},
   "outputs": [
    {
     "name": "stdout",
     "output_type": "stream",
     "text": [
      "+-----------+-----------+\n",
      "|min(emp_no)|max(emp_no)|\n",
      "+-----------+-----------+\n",
      "|      10010|     499990|\n",
      "+-----------+-----------+\n",
      "\n"
     ]
    }
   ],
   "source": [
    "df.agg(F.min(F.col(\"emp_no\")), F.max(F.col(\"emp_no\"))).show()"
   ]
  },
  {
   "cell_type": "markdown",
   "id": "88633689-14d4-4dac-9693-936a1ee13db0",
   "metadata": {},
   "source": [
    "### Как распараллелить чтение?"
   ]
  },
  {
   "cell_type": "code",
   "execution_count": 11,
   "id": "977f86f6-08e8-4b6d-8464-216814fa6be1",
   "metadata": {},
   "outputs": [
    {
     "data": {
      "text/plain": [
       "30003"
      ]
     },
     "execution_count": 11,
     "metadata": {},
     "output_type": "execute_result"
    }
   ],
   "source": [
    "df101 = spark.read.jdbc(url=url, table=\"public.employees\", properties=DBPARAMS, numPartitions = 10)\n",
    "df101.count()"
   ]
  },
  {
   "cell_type": "code",
   "execution_count": 12,
   "id": "246ed749-6c65-4f0b-83d9-2a976b4744ee",
   "metadata": {},
   "outputs": [
    {
     "data": {
      "text/plain": [
       "1"
      ]
     },
     "execution_count": 12,
     "metadata": {},
     "output_type": "execute_result"
    }
   ],
   "source": [
    "df101.rdd.getNumPartitions()"
   ]
  },
  {
   "cell_type": "code",
   "execution_count": 13,
   "id": "af774fc1-af16-4b3c-bbe1-caba23ed49a1",
   "metadata": {},
   "outputs": [
    {
     "data": {
      "text/plain": [
       "30003"
      ]
     },
     "execution_count": 13,
     "metadata": {},
     "output_type": "execute_result"
    }
   ],
   "source": [
    "df102 = spark.read.jdbc(url=url, table=\"public.employees\", properties=DBPARAMS,\n",
    "                        column=\"emp_no\", lowerBound = 10010, upperBound = 499990, numPartitions = 10)\n",
    "df102.count()"
   ]
  },
  {
   "cell_type": "code",
   "execution_count": 14,
   "id": "76ffc53d-f2e7-45f3-ad52-a42d2fbcf90c",
   "metadata": {},
   "outputs": [
    {
     "data": {
      "text/plain": [
       "10"
      ]
     },
     "execution_count": 14,
     "metadata": {},
     "output_type": "execute_result"
    }
   ],
   "source": [
    "df102.rdd.getNumPartitions()"
   ]
  },
  {
   "cell_type": "code",
   "execution_count": 15,
   "id": "eda0c698-994f-441e-b960-804149f01fb2",
   "metadata": {},
   "outputs": [
    {
     "data": {
      "text/plain": [
       "12091"
      ]
     },
     "execution_count": 15,
     "metadata": {},
     "output_type": "execute_result"
    }
   ],
   "source": [
    "employees_pruned = \"\"\"(select e.first_name, e.last_name, e.hire_date from public.employees e where e.gender = 'F') as new_emp\"\"\"\n",
    "df_pruned = spark.read.jdbc(url=url, table=employees_pruned, properties=DBPARAMS)\n",
    "df_pruned.count()"
   ]
  },
  {
   "cell_type": "code",
   "execution_count": 16,
   "id": "8fb06ef8-ca65-413f-9974-9cced8d6baa0",
   "metadata": {},
   "outputs": [
    {
     "name": "stdout",
     "output_type": "stream",
     "text": [
      "+----------+----------+----------+\n",
      "|first_name| last_name| hire_date|\n",
      "+----------+----------+----------+\n",
      "| Duangkaew|  Piveteau|1989-08-24|\n",
      "|     Weiyi|   Meriste|1993-02-14|\n",
      "|  Hironobu| Haraldson|1987-09-21|\n",
      "|    Xuejia|    Ullian|1986-08-22|\n",
      "|    Armond|Fairtlough|1996-07-06|\n",
      "|     Yucel|     Auria|1991-03-14|\n",
      "|  Zhenbing|     Perng|1986-11-16|\n",
      "|   Kasturi|  Jenevein|1986-01-02|\n",
      "|      Arve|Fairtlough|1986-06-23|\n",
      "|      Kish| Fasbender|1992-06-25|\n",
      "+----------+----------+----------+\n",
      "only showing top 10 rows\n",
      "\n"
     ]
    }
   ],
   "source": [
    "df_pruned.show(10)"
   ]
  },
  {
   "cell_type": "markdown",
   "id": "589186e0-7610-4cd0-9616-d417f4373dd1",
   "metadata": {},
   "source": [
    "## Предикаты"
   ]
  },
  {
   "cell_type": "markdown",
   "id": "78f1c337-deee-4174-992d-ba289fb6af8a",
   "metadata": {},
   "source": [
    "### Пример 1"
   ]
  },
  {
   "cell_type": "code",
   "execution_count": 17,
   "id": "61c972b0-a975-4a83-b36f-7ad0fb79270f",
   "metadata": {},
   "outputs": [
    {
     "data": {
      "text/plain": [
       "30003"
      ]
     },
     "execution_count": 17,
     "metadata": {},
     "output_type": "execute_result"
    }
   ],
   "source": [
    "pred = [\"gender = 'M'\", \"gender = 'F'\"]\n",
    "\n",
    "df_pred = spark.read.jdbc(url=url, table=\"public.employees\", properties=DBPARAMS, predicates=pred)\n",
    "df_pred.count()"
   ]
  },
  {
   "cell_type": "code",
   "execution_count": 18,
   "id": "23231d4f-6de2-4da3-9eef-9cb07c97f19c",
   "metadata": {},
   "outputs": [
    {
     "data": {
      "text/plain": [
       "2"
      ]
     },
     "execution_count": 18,
     "metadata": {},
     "output_type": "execute_result"
    }
   ],
   "source": [
    "df_pred.rdd.getNumPartitions()"
   ]
  },
  {
   "cell_type": "code",
   "execution_count": 19,
   "id": "77855569-49cd-41eb-8e74-26e763d138e7",
   "metadata": {},
   "outputs": [
    {
     "data": {
      "text/plain": [
       "12091"
      ]
     },
     "execution_count": 19,
     "metadata": {},
     "output_type": "execute_result"
    }
   ],
   "source": [
    "pred1 = [\"gender = 'F'\"]\n",
    "\n",
    "df_pred1 = spark.read.jdbc(url=url, table=\"public.employees\", properties=DBPARAMS, predicates=pred1)\n",
    "df_pred1.count()"
   ]
  },
  {
   "cell_type": "code",
   "execution_count": 20,
   "id": "1854024d-8601-4778-a505-ffced57697c6",
   "metadata": {},
   "outputs": [
    {
     "data": {
      "text/plain": [
       "1"
      ]
     },
     "execution_count": 20,
     "metadata": {},
     "output_type": "execute_result"
    }
   ],
   "source": [
    "df_pred1.rdd.getNumPartitions()"
   ]
  },
  {
   "cell_type": "code",
   "execution_count": 21,
   "id": "3a9fb889-6910-4f21-a1c5-7e8f5ec0d81a",
   "metadata": {},
   "outputs": [
    {
     "data": {
      "text/plain": [
       "47915"
      ]
     },
     "execution_count": 21,
     "metadata": {},
     "output_type": "execute_result"
    }
   ],
   "source": [
    "pred3 = [\"gender = 'F'\", \"gender = 'M'\", \"gender = 'M'\"]\n",
    "\n",
    "df_pred3 = spark.read.jdbc(url=url, table=\"public.employees\", properties=DBPARAMS, predicates=pred3)\n",
    "df_pred3.count()"
   ]
  },
  {
   "cell_type": "code",
   "execution_count": 22,
   "id": "d81a469e-22d4-43ae-8ab3-e61ae289d45f",
   "metadata": {},
   "outputs": [
    {
     "data": {
      "text/plain": [
       "3"
      ]
     },
     "execution_count": 22,
     "metadata": {},
     "output_type": "execute_result"
    }
   ],
   "source": [
    "df_pred3.rdd.getNumPartitions()"
   ]
  },
  {
   "cell_type": "code",
   "execution_count": 23,
   "id": "a5881708-3254-433c-97e4-413a0c39fc5e",
   "metadata": {},
   "outputs": [
    {
     "name": "stdout",
     "output_type": "stream",
     "text": [
      "+------+-------------+\n",
      "|gender|count(emp_no)|\n",
      "+------+-------------+\n",
      "|     F|        12091|\n",
      "|     M|        17912|\n",
      "+------+-------------+\n",
      "\n"
     ]
    }
   ],
   "source": [
    "df.groupBy(F.col(\"gender\")).agg(F.count(F.col(\"emp_no\"))).show()"
   ]
  },
  {
   "cell_type": "code",
   "execution_count": 24,
   "id": "ec82a0db-636c-42e4-91c2-80de09fe4867",
   "metadata": {},
   "outputs": [
    {
     "name": "stdout",
     "output_type": "stream",
     "text": [
      "+------+-------------+\n",
      "|gender|count(emp_no)|\n",
      "+------+-------------+\n",
      "|     F|        12091|\n",
      "|     M|        35824|\n",
      "+------+-------------+\n",
      "\n"
     ]
    }
   ],
   "source": [
    "df_pred3.groupBy(F.col(\"gender\")).agg(F.count(F.col(\"emp_no\"))).show()"
   ]
  },
  {
   "cell_type": "markdown",
   "id": "4cc51989-2137-4aa0-bdc6-2ef9e7673147",
   "metadata": {},
   "source": [
    "### Пример 2"
   ]
  },
  {
   "cell_type": "code",
   "execution_count": 25,
   "id": "16f107cc-d5ca-47ea-8531-74192817c590",
   "metadata": {},
   "outputs": [
    {
     "data": {
      "text/plain": [
       "8001"
      ]
     },
     "execution_count": 25,
     "metadata": {},
     "output_type": "execute_result"
    }
   ],
   "source": [
    "pred2 = [\"emp_no > 20000 and emp_no <= 50000\", \"emp_no >= 50000 and emp_no <= 100000\"]\n",
    "\n",
    "df_pred2 = spark.read.jdbc(url=url, table=\"public.employees\", properties=DBPARAMS, predicates=pred2)\n",
    "df_pred2.count()"
   ]
  },
  {
   "cell_type": "code",
   "execution_count": 26,
   "id": "9b73bd83-dd96-4f59-94d6-f0b93a2940ef",
   "metadata": {},
   "outputs": [
    {
     "name": "stdout",
     "output_type": "stream",
     "text": [
      "+------+----------+----------+-----------+------+----------+\n",
      "|emp_no|birth_date|first_name|  last_name|gender| hire_date|\n",
      "+------+----------+----------+-----------+------+----------+\n",
      "| 20010|1961-01-26|    Saniya|     Veccia|     M|1997-06-16|\n",
      "| 20020|1962-07-22|     Akeel|     Covnot|     F|1996-03-02|\n",
      "| 20030|1962-05-09|    Nitsan|Hoppenstand|     F|1988-11-18|\n",
      "| 20040|1962-04-16|   Youjian|    Vingron|     M|1987-01-21|\n",
      "| 20050|1959-02-27|  Guoxiang|   Greibach|     F|1991-03-18|\n",
      "| 20060|1954-07-18|    Chrisa|Attimonelli|     F|1985-10-16|\n",
      "| 20070|1959-04-13|       Tse|    Bellone|     M|1992-07-08|\n",
      "| 20080|1962-03-22|   Odoardo|  Heiserman|     F|1991-07-01|\n",
      "| 20090|1957-05-20| Serenella|   Kaltofen|     F|1986-06-24|\n",
      "| 20100|1965-01-18|       Utz|     Heuter|     F|1986-06-15|\n",
      "+------+----------+----------+-----------+------+----------+\n",
      "only showing top 10 rows\n",
      "\n"
     ]
    }
   ],
   "source": [
    "df_pred2.show(10)"
   ]
  },
  {
   "cell_type": "code",
   "execution_count": null,
   "id": "05191876-7992-4767-ac03-5178134295bb",
   "metadata": {},
   "outputs": [],
   "source": []
  }
 ],
 "metadata": {
  "kernelspec": {
   "display_name": "Python 3 (ipykernel)",
   "language": "python",
   "name": "python3"
  },
  "language_info": {
   "codemirror_mode": {
    "name": "ipython",
    "version": 3
   },
   "file_extension": ".py",
   "mimetype": "text/x-python",
   "name": "python",
   "nbconvert_exporter": "python",
   "pygments_lexer": "ipython3",
   "version": "3.10.12"
  }
 },
 "nbformat": 4,
 "nbformat_minor": 5
}
