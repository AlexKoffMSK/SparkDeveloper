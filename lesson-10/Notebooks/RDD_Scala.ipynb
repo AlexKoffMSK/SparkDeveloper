{
 "cells": [
  {
   "cell_type": "code",
   "execution_count": null,
   "id": "e2515a1c-c4f9-4890-aa6d-641bf419cea6",
   "metadata": {},
   "outputs": [],
   "source": [
    "import $ivy.`org.apache.spark::spark-sql:3.5.0`"
   ]
  },
  {
   "cell_type": "code",
   "execution_count": null,
   "id": "dc99a5fd-2141-4ffe-afb1-4b0a595a75af",
   "metadata": {},
   "outputs": [],
   "source": [
    "import org.apache.log4j.{Level, Logger}\n",
    "Logger.getLogger(\"org\").setLevel(Level.WARN)"
   ]
  },
  {
   "cell_type": "code",
   "execution_count": null,
   "id": "49835da8-c4d0-461a-a2c8-3c0959118bb4",
   "metadata": {},
   "outputs": [],
   "source": [
    "import org.apache.spark._\n",
    "import scala.collection.immutable.HashSet"
   ]
  },
  {
   "cell_type": "code",
   "execution_count": null,
   "id": "950c2d19-92b7-420f-b212-0fe0f37bd5ba",
   "metadata": {
    "scrolled": true
   },
   "outputs": [],
   "source": [
    "val conf = new SparkConf().setAppName(\"RDD\").setMaster(\"local[*]\")\n",
    "val sc = new SparkContext(conf)"
   ]
  },
  {
   "cell_type": "code",
   "execution_count": null,
   "id": "59c101c3-900c-4a51-8f5f-bfc0ce535ef9",
   "metadata": {},
   "outputs": [],
   "source": [
    "println(s\"spark.version == ${sc.version}\")"
   ]
  },
  {
   "cell_type": "markdown",
   "id": "13d92288-07f5-4da1-9bd5-ee9025b5632a",
   "metadata": {},
   "source": [
    "## Map"
   ]
  },
  {
   "cell_type": "code",
   "execution_count": null,
   "id": "566d2761-a067-4bc6-8296-b1858a5a7fb2",
   "metadata": {},
   "outputs": [],
   "source": [
    "val rdd = sc.parallelize(List(\"a\", \"b\", \"c\", \"d\", \"e\", \"f\", \"x\", \"y\", \"z\"), 3)\n",
    "val mappedRDD = rdd.map(_.toUpperCase)"
   ]
  },
  {
   "cell_type": "code",
   "execution_count": null,
   "id": "4ea27869-6091-4c89-87a0-bcdb480c958c",
   "metadata": {
    "scrolled": true
   },
   "outputs": [],
   "source": [
    "mappedRDD.collect"
   ]
  },
  {
   "cell_type": "markdown",
   "id": "2600ccad-960f-4fca-a5ab-abced92098d3",
   "metadata": {},
   "source": [
    "## flatMap"
   ]
  },
  {
   "cell_type": "code",
   "execution_count": null,
   "id": "9838e4a4-96e6-4290-954b-8d265a6f92ab",
   "metadata": {},
   "outputs": [],
   "source": [
    "val rdd = sc.parallelize(List(\"some text here\", \"other text over there\", \"and text\", \"short\", \"and a longer one\"), 3)\n",
    "val flatmappedRDD = rdd.flatMap(_.split(\"\\\\s\"))"
   ]
  },
  {
   "cell_type": "code",
   "execution_count": null,
   "id": "4fe379bc-b118-43a9-b2f2-b6b3a7b444c7",
   "metadata": {
    "scrolled": true
   },
   "outputs": [],
   "source": [
    "flatmappedRDD.collect"
   ]
  },
  {
   "cell_type": "markdown",
   "id": "d0c083f1-3410-4fcf-9492-a4f7c65291e8",
   "metadata": {},
   "source": [
    "## Filter"
   ]
  },
  {
   "cell_type": "code",
   "execution_count": null,
   "id": "102a4d28-da4e-451a-8213-786a785d42eb",
   "metadata": {},
   "outputs": [],
   "source": [
    "val rdd = sc.parallelize(List(\"a\", \"b\", \"c\", \"d\", \"e\", \"f\", \"x\", \"y\", \"z\"), 3)\n",
    "val filteredRDD = rdd.filter(_  < \"f\")"
   ]
  },
  {
   "cell_type": "code",
   "execution_count": null,
   "id": "ff88346b-421a-4b43-8526-760bc9b934b9",
   "metadata": {
    "scrolled": true
   },
   "outputs": [],
   "source": [
    "filteredRDD.collect"
   ]
  },
  {
   "cell_type": "markdown",
   "id": "8112e1b2-7749-4344-961a-efa36e1a46e2",
   "metadata": {},
   "source": [
    "## mapPartitions"
   ]
  },
  {
   "cell_type": "code",
   "execution_count": null,
   "id": "53e7dbd6-ea63-43e6-93b2-732812ac2c49",
   "metadata": {},
   "outputs": [],
   "source": [
    "val rdd = sc.parallelize(List(\"a\", \"b\", \"c\", \"d\", \"e\", \"f\", \"x\", \"y\", \"z\"), 3)\n",
    "val mapPartitionsRDD = rdd.mapPartitions(p => (Array(\"Hello\").iterator))"
   ]
  },
  {
   "cell_type": "code",
   "execution_count": null,
   "id": "9712febf-3797-463a-9db0-08c23f05ef8b",
   "metadata": {
    "scrolled": true
   },
   "outputs": [],
   "source": [
    "mapPartitionsRDD.collect"
   ]
  },
  {
   "cell_type": "markdown",
   "id": "bdf1b529-9b31-4733-95fb-4162295a2d3a",
   "metadata": {},
   "source": [
    "## mapPartitionsWithIndex"
   ]
  },
  {
   "cell_type": "code",
   "execution_count": null,
   "id": "e3207095-1bb5-43aa-b23c-e77ae35e54a4",
   "metadata": {},
   "outputs": [],
   "source": [
    "val rdd = sc.parallelize(List(\"a\", \"b\", \"c\", \"d\", \"e\", \"f\", \"x\", \"y\", \"z\"), 3)\n",
    "val mapPartitionsRDD = rdd.mapPartitionsWithIndex((i, p) => (Array(i).iterator))"
   ]
  },
  {
   "cell_type": "code",
   "execution_count": null,
   "id": "1ed59450-7255-4bc8-9fd8-0f50893902fb",
   "metadata": {
    "scrolled": true
   },
   "outputs": [],
   "source": [
    "mapPartitionsRDD.collect"
   ]
  },
  {
   "cell_type": "markdown",
   "id": "d9d272dc-0d5c-45fe-b2ec-95035fa10e5e",
   "metadata": {},
   "source": [
    "## Sample"
   ]
  },
  {
   "cell_type": "code",
   "execution_count": null,
   "id": "0119a6e7-79aa-4d3b-99de-c7ddf11e574c",
   "metadata": {},
   "outputs": [],
   "source": [
    "val rdd = sc.parallelize(List(\"a\", \"b\", \"c\", \"d\", \"e\", \"f\", \"x\", \"y\", \"z\"), 3)\n",
    "val sampleRDD = rdd.sample(false, 0.3)"
   ]
  },
  {
   "cell_type": "code",
   "execution_count": null,
   "id": "395c975a-441b-47d4-b81a-b3381a62c1c1",
   "metadata": {
    "scrolled": true
   },
   "outputs": [],
   "source": [
    "sampleRDD.collect"
   ]
  },
  {
   "cell_type": "markdown",
   "id": "f4e98fe6-66a1-40d3-a71c-e30e420d7d6a",
   "metadata": {},
   "source": [
    "## Union"
   ]
  },
  {
   "cell_type": "code",
   "execution_count": null,
   "id": "348ecc77-e6aa-4729-8a7d-2739cfb32025",
   "metadata": {},
   "outputs": [],
   "source": [
    "val rdd = sc.parallelize(List(\"a\", \"b\", \"c\", \"d\", \"e\", \"f\", \"x\", \"y\", \"z\"), 3)\n",
    "val rdd2 = sc.parallelize(List(\"A\", \"B\", \"C\", \"D\", \"E\", \"F\", \"X\", \"Y\", \"Z\"), 3)\n",
    "val unionRDD = rdd.union(rdd2)"
   ]
  },
  {
   "cell_type": "code",
   "execution_count": null,
   "id": "3311c7ab-e11a-4e40-86cc-149392768118",
   "metadata": {
    "scrolled": true
   },
   "outputs": [],
   "source": [
    "unionRDD.collect"
   ]
  },
  {
   "cell_type": "markdown",
   "id": "30be4636-89a4-47c6-889a-702eda3e00bc",
   "metadata": {},
   "source": [
    "## Intersection"
   ]
  },
  {
   "cell_type": "code",
   "execution_count": null,
   "id": "eadeb378-2b1f-417a-87f9-e01c90b7a55e",
   "metadata": {},
   "outputs": [],
   "source": [
    "val rdd = sc.parallelize(List(\"a\", \"b\", \"c\", \"d\", \"e\", \"f\"), 3)\n",
    "val rdd2 = sc.parallelize(List(\"d\", \"e\", \"f\", \"x\", \"y\", \"z\"), 3)\n",
    "val intersectionRDD = rdd.intersection(rdd2)"
   ]
  },
  {
   "cell_type": "code",
   "execution_count": null,
   "id": "0c1e2cea-f357-4a1a-8603-c0fed596a6de",
   "metadata": {
    "scrolled": true
   },
   "outputs": [],
   "source": [
    "intersectionRDD.collect"
   ]
  },
  {
   "cell_type": "markdown",
   "id": "9e7900dc-f654-4963-9975-1192bdba78f1",
   "metadata": {},
   "source": [
    "## Distinct"
   ]
  },
  {
   "cell_type": "code",
   "execution_count": null,
   "id": "4930a7d3-6089-4b65-96d4-b2e722f07d61",
   "metadata": {},
   "outputs": [],
   "source": [
    "val rdd = sc.parallelize(List(\"a\", \"b\", \"c\", \"c\", \"c\", \"b\", \"b\", \"a\"), 3)\n",
    "val distinctRDD = rdd.distinct"
   ]
  },
  {
   "cell_type": "code",
   "execution_count": null,
   "id": "67651626-4872-4d36-85d7-3e9a8acda203",
   "metadata": {
    "scrolled": true
   },
   "outputs": [],
   "source": [
    "distinctRDD.collect"
   ]
  },
  {
   "cell_type": "markdown",
   "id": "125bda78-d7b6-4629-a775-fc5bf492be7f",
   "metadata": {},
   "source": [
    "## GroupByKey"
   ]
  },
  {
   "cell_type": "code",
   "execution_count": null,
   "id": "0765d94c-2e45-4de8-9d7a-987fb95d2e3f",
   "metadata": {},
   "outputs": [],
   "source": [
    "val rdd = sc.parallelize(List((1, \"a\"), (2, \"b\"), (3, \"c\"), (1, \"d\"), (2, \"e\")), 3)\n",
    "val groupbyRDD = rdd.groupByKey"
   ]
  },
  {
   "cell_type": "code",
   "execution_count": null,
   "id": "ee2cede8-6790-46b5-b776-255aa68075fb",
   "metadata": {
    "scrolled": true
   },
   "outputs": [],
   "source": [
    "groupbyRDD.collect"
   ]
  },
  {
   "cell_type": "markdown",
   "id": "e560a06e-54b2-44be-bf73-23e9f543ec2a",
   "metadata": {},
   "source": [
    "## ReduceByKey"
   ]
  },
  {
   "cell_type": "code",
   "execution_count": null,
   "id": "7a8d93b0-bb1a-4e2a-8a08-c4b3ed9a0a12",
   "metadata": {},
   "outputs": [],
   "source": [
    "val rdd = sc.parallelize(List((\"a\", 1), (\"b\", 2), (\"c\", 3), (\"a\", 4), (\"b\", 5)), 3)\n",
    "val reducebyRDD = rdd.reduceByKey((a, b) => a + b)"
   ]
  },
  {
   "cell_type": "code",
   "execution_count": null,
   "id": "f59c3f13-a685-4bb7-b0c4-6f01833fb799",
   "metadata": {
    "scrolled": true
   },
   "outputs": [],
   "source": [
    "reducebyRDD.collect"
   ]
  },
  {
   "cell_type": "markdown",
   "id": "7b3f91f9-f0aa-4b84-bf49-37f75e5f12aa",
   "metadata": {},
   "source": [
    "## AggregateByKey"
   ]
  },
  {
   "cell_type": "code",
   "execution_count": null,
   "id": "d512279c-4988-4604-b0c3-f665c034c308",
   "metadata": {},
   "outputs": [],
   "source": [
    "val rdd = sc.parallelize(List((\"a\", 1), (\"b\", 2), (\"c\", 3), (\"a\", 4), (\"b\", 5)), 3)\n",
    "val aggregateByRDD = rdd.aggregateByKey(0)(_+_, _+_)"
   ]
  },
  {
   "cell_type": "code",
   "execution_count": null,
   "id": "f860ad18-a7d9-4aa2-b3d3-b8a86f98d485",
   "metadata": {
    "scrolled": true
   },
   "outputs": [],
   "source": [
    "aggregateByRDD.collect"
   ]
  },
  {
   "cell_type": "markdown",
   "id": "7d9d6e12-7284-4fd8-848a-eeb9ae6ffd05",
   "metadata": {},
   "source": [
    "## SortByKey"
   ]
  },
  {
   "cell_type": "code",
   "execution_count": null,
   "id": "c1fd6451-045f-4369-8400-17a1aa3bcd8f",
   "metadata": {
    "scrolled": true
   },
   "outputs": [],
   "source": [
    "val rdd = sc.parallelize(List((\"a\", 1), (\"b\", 2), (\"c\", 3), (\"a\", 4), (\"b\", 5)), 3)\n",
    "val sortedRDD = rdd.sortByKey()"
   ]
  },
  {
   "cell_type": "code",
   "execution_count": null,
   "id": "254ebe2e-f911-457f-9ef8-8d2423f97584",
   "metadata": {
    "scrolled": true
   },
   "outputs": [],
   "source": [
    "sortedRDD.collect"
   ]
  },
  {
   "cell_type": "markdown",
   "id": "0dbbd1dc-bd35-4276-a26a-3e3cee37a828",
   "metadata": {},
   "source": [
    "## Join"
   ]
  },
  {
   "cell_type": "code",
   "execution_count": null,
   "id": "7364e748-79d0-449e-97ab-261f4789ff42",
   "metadata": {},
   "outputs": [],
   "source": [
    "val rdd = sc.parallelize(List((1, \"a\"), (2, \"b\"), (3, \"c\")))\n",
    "val rdd2 = sc.parallelize(List((2, \"B\"), (1, \"A\"), (3, \"C\")))\n",
    "val joinedRDD = rdd.join(rdd2)"
   ]
  },
  {
   "cell_type": "code",
   "execution_count": null,
   "id": "bcdc78c0-0a2c-447d-b120-c71ae66de99f",
   "metadata": {
    "scrolled": true
   },
   "outputs": [],
   "source": [
    "joinedRDD.collect"
   ]
  },
  {
   "cell_type": "markdown",
   "id": "ae6ba2ac-1e52-4202-88c4-bec4fc48ba66",
   "metadata": {},
   "source": [
    "## Coalesce"
   ]
  },
  {
   "cell_type": "code",
   "execution_count": null,
   "id": "30c6452f-0acb-430d-810a-b7463be3cd29",
   "metadata": {},
   "outputs": [],
   "source": [
    "val rdd = sc.parallelize(List(\"a\", \"b\", \"c\", \"d\", \"e\", \"f\", \"g\", \"h\", \"i\"), 4)\n",
    "val coalesceRDD = rdd.coalesce(2)"
   ]
  },
  {
   "cell_type": "code",
   "execution_count": null,
   "id": "bf9e6685-9433-4e1d-b47c-1fb0574a97fe",
   "metadata": {},
   "outputs": [],
   "source": [
    "rdd.partitions.size\n",
    "coalesceRDD.partitions.size"
   ]
  },
  {
   "cell_type": "markdown",
   "id": "551d266b-86dc-405f-bc79-4e9bb9206c8d",
   "metadata": {},
   "source": [
    "## Repartition"
   ]
  },
  {
   "cell_type": "code",
   "execution_count": null,
   "id": "7dee2214-1d13-41ab-baf5-21b6e8f26b91",
   "metadata": {},
   "outputs": [],
   "source": [
    "val rdd = sc.parallelize(List(\"a\", \"b\", \"c\", \"d\", \"e\", \"f\", \"g\", \"h\", \"i\"), 2)\n",
    "val repartitionRDD = rdd.repartition(4)"
   ]
  },
  {
   "cell_type": "code",
   "execution_count": null,
   "id": "e8f780c7-ff8e-491f-9d8e-04cd2cbae9f3",
   "metadata": {},
   "outputs": [],
   "source": [
    "rdd.partitions.size\n",
    "repartitionRDD.partitions.size"
   ]
  },
  {
   "cell_type": "markdown",
   "id": "cbb179f2-babb-42b3-80e2-2e7bdb311bbc",
   "metadata": {},
   "source": [
    "## Reduce"
   ]
  },
  {
   "cell_type": "code",
   "execution_count": null,
   "id": "02f69b96-d344-4eef-87cb-587881fd6739",
   "metadata": {
    "scrolled": true
   },
   "outputs": [],
   "source": [
    "val rdd = sc.parallelize(List(1, 2, 3, 4, 5, 6, 7, 8, 9))\n",
    "val sumOfItems = rdd.reduce(_ + _)"
   ]
  },
  {
   "cell_type": "markdown",
   "id": "222e50a9-fb62-4707-b51d-54649465c67f",
   "metadata": {},
   "source": [
    "## Collect"
   ]
  },
  {
   "cell_type": "code",
   "execution_count": null,
   "id": "816add1a-d4a5-4d78-8af2-e92d447fe643",
   "metadata": {
    "scrolled": true
   },
   "outputs": [],
   "source": [
    "val rdd = sc.parallelize(List(\"a\", \"b\", \"c\", \"d\", \"e\", \"f\", \"g\", \"h\", \"i\"), 3)\n",
    "val collectResult = rdd.collect"
   ]
  },
  {
   "cell_type": "markdown",
   "id": "b61db812-3954-4752-a262-9ef1280d4ddc",
   "metadata": {},
   "source": [
    "## Count"
   ]
  },
  {
   "cell_type": "code",
   "execution_count": null,
   "id": "a006cd35-62f5-4bb8-9fa2-4c351d492580",
   "metadata": {
    "scrolled": true
   },
   "outputs": [],
   "source": [
    "val rdd = sc.parallelize(List(\"a\", \"b\", \"c\", \"d\", \"e\", \"f\", \"g\", \"h\", \"i\"), 3)\n",
    "val countResult = rdd.count"
   ]
  },
  {
   "cell_type": "markdown",
   "id": "b4c02b21-896c-4bf9-bbc7-46b4965a372d",
   "metadata": {},
   "source": [
    "## CountByKey"
   ]
  },
  {
   "cell_type": "code",
   "execution_count": null,
   "id": "63d66c51-0808-4ff0-bc65-5776d1a7f9e3",
   "metadata": {
    "scrolled": true
   },
   "outputs": [],
   "source": [
    "val rdd = sc.parallelize(List((\"a\", 1), (\"b\", 2), (\"c\", 3), (\"a\", 4), (\"b\", 5)), 3)\n",
    "val countResult = rdd.countByKey"
   ]
  },
  {
   "cell_type": "markdown",
   "id": "d2cd8a17-31b6-47c1-9abd-2aa499bb3e6b",
   "metadata": {},
   "source": [
    "## First"
   ]
  },
  {
   "cell_type": "code",
   "execution_count": null,
   "id": "432d1e77-2625-4e13-a3b8-774d4444422b",
   "metadata": {
    "scrolled": true
   },
   "outputs": [],
   "source": [
    "val rdd = sc.parallelize(List(\"a\", \"b\", \"c\", \"d\", \"e\", \"f\", \"g\", \"h\", \"i\"), 3)\n",
    "val firstResult = rdd.first"
   ]
  },
  {
   "cell_type": "markdown",
   "id": "68ea482e-f869-4159-88b9-e0b06f78babf",
   "metadata": {},
   "source": [
    "## Take"
   ]
  },
  {
   "cell_type": "code",
   "execution_count": null,
   "id": "20d9da58-5df0-45f6-a256-0e5eb26fd656",
   "metadata": {
    "scrolled": true
   },
   "outputs": [],
   "source": [
    "val rdd = sc.parallelize(List(1, 2, 3, 4, 5, 6, 7, 8, 9), 3)\n",
    "val takeResult = rdd.take(3)"
   ]
  },
  {
   "cell_type": "markdown",
   "id": "7d18f8cd-99c4-408e-8f89-8a598ce80786",
   "metadata": {},
   "source": [
    "## TakeSample"
   ]
  },
  {
   "cell_type": "code",
   "execution_count": null,
   "id": "8f8176f4-4d08-41ee-96d4-ba774cc6a3c2",
   "metadata": {
    "scrolled": true
   },
   "outputs": [],
   "source": [
    "val rdd = sc.parallelize(List(1, 2, 3, 4, 5, 6, 7, 8, 9), 3)\n",
    "val takeResult = rdd.takeSample(false, 3)"
   ]
  },
  {
   "cell_type": "markdown",
   "id": "7fe2729b-1454-4385-b6c5-f94e34c7e608",
   "metadata": {},
   "source": [
    "## TakeOrdered"
   ]
  },
  {
   "cell_type": "code",
   "execution_count": null,
   "id": "45fba7e9-79bd-4a3d-b6c4-d386d940dd68",
   "metadata": {
    "scrolled": true
   },
   "outputs": [],
   "source": [
    "val rdd = sc.parallelize(List(1, 9, 2, 8, 3, 7, 4, 6, 5), 3)\n",
    "val takeResult = rdd.takeOrdered(3)"
   ]
  },
  {
   "cell_type": "markdown",
   "id": "3792c3a4-97e3-49d1-a9aa-506a17478614",
   "metadata": {},
   "source": [
    "## Foreach"
   ]
  },
  {
   "cell_type": "code",
   "execution_count": null,
   "id": "b08c5983-b086-4613-912f-673b2fe5d091",
   "metadata": {
    "scrolled": true
   },
   "outputs": [],
   "source": [
    "val rdd = sc.parallelize(List(1, 2, 3, 4, 5, 6, 7, 8, 9), 3)\n",
    "rdd.foreach { e => println(s\"Next item is $e\") }"
   ]
  },
  {
   "cell_type": "markdown",
   "id": "5309ef79-22fb-4cdf-b9bd-4057c31b71e4",
   "metadata": {},
   "source": [
    "## SaveAs"
   ]
  },
  {
   "cell_type": "code",
   "execution_count": null,
   "id": "a34a0f86-e579-4daf-86f0-79f63f06346e",
   "metadata": {
    "scrolled": true
   },
   "outputs": [],
   "source": [
    "import org.apache.hadoop.fs._"
   ]
  },
  {
   "cell_type": "code",
   "execution_count": null,
   "id": "6905bf9e-fdb4-4b30-a201-37573bbbc1e5",
   "metadata": {},
   "outputs": [],
   "source": [
    "val fs = org.apache.hadoop.fs.FileSystem.get(sc.hadoopConfiguration)\n",
    "\n",
    "def deleteFile(fs: FileSystem, file: String): Unit = {\n",
    "    if (fs.exists(new Path(file)))\n",
    "      fs.delete(new Path(file), true)\n",
    "}"
   ]
  },
  {
   "cell_type": "code",
   "execution_count": null,
   "id": "fecb859b-e2ab-4fad-a38e-2c096517f016",
   "metadata": {},
   "outputs": [],
   "source": [
    "val textFile = \"result/txt/textFile\"\n",
    "deleteFile(fs, textFile)"
   ]
  },
  {
   "cell_type": "code",
   "execution_count": null,
   "id": "8987cc0b-c9f0-460d-a866-54b0559fe09c",
   "metadata": {
    "scrolled": true
   },
   "outputs": [],
   "source": [
    "val rdd = sc.parallelize(List(1, 2, 3, 4, 5, 6, 7, 8, 9), 3)\n",
    "rdd.saveAsTextFile(textFile)"
   ]
  },
  {
   "cell_type": "code",
   "execution_count": null,
   "id": "f197ab4c-0731-46e8-abc1-04871bfeba95",
   "metadata": {},
   "outputs": [],
   "source": [
    "val objectFile = \"result/object/objectFile\"\n",
    "deleteFile(fs, objectFile)"
   ]
  },
  {
   "cell_type": "code",
   "execution_count": null,
   "id": "04201e3f-3668-46f4-8434-1ca2d74dcf24",
   "metadata": {
    "scrolled": true
   },
   "outputs": [],
   "source": [
    "val rdd = sc.parallelize(List(1, 2, 3, 4, 5, 6, 7, 8, 9), 3)\n",
    "rdd.saveAsObjectFile(objectFile)"
   ]
  },
  {
   "cell_type": "code",
   "execution_count": null,
   "id": "8e92ce13-e920-4aba-bae4-b02cd1f419ec",
   "metadata": {},
   "outputs": [],
   "source": []
  }
 ],
 "metadata": {
  "kernelspec": {
   "display_name": "Scala (2.12)",
   "language": "scala",
   "name": "scala212"
  },
  "language_info": {
   "codemirror_mode": "text/x-scala",
   "file_extension": ".sc",
   "mimetype": "text/x-scala",
   "name": "scala",
   "nbconvert_exporter": "script",
   "version": "2.12.18"
  }
 },
 "nbformat": 4,
 "nbformat_minor": 5
}
