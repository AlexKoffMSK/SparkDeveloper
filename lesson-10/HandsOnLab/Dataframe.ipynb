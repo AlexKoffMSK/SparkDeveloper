{
 "cells": [
  {
   "cell_type": "code",
   "execution_count": null,
   "id": "e2515a1c-c4f9-4890-aa6d-641bf419cea6",
   "metadata": {
    "pycharm": {
     "name": "#%%\n"
    },
    "scrolled": true
   },
   "outputs": [],
   "source": [
    "import $ivy.`org.apache.spark::spark-sql:3.5.0`"
   ]
  },
  {
   "cell_type": "code",
   "execution_count": null,
   "id": "dc99a5fd-2141-4ffe-afb1-4b0a595a75af",
   "metadata": {
    "pycharm": {
     "name": "#%%\n"
    }
   },
   "outputs": [],
   "source": [
    "import org.apache.log4j.{Level, Logger}\n",
    "Logger.getLogger(\"org\").setLevel(Level.WARN)"
   ]
  },
  {
   "cell_type": "markdown",
   "id": "78ab7dc3-9173-4d9e-9a91-97256abb3a30",
   "metadata": {
    "pycharm": {
     "name": "#%% md\n"
    }
   },
   "source": [
    "## Start"
   ]
  },
  {
   "cell_type": "code",
   "execution_count": null,
   "id": "49835da8-c4d0-461a-a2c8-3c0959118bb4",
   "metadata": {
    "pycharm": {
     "name": "#%%\n"
    }
   },
   "outputs": [],
   "source": [
    "import org.apache.spark.sql._\n",
    "import org.apache.spark.sql.types.{IntegerType, StringType, StructField, StructType}\n",
    "import org.apache.spark.sql.functions._"
   ]
  },
  {
   "cell_type": "code",
   "execution_count": null,
   "id": "7df9de1d-1f63-41b1-999b-69614c723fae",
   "metadata": {
    "pycharm": {
     "name": "#%%\n"
    },
    "scrolled": true
   },
   "outputs": [],
   "source": [
    "val spark = SparkSession\n",
    "                .builder()\n",
    "                .master(\"local[*]\")\n",
    "                .appName(\"Dataframe API\")\n",
    "                .getOrCreate()\n",
    "\n",
    "import spark.implicits._"
   ]
  },
  {
   "cell_type": "code",
   "execution_count": null,
   "id": "59c101c3-900c-4a51-8f5f-bfc0ce535ef9",
   "metadata": {
    "pycharm": {
     "name": "#%%\n"
    }
   },
   "outputs": [],
   "source": [
    "println(s\"spark.version == ${spark.version}\")"
   ]
  },
  {
   "cell_type": "markdown",
   "id": "f0928fb8-44ac-4f97-ab64-94faf88d9e6d",
   "metadata": {
    "pycharm": {
     "name": "#%% md\n"
    }
   },
   "source": [
    "## 1 - Создание DataFrame"
   ]
  },
  {
   "cell_type": "markdown",
   "id": "3dbd336b",
   "metadata": {},
   "source": [
    "### fromRDD"
   ]
  },
  {
   "cell_type": "code",
   "execution_count": null,
   "id": "68e5128a",
   "metadata": {
    "scrolled": true
   },
   "outputs": [],
   "source": [
    "val columns = Seq(\"StudentID\", \"Course\")\n",
    "val data = Seq((\"1\", \"Spark\"), (\"2\", \"Scala\"), (\"3\", \"Java\"))\n",
    "\n",
    "val fromRDD: DataFrame = spark.sparkContext.parallelize(data).toDF(columns: _*)\n",
    "\n",
    "fromRDD.show"
   ]
  },
  {
   "cell_type": "markdown",
   "id": "6af3a0dd",
   "metadata": {},
   "source": [
    "### fromList"
   ]
  },
  {
   "cell_type": "code",
   "execution_count": null,
   "id": "7d4fdcd0",
   "metadata": {},
   "outputs": [],
   "source": [
    "val fromList: DataFrame = data.toDF()\n",
    "\n",
    "fromList.show"
   ]
  },
  {
   "cell_type": "markdown",
   "id": "64564ccb",
   "metadata": {},
   "source": [
    "### createDataFrame"
   ]
  },
  {
   "cell_type": "code",
   "execution_count": null,
   "id": "495197d4",
   "metadata": {},
   "outputs": [],
   "source": [
    "val createDataFrame: DataFrame = spark.createDataFrame(data)\n",
    "\n",
    "createDataFrame.show"
   ]
  },
  {
   "cell_type": "markdown",
   "id": "a3ec3d2e",
   "metadata": {},
   "source": [
    "### withSchema"
   ]
  },
  {
   "cell_type": "code",
   "execution_count": null,
   "id": "c7121de6",
   "metadata": {
    "scrolled": true
   },
   "outputs": [],
   "source": [
    "val withSchema: DataFrame = {\n",
    "    val schema = StructType( Array(\n",
    "      StructField(\"StudentID\", IntegerType, true),\n",
    "      StructField(\"Course\", StringType, true)\n",
    "    ))\n",
    "\n",
    "    val rdd = (spark.sparkContext.parallelize(Seq(\n",
    "      Row(1, \"Spark\"),\n",
    "      Row(2, \"Scala\")\n",
    "    )))\n",
    "\n",
    "    spark.createDataFrame(rdd, schema)\n",
    "}\n",
    "\n",
    "withSchema.show"
   ]
  },
  {
   "cell_type": "code",
   "execution_count": null,
   "id": "b418db08",
   "metadata": {},
   "outputs": [],
   "source": [
    "withSchema.printSchema"
   ]
  },
  {
   "cell_type": "code",
   "execution_count": null,
   "id": "5ef79b4b",
   "metadata": {},
   "outputs": [],
   "source": [
    "withSchema.dtypes"
   ]
  },
  {
   "cell_type": "markdown",
   "id": "8949d910",
   "metadata": {},
   "source": [
    "### fromFile"
   ]
  },
  {
   "cell_type": "code",
   "execution_count": null,
   "id": "24814ffa",
   "metadata": {
    "scrolled": true
   },
   "outputs": [],
   "source": [
    "val fromFile: DataFrame = spark.read.format(\"json\").load(\"data/customer_data.json\")\n",
    "\n",
    "fromFile.show(5, false)"
   ]
  },
  {
   "cell_type": "markdown",
   "id": "bab7d210",
   "metadata": {},
   "source": [
    "## 2 - Операции"
   ]
  },
  {
   "cell_type": "code",
   "execution_count": null,
   "id": "067a8858",
   "metadata": {},
   "outputs": [],
   "source": [
    "val customerDf = fromFile"
   ]
  },
  {
   "cell_type": "markdown",
   "id": "50ddc3ab",
   "metadata": {},
   "source": [
    "### basicOperations"
   ]
  },
  {
   "cell_type": "code",
   "execution_count": null,
   "id": "c371153c",
   "metadata": {},
   "outputs": [],
   "source": [
    "customerDf.printSchema()"
   ]
  },
  {
   "cell_type": "code",
   "execution_count": null,
   "id": "2cc65050",
   "metadata": {
    "scrolled": true
   },
   "outputs": [],
   "source": [
    "customerDf.head"
   ]
  },
  {
   "cell_type": "markdown",
   "id": "f6a9c61d",
   "metadata": {},
   "source": [
    "#### Select"
   ]
  },
  {
   "cell_type": "code",
   "execution_count": null,
   "id": "b78c5d8f",
   "metadata": {
    "scrolled": true
   },
   "outputs": [],
   "source": [
    "customerDf.select(\"Birthdate\", \"Country\").show"
   ]
  },
  {
   "cell_type": "code",
   "execution_count": null,
   "id": "1822538d",
   "metadata": {
    "scrolled": true
   },
   "outputs": [],
   "source": [
    "customerDf.select(col(\"Country\")).show"
   ]
  },
  {
   "cell_type": "code",
   "execution_count": null,
   "id": "f91b725e",
   "metadata": {
    "scrolled": true
   },
   "outputs": [],
   "source": [
    "customerDf.select('Country).show"
   ]
  },
  {
   "cell_type": "code",
   "execution_count": null,
   "id": "ee0f2ed4",
   "metadata": {
    "scrolled": true
   },
   "outputs": [],
   "source": [
    "customerDf.selectExpr(\"Birthdate as Date\").show"
   ]
  },
  {
   "cell_type": "code",
   "execution_count": null,
   "id": "250879d4",
   "metadata": {
    "scrolled": true
   },
   "outputs": [],
   "source": [
    "customerDf.withColumn(\"Flag\", lit(true)).show"
   ]
  },
  {
   "cell_type": "code",
   "execution_count": null,
   "id": "7df0d8f9",
   "metadata": {
    "scrolled": true
   },
   "outputs": [],
   "source": [
    "customerDf.withColumnRenamed(\"Birthdate\", \"Date\").show"
   ]
  },
  {
   "cell_type": "markdown",
   "id": "e39bab1b",
   "metadata": {},
   "source": [
    "#### Filter"
   ]
  },
  {
   "cell_type": "code",
   "execution_count": null,
   "id": "30bc0966",
   "metadata": {
    "scrolled": true
   },
   "outputs": [],
   "source": [
    "customerDf.filter(\"Country = 'Norway'\").show"
   ]
  },
  {
   "cell_type": "code",
   "execution_count": null,
   "id": "cb032124",
   "metadata": {
    "scrolled": true
   },
   "outputs": [],
   "source": [
    "customerDf.where('Country =!= \"Iceland\").show(false)"
   ]
  },
  {
   "cell_type": "markdown",
   "id": "5044e9ab",
   "metadata": {},
   "source": [
    "#### Sort"
   ]
  },
  {
   "cell_type": "code",
   "execution_count": null,
   "id": "c5c70ef1",
   "metadata": {
    "scrolled": true
   },
   "outputs": [],
   "source": [
    "customerDf.sort('CustomerID.desc).show"
   ]
  },
  {
   "cell_type": "code",
   "execution_count": null,
   "id": "99396b99",
   "metadata": {
    "scrolled": true
   },
   "outputs": [],
   "source": [
    "customerDf.orderBy(\"CustomerID\").show"
   ]
  },
  {
   "cell_type": "markdown",
   "id": "4fdc9ec6",
   "metadata": {},
   "source": [
    "#### Repartition"
   ]
  },
  {
   "cell_type": "code",
   "execution_count": null,
   "id": "930858c8-362b-4749-9bea-42d3c74eb44d",
   "metadata": {
    "scrolled": true
   },
   "outputs": [],
   "source": [
    "println(s\"Num partitions: ${customerDf.repartition(5).rdd.getNumPartitions}\")"
   ]
  },
  {
   "cell_type": "code",
   "execution_count": null,
   "id": "93bd54b1",
   "metadata": {
    "scrolled": true
   },
   "outputs": [],
   "source": [
    "println(s\"Num partitions: ${customerDf.rdd.getNumPartitions}\")\n"
   ]
  },
  {
   "cell_type": "code",
   "execution_count": null,
   "id": "1910596b",
   "metadata": {
    "scrolled": true
   },
   "outputs": [],
   "source": [
    "val repartitionedDf = customerDf.repartition(5, col(\"Country\"))\n",
    "println(s\"New num partitions: ${repartitionedDf.rdd.getNumPartitions}\")"
   ]
  },
  {
   "cell_type": "code",
   "execution_count": null,
   "id": "44b583d6",
   "metadata": {
    "scrolled": true
   },
   "outputs": [],
   "source": [
    "println(s\"Num partitions after coalesce: ${repartitionedDf.coalesce(1).rdd.getNumPartitions}\")"
   ]
  },
  {
   "cell_type": "markdown",
   "id": "97975bbd",
   "metadata": {},
   "source": [
    "### functions"
   ]
  },
  {
   "cell_type": "code",
   "execution_count": null,
   "id": "3d3f8758-3334-43dd-8ada-f85d412dba84",
   "metadata": {
    "scrolled": true
   },
   "outputs": [],
   "source": [
    "customerDf.select(\"Birthdate\").show(5)"
   ]
  },
  {
   "cell_type": "code",
   "execution_count": null,
   "id": "e35c3a43",
   "metadata": {
    "scrolled": true
   },
   "outputs": [],
   "source": [
    "customerDf.select(date_format(col(\"Birthdate\"), \"yyyy-MM-dd\").alias(\"bd\")).show(5)"
   ]
  },
  {
   "cell_type": "code",
   "execution_count": null,
   "id": "9d91ec17-53a6-47a3-8b27-9aaba11f390e",
   "metadata": {
    "scrolled": true
   },
   "outputs": [],
   "source": [
    "customerDf.select(\"Name\", \"Username\").show(5)"
   ]
  },
  {
   "cell_type": "code",
   "execution_count": null,
   "id": "c1d84b7a",
   "metadata": {},
   "outputs": [],
   "source": [
    "customerDf.withColumn(\"Identity\", array('Name, 'Username)).printSchema"
   ]
  },
  {
   "cell_type": "code",
   "execution_count": null,
   "id": "5d4294e1-47ff-4300-8514-b2930b8dd9ea",
   "metadata": {
    "scrolled": true
   },
   "outputs": [],
   "source": [
    "customerDf.withColumn(\"Identity\", array('Name, 'Username)).select(\"Name\", \"Username\", \"Identity\").show(5, false)"
   ]
  },
  {
   "cell_type": "markdown",
   "id": "81b17c1f-3197-43bd-b043-a96f256bff3c",
   "metadata": {
    "pycharm": {
     "name": "#%% md\n"
    }
   },
   "source": [
    "### groupBy"
   ]
  },
  {
   "cell_type": "code",
   "execution_count": null,
   "id": "97bfc928-6e23-4c15-b3d3-e9b314fc23e2",
   "metadata": {
    "pycharm": {
     "name": "#%%\n"
    },
    "scrolled": true
   },
   "outputs": [],
   "source": [
    "customerDf.groupBy(\"Country\").agg(count(lit(1))).show"
   ]
  },
  {
   "cell_type": "code",
   "execution_count": null,
   "id": "84b73e30-6cd2-4b6c-84f7-04fd5327711a",
   "metadata": {
    "scrolled": true
   },
   "outputs": [],
   "source": [
    "customerDf.groupBy(\"Country\").count().show"
   ]
  },
  {
   "cell_type": "code",
   "execution_count": null,
   "id": "8e740a2d-6fcc-4a8c-b2bf-3854475701c7",
   "metadata": {
    "scrolled": true
   },
   "outputs": [],
   "source": [
    "customerDf.groupBy(\"Country\", \"Birthdate\").agg(min(\"CustomerID\"), max(\"CustomerID\")).orderBy(\"Country\").show"
   ]
  },
  {
   "cell_type": "markdown",
   "id": "9bbd0b5c-0c8e-4d5f-8b32-27c6ef1793b9",
   "metadata": {},
   "source": [
    "### union"
   ]
  },
  {
   "cell_type": "code",
   "execution_count": null,
   "id": "803b493e-9fdf-4e4a-b5ae-ed4f3d5f242c",
   "metadata": {
    "scrolled": true
   },
   "outputs": [],
   "source": [
    "customerDf.count"
   ]
  },
  {
   "cell_type": "code",
   "execution_count": null,
   "id": "c2ca4043-76ae-462d-b676-b1e4d2dfebb5",
   "metadata": {
    "scrolled": true
   },
   "outputs": [],
   "source": [
    "customerDf.union(customerDf).count"
   ]
  },
  {
   "cell_type": "code",
   "execution_count": null,
   "id": "c156a8b9-8a7f-4f1f-a5ed-a41c6155c4ba",
   "metadata": {},
   "outputs": [],
   "source": [
    "customerDf.count * 5"
   ]
  },
  {
   "cell_type": "code",
   "execution_count": null,
   "id": "9e7c197a-d99b-458a-9791-2c995266078f",
   "metadata": {
    "scrolled": true
   },
   "outputs": [],
   "source": [
    "(1 to 5).toList.map(a => customerDf).reduce((x, y) => x.union(y)).count"
   ]
  },
  {
   "cell_type": "markdown",
   "id": "9a00e4b2",
   "metadata": {},
   "source": [
    "### join"
   ]
  },
  {
   "cell_type": "code",
   "execution_count": null,
   "id": "40cf39a1",
   "metadata": {
    "scrolled": true
   },
   "outputs": [],
   "source": [
    "val retailDf = spark.read.format(\"json\").load(\"data/retail_data.json\")"
   ]
  },
  {
   "cell_type": "code",
   "execution_count": null,
   "id": "916d34e1-e562-468d-bf51-47370b85fa41",
   "metadata": {},
   "outputs": [],
   "source": [
    "customerDf.printSchema"
   ]
  },
  {
   "cell_type": "code",
   "execution_count": null,
   "id": "20889378",
   "metadata": {},
   "outputs": [],
   "source": [
    "retailDf.printSchema"
   ]
  },
  {
   "cell_type": "code",
   "execution_count": null,
   "id": "fe8b62e3-0793-4cf4-86eb-03be86191551",
   "metadata": {},
   "outputs": [],
   "source": [
    "(customerDf.dtypes.map(_._1)).toSet.intersect((retailDf.dtypes.map(_._1)).toSet)"
   ]
  },
  {
   "cell_type": "code",
   "execution_count": null,
   "id": "12be704d",
   "metadata": {
    "scrolled": true
   },
   "outputs": [],
   "source": [
    "customerDf.join(retailDf, \"CustomerID\").show"
   ]
  },
  {
   "cell_type": "code",
   "execution_count": null,
   "id": "90400c03",
   "metadata": {
    "scrolled": true
   },
   "outputs": [],
   "source": [
    "customerDf\n",
    "    .join(retailDf, customerDf(\"CustomerID\") === retailDf(\"CustomerID\"), \"left\")\n",
    "    //.select(\"CustomerID\")\n",
    "    .show"
   ]
  },
  {
   "cell_type": "markdown",
   "id": "45091db0-fbd1-4567-b5eb-faec32fd5325",
   "metadata": {
    "pycharm": {
     "name": "#%% md\n"
    }
   },
   "source": [
    "## Stop"
   ]
  },
  {
   "cell_type": "code",
   "execution_count": null,
   "id": "25e2b3ef-f005-4fa1-b6e5-533bf3fd55e6",
   "metadata": {
    "pycharm": {
     "name": "#%%\n"
    }
   },
   "outputs": [],
   "source": [
    "spark.stop()"
   ]
  }
 ],
 "metadata": {
  "kernelspec": {
   "display_name": "Scala (2.12)",
   "language": "scala",
   "name": "scala212"
  },
  "language_info": {
   "codemirror_mode": "text/x-scala",
   "file_extension": ".sc",
   "mimetype": "text/x-scala",
   "name": "scala",
   "nbconvert_exporter": "script",
   "version": "2.12.18"
  }
 },
 "nbformat": 4,
 "nbformat_minor": 5
}
