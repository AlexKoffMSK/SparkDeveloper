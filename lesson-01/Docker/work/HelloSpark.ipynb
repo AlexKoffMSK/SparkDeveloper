{
 "cells": [
  {
   "cell_type": "code",
   "execution_count": null,
   "id": "e2515a1c-c4f9-4890-aa6d-641bf419cea6",
   "metadata": {
    "scrolled": true
   },
   "outputs": [],
   "source": [
    "import $ivy.`org.apache.spark::spark-sql:3.5.0`\n",
    "import org.apache.log4j.{Level, Logger}\n",
    "Logger.getLogger(\"org\").setLevel(Level.OFF)"
   ]
  },
  {
   "cell_type": "code",
   "execution_count": null,
   "id": "49835da8-c4d0-461a-a2c8-3c0959118bb4",
   "metadata": {},
   "outputs": [],
   "source": [
    "import org.apache.spark.sql.SparkSession\n",
    "import org.apache.spark.sql.functions._\n",
    "import java.sql.Timestamp\n",
    "import java.time._"
   ]
  },
  {
   "cell_type": "code",
   "execution_count": null,
   "id": "7df9de1d-1f63-41b1-999b-69614c723fae",
   "metadata": {
    "scrolled": true
   },
   "outputs": [],
   "source": [
    "val spark = SparkSession\n",
    "                .builder()\n",
    "                .master(\"spark://master:7077\")\n",
    "                .appName(\"Hello Spark\")\n",
    "                .getOrCreate()\n",
    "\n",
    "import spark.implicits._"
   ]
  },
  {
   "cell_type": "code",
   "execution_count": null,
   "id": "59c101c3-900c-4a51-8f5f-bfc0ce535ef9",
   "metadata": {},
   "outputs": [],
   "source": [
    "println(s\"spark.version == ${spark.version}\")"
   ]
  },
  {
   "cell_type": "code",
   "execution_count": null,
   "id": "11f60a79-f610-4973-a8e1-391f53ff22ce",
   "metadata": {
    "scrolled": true
   },
   "outputs": [],
   "source": [
    "val df = List(\n",
    "      (1L, 2.0, \"string1\", LocalDate.of(2000, 1, 1), Timestamp.valueOf(\"2023-01-01 12:00:00\")),\n",
    "      (2L, 3.0, \"string2\", LocalDate.of(2000, 2, 1), Timestamp.valueOf(\"2023-02-01 12:00:00\")),\n",
    "      (3L, 4.0, \"string3\", LocalDate.of(2000, 3, 1), Timestamp.valueOf(\"2023-03-01 12:00:00\"))\n",
    "    ).toDF(\"a\", \"b\", \"c\", \"d\", \"e\")"
   ]
  },
  {
   "cell_type": "code",
   "execution_count": null,
   "id": "72a3e31b-2095-47dd-8528-1e2995755c6a",
   "metadata": {},
   "outputs": [],
   "source": [
    "df.printSchema()"
   ]
  },
  {
   "cell_type": "code",
   "execution_count": null,
   "id": "11b4f0e8-4a87-42f5-bd1f-fbce9e438b5c",
   "metadata": {},
   "outputs": [],
   "source": [
    "df.show()"
   ]
  },
  {
   "cell_type": "code",
   "execution_count": null,
   "id": "17457ede-310a-4b9f-b7f4-410b9a8c40cd",
   "metadata": {},
   "outputs": [],
   "source": [
    "df.withColumn(\"upper_c\", upper($\"c\")).show()"
   ]
  },
  {
   "cell_type": "code",
   "execution_count": null,
   "id": "0e5ae9ac-a8f6-4114-8833-d3a958aab518",
   "metadata": {},
   "outputs": [],
   "source": [
    "df.select(col(\"c\")).show()"
   ]
  },
  {
   "cell_type": "code",
   "execution_count": null,
   "id": "6cbc3349-1f2e-4652-88fb-94d7f8cc1b69",
   "metadata": {},
   "outputs": [],
   "source": [
    "df.filter($\"a\" === 1L).show()"
   ]
  },
  {
   "cell_type": "code",
   "execution_count": null,
   "id": "5439625d-24d5-405c-b42d-53a590b5485a",
   "metadata": {},
   "outputs": [],
   "source": [
    "val df0 = List((1L, \"100000\"), (2L, \"2000\"), (3L, \"3000\")).toDF(\"id\", \"exampleCol\")\n",
    "val df = df0.select($\"id\", col(\"exampleCol\").cast(\"decimal\").alias(\"exampleColDecimal\"))"
   ]
  },
  {
   "cell_type": "code",
   "execution_count": null,
   "id": "9dc13bd4-25de-41c4-8a93-af3d626694b8",
   "metadata": {},
   "outputs": [],
   "source": [
    "df.printSchema"
   ]
  },
  {
   "cell_type": "code",
   "execution_count": null,
   "id": "2a286171-a767-4826-ae80-f3c4f3b56edb",
   "metadata": {},
   "outputs": [],
   "source": [
    "df.filter($\"exampleCol\" === 100000).show"
   ]
  },
  {
   "cell_type": "code",
   "execution_count": null,
   "id": "8d1e7bbc-b073-4bcf-b85c-1e8081babe95",
   "metadata": {},
   "outputs": [],
   "source": [
    "df.filter(col(\"exampleCol\") === 100000).show"
   ]
  },
  {
   "cell_type": "code",
   "execution_count": null,
   "id": "20a08204-9459-4a0b-9bde-b253bf22ea96",
   "metadata": {},
   "outputs": [],
   "source": [
    "df.filter(col(\"exampleCol\") === 100000).explain(\"extended\")"
   ]
  },
  {
   "cell_type": "code",
   "execution_count": null,
   "id": "c7115625-4dfe-4abd-a5b4-41b10e2e1088",
   "metadata": {},
   "outputs": [],
   "source": [
    "val df2 = df0.withColumn(\"exampleColDecimal\", col(\"exampleCol\").cast(\"decimal\")).drop(\"exampleCol\")"
   ]
  },
  {
   "cell_type": "code",
   "execution_count": null,
   "id": "fe19a812-92cf-470b-88b9-a518c5226027",
   "metadata": {},
   "outputs": [],
   "source": [
    "df2.printSchema"
   ]
  },
  {
   "cell_type": "code",
   "execution_count": null,
   "id": "0dd332d9-7392-4437-9a82-746769f6e3e0",
   "metadata": {},
   "outputs": [],
   "source": [
    "df2.filter($\"exampleCol\" === 100000).explain(\"extended\")"
   ]
  },
  {
   "cell_type": "code",
   "execution_count": null,
   "id": "8bb30d66-6a14-485a-8db6-3ffd0284f27d",
   "metadata": {},
   "outputs": [],
   "source": [
    "val people = List((1, \"Vasya\"), (2, \"Petya\")).toDF(\"id\", \"name\")"
   ]
  },
  {
   "cell_type": "code",
   "execution_count": null,
   "id": "2b23a42a-37f9-46e3-82f7-86424f0c199a",
   "metadata": {},
   "outputs": [],
   "source": [
    "people.printSchema"
   ]
  },
  {
   "cell_type": "code",
   "execution_count": null,
   "id": "756fc60a-23f3-42b0-9f03-98e3dd11854f",
   "metadata": {},
   "outputs": [],
   "source": [
    "people.show()"
   ]
  },
  {
   "cell_type": "code",
   "execution_count": null,
   "id": "6e746f08-9e70-4c79-848b-4cee9cf00d81",
   "metadata": {},
   "outputs": [],
   "source": [
    "people.select(\"name\").show()"
   ]
  },
  {
   "cell_type": "code",
   "execution_count": null,
   "id": "c4bcb8d8-b8b5-4ac9-b07f-e43cc5a87136",
   "metadata": {},
   "outputs": [],
   "source": [
    "people.filter($\"id\" > 1).show()"
   ]
  },
  {
   "cell_type": "code",
   "execution_count": null,
   "id": "45b4bdf6-c00c-42f3-a347-03ac94ca876c",
   "metadata": {},
   "outputs": [],
   "source": [
    "people.createOrReplaceTempView(\"people\")"
   ]
  },
  {
   "cell_type": "code",
   "execution_count": null,
   "id": "b51d79d2-3a8b-4c5b-8734-7fe9b2e1e0a9",
   "metadata": {},
   "outputs": [],
   "source": [
    "spark.sql(\"SELECT * FROM people\").show()"
   ]
  },
  {
   "cell_type": "code",
   "execution_count": null,
   "id": "03a02e8a-a0d5-4927-847d-006b79882a0e",
   "metadata": {},
   "outputs": [],
   "source": [
    "val sqlDF1 = spark.sql(\"SELECT * FROM people\")"
   ]
  },
  {
   "cell_type": "code",
   "execution_count": null,
   "id": "6691fdd5-1cd4-4f9c-8b10-712c668bd633",
   "metadata": {},
   "outputs": [],
   "source": [
    "sqlDF1.show()"
   ]
  },
  {
   "cell_type": "code",
   "execution_count": null,
   "id": "fb631f24-6743-4cc2-9264-afc7cd80a88b",
   "metadata": {},
   "outputs": [],
   "source": [
    "val sqlDF2 = spark.sql(\"SELECT * FROM people where id='2'\")"
   ]
  },
  {
   "cell_type": "code",
   "execution_count": null,
   "id": "fe1414d2-5f1a-46fa-be67-d6ce46b75bed",
   "metadata": {},
   "outputs": [],
   "source": [
    "sqlDF2.show()"
   ]
  },
  {
   "cell_type": "code",
   "execution_count": null,
   "id": "d7712287-38a9-4634-92a4-8b7fcb2ee73f",
   "metadata": {},
   "outputs": [],
   "source": []
  }
 ],
 "metadata": {
  "kernelspec": {
   "display_name": "Scala 2.12",
   "language": "scala",
   "name": "scala212"
  },
  "language_info": {
   "codemirror_mode": "text/x-scala",
   "file_extension": ".sc",
   "mimetype": "text/x-scala",
   "name": "scala",
   "nbconvert_exporter": "script",
   "version": "2.12.19"
  }
 },
 "nbformat": 4,
 "nbformat_minor": 5
}
