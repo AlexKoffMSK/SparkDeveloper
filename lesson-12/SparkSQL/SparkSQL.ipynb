{
 "cells": [
  {
   "cell_type": "code",
   "execution_count": 1,
   "id": "b0d22977-ebe9-44f2-be27-e847b10bd2b2",
   "metadata": {},
   "outputs": [
    {
     "data": {
      "text/plain": [
       "\u001b[32mimport \u001b[39m\u001b[36m$ivy.$\u001b[39m"
      ]
     },
     "execution_count": 1,
     "metadata": {},
     "output_type": "execute_result"
    }
   ],
   "source": [
    "import $ivy.`org.apache.spark::spark-sql:3.5.0`"
   ]
  },
  {
   "cell_type": "code",
   "execution_count": 2,
   "id": "c205ccf0-1f60-499b-86bf-b0f1a5352037",
   "metadata": {},
   "outputs": [
    {
     "data": {
      "text/plain": [
       "\u001b[32mimport \u001b[39m\u001b[36morg.apache.log4j.{Level, Logger}\u001b[39m"
      ]
     },
     "execution_count": 2,
     "metadata": {},
     "output_type": "execute_result"
    }
   ],
   "source": [
    "import org.apache.log4j.{Level, Logger}\n",
    "Logger.getLogger(\"org\").setLevel(Level.OFF)"
   ]
  },
  {
   "cell_type": "code",
   "execution_count": 3,
   "id": "e92a7ca3-7597-4737-9d72-a050430d0be0",
   "metadata": {},
   "outputs": [
    {
     "data": {
      "text/plain": [
       "\u001b[32mimport \u001b[39m\u001b[36morg.apache.spark.sql._\u001b[39m\n",
       "\u001b[32mimport \u001b[39m\u001b[36morg.apache.spark.sql.functions._\u001b[39m"
      ]
     },
     "execution_count": 3,
     "metadata": {},
     "output_type": "execute_result"
    }
   ],
   "source": [
    "import org.apache.spark.sql._\n",
    "import org.apache.spark.sql.functions._"
   ]
  },
  {
   "cell_type": "code",
   "execution_count": 4,
   "id": "42fc6b17-f21f-48a8-a9ae-249ff2e7d789",
   "metadata": {
    "scrolled": true
   },
   "outputs": [
    {
     "name": "stderr",
     "output_type": "stream",
     "text": [
      "Using Spark's default log4j profile: org/apache/spark/log4j2-defaults.properties\n",
      "24/09/06 21:16:32 INFO SparkContext: Running Spark version 3.5.0\n",
      "24/09/06 21:16:32 INFO SparkContext: OS info Linux, 6.8.0-40-generic, amd64\n",
      "24/09/06 21:16:32 INFO SparkContext: Java version 11.0.24\n",
      "24/09/06 21:16:33 WARN NativeCodeLoader: Unable to load native-hadoop library for your platform... using builtin-java classes where applicable\n",
      "24/09/06 21:16:33 INFO ResourceUtils: ==============================================================\n",
      "24/09/06 21:16:33 INFO ResourceUtils: No custom resources configured for spark.driver.\n",
      "24/09/06 21:16:33 INFO ResourceUtils: ==============================================================\n",
      "24/09/06 21:16:33 INFO SparkContext: Submitted application: Spark SQL\n",
      "24/09/06 21:16:33 INFO ResourceProfile: Default ResourceProfile created, executor resources: Map(cores -> name: cores, amount: 1, script: , vendor: , memory -> name: memory, amount: 1024, script: , vendor: , offHeap -> name: offHeap, amount: 0, script: , vendor: ), task resources: Map(cpus -> name: cpus, amount: 1.0)\n",
      "24/09/06 21:16:33 INFO ResourceProfile: Limiting resource is cpu\n",
      "24/09/06 21:16:33 INFO ResourceProfileManager: Added ResourceProfile id: 0\n",
      "24/09/06 21:16:33 INFO SecurityManager: Changing view acls to: vadim\n",
      "24/09/06 21:16:33 INFO SecurityManager: Changing modify acls to: vadim\n",
      "24/09/06 21:16:33 INFO SecurityManager: Changing view acls groups to: \n",
      "24/09/06 21:16:33 INFO SecurityManager: Changing modify acls groups to: \n",
      "24/09/06 21:16:33 INFO SecurityManager: SecurityManager: authentication disabled; ui acls disabled; users with view permissions: vadim; groups with view permissions: EMPTY; users with modify permissions: vadim; groups with modify permissions: EMPTY\n",
      "24/09/06 21:16:33 INFO Utils: Successfully started service 'sparkDriver' on port 37323.\n",
      "24/09/06 21:16:33 INFO SparkEnv: Registering MapOutputTracker\n",
      "24/09/06 21:16:33 INFO SparkEnv: Registering BlockManagerMaster\n",
      "24/09/06 21:16:33 INFO BlockManagerMasterEndpoint: Using org.apache.spark.storage.DefaultTopologyMapper for getting topology information\n",
      "24/09/06 21:16:33 INFO BlockManagerMasterEndpoint: BlockManagerMasterEndpoint up\n",
      "24/09/06 21:16:33 INFO SparkEnv: Registering BlockManagerMasterHeartbeat\n",
      "24/09/06 21:16:33 INFO DiskBlockManager: Created local directory at /tmp/blockmgr-7f119d21-fac8-43d3-90fc-006c236fb56b\n",
      "24/09/06 21:16:33 INFO MemoryStore: MemoryStore started with capacity 4.5 GiB\n",
      "24/09/06 21:16:33 INFO SparkEnv: Registering OutputCommitCoordinator\n",
      "24/09/06 21:16:33 INFO JettyUtils: Start Jetty 0.0.0.0:4040 for SparkUI\n",
      "24/09/06 21:16:33 WARN Utils: Service 'SparkUI' could not bind on port 4040. Attempting port 4041.\n",
      "24/09/06 21:16:33 INFO Utils: Successfully started service 'SparkUI' on port 4041.\n",
      "24/09/06 21:16:34 INFO Executor: Starting executor ID driver on host ubuntu\n",
      "24/09/06 21:16:34 INFO Executor: OS info Linux, 6.8.0-40-generic, amd64\n",
      "24/09/06 21:16:34 INFO Executor: Java version 11.0.24\n",
      "24/09/06 21:16:34 INFO Executor: Starting executor with user classpath (userClassPathFirst = false): ''\n",
      "24/09/06 21:16:34 INFO Executor: Created or updated repl class loader org.apache.spark.util.MutableURLClassLoader@33c1fae2 for default.\n",
      "24/09/06 21:16:34 INFO Utils: Successfully started service 'org.apache.spark.network.netty.NettyBlockTransferService' on port 35613.\n",
      "24/09/06 21:16:34 INFO NettyBlockTransferService: Server created on ubuntu:35613\n",
      "24/09/06 21:16:34 INFO BlockManager: Using org.apache.spark.storage.RandomBlockReplicationPolicy for block replication policy\n",
      "24/09/06 21:16:34 INFO BlockManagerMaster: Registering BlockManager BlockManagerId(driver, ubuntu, 35613, None)\n",
      "24/09/06 21:16:34 INFO BlockManagerMasterEndpoint: Registering block manager ubuntu:35613 with 4.5 GiB RAM, BlockManagerId(driver, ubuntu, 35613, None)\n",
      "24/09/06 21:16:34 INFO BlockManagerMaster: Registered BlockManager BlockManagerId(driver, ubuntu, 35613, None)\n",
      "24/09/06 21:16:34 INFO BlockManager: Initialized BlockManager: BlockManagerId(driver, ubuntu, 35613, None)\n"
     ]
    },
    {
     "data": {
      "text/plain": [
       "\u001b[36mspark\u001b[39m: \u001b[32mSparkSession\u001b[39m = org.apache.spark.sql.SparkSession@5aa9c31f\n",
       "\u001b[32mimport \u001b[39m\u001b[36mspark.implicits._\u001b[39m"
      ]
     },
     "execution_count": 4,
     "metadata": {},
     "output_type": "execute_result"
    }
   ],
   "source": [
    "val spark = SparkSession\n",
    "                .builder()\n",
    "                .master(\"local[*]\")\n",
    "                .appName(\"Spark SQL\")\n",
    "                .getOrCreate()\n",
    "\n",
    "import spark.implicits._"
   ]
  },
  {
   "cell_type": "code",
   "execution_count": 5,
   "id": "25d77452-a4f3-4795-a898-211247296a30",
   "metadata": {},
   "outputs": [
    {
     "name": "stdout",
     "output_type": "stream",
     "text": [
      "spark.version == 3.5.0\n"
     ]
    }
   ],
   "source": [
    "println(s\"spark.version == ${spark.version}\")"
   ]
  },
  {
   "cell_type": "code",
   "execution_count": 6,
   "id": "5567071e-689f-4e21-b0bd-bef018305386",
   "metadata": {
    "scrolled": true
   },
   "outputs": [
    {
     "name": "stderr",
     "output_type": "stream",
     "text": [
      "24/09/06 21:16:55 INFO SharedState: Setting hive.metastore.warehouse.dir ('null') to the value of spark.sql.warehouse.dir.\n",
      "24/09/06 21:16:55 INFO SharedState: Warehouse path is 'file:/home/vadim/workspace/Spark/SparkSQL/spark-warehouse'.\n",
      "24/09/06 21:16:56 INFO InMemoryFileIndex: It took 38 ms to list leaf files for 1 paths.\n",
      "24/09/06 21:16:56 INFO InMemoryFileIndex: It took 2 ms to list leaf files for 1 paths.\n",
      "24/09/06 21:16:58 INFO FileSourceStrategy: Pushed Filters: \n",
      "24/09/06 21:16:58 INFO FileSourceStrategy: Post-Scan Filters: \n",
      "24/09/06 21:16:58 INFO MemoryStore: Block broadcast_0 stored as values in memory (estimated size 198.5 KiB, free 4.5 GiB)\n",
      "24/09/06 21:16:58 INFO MemoryStore: Block broadcast_0_piece0 stored as bytes in memory (estimated size 34.0 KiB, free 4.5 GiB)\n",
      "24/09/06 21:16:58 INFO BlockManagerInfo: Added broadcast_0_piece0 in memory on ubuntu:35613 (size: 34.0 KiB, free: 4.5 GiB)\n",
      "24/09/06 21:16:58 INFO SparkContext: Created broadcast 0 from load at cell6.sc:1\n",
      "24/09/06 21:16:58 INFO FileSourceScanExec: Planning scan with bin packing, max size: 4194304 bytes, open cost is considered as scanning 4194304 bytes.\n",
      "24/09/06 21:16:58 INFO SparkContext: Starting job: load at cell6.sc:1\n",
      "24/09/06 21:16:58 INFO DAGScheduler: Got job 0 (load at cell6.sc:1) with 1 output partitions\n",
      "24/09/06 21:16:58 INFO DAGScheduler: Final stage: ResultStage 0 (load at cell6.sc:1)\n",
      "24/09/06 21:16:58 INFO DAGScheduler: Parents of final stage: List()\n",
      "24/09/06 21:16:58 INFO DAGScheduler: Missing parents: List()\n",
      "24/09/06 21:16:58 INFO DAGScheduler: Submitting ResultStage 0 (MapPartitionsRDD[3] at load at cell6.sc:1), which has no missing parents\n",
      "24/09/06 21:16:59 INFO MemoryStore: Block broadcast_1 stored as values in memory (estimated size 15.8 KiB, free 4.5 GiB)\n",
      "24/09/06 21:16:59 INFO MemoryStore: Block broadcast_1_piece0 stored as bytes in memory (estimated size 7.4 KiB, free 4.5 GiB)\n",
      "24/09/06 21:16:59 INFO BlockManagerInfo: Added broadcast_1_piece0 in memory on ubuntu:35613 (size: 7.4 KiB, free: 4.5 GiB)\n",
      "24/09/06 21:16:59 INFO SparkContext: Created broadcast 1 from broadcast at DAGScheduler.scala:1580\n",
      "24/09/06 21:16:59 INFO DAGScheduler: Submitting 1 missing tasks from ResultStage 0 (MapPartitionsRDD[3] at load at cell6.sc:1) (first 15 tasks are for partitions Vector(0))\n",
      "24/09/06 21:16:59 INFO TaskSchedulerImpl: Adding task set 0.0 with 1 tasks resource profile 0\n",
      "24/09/06 21:16:59 INFO TaskSetManager: Starting task 0.0 in stage 0.0 (TID 0) (ubuntu, executor driver, partition 0, PROCESS_LOCAL, 8245 bytes) \n",
      "24/09/06 21:16:59 INFO Executor: Running task 0.0 in stage 0.0 (TID 0)\n",
      "24/09/06 21:16:59 INFO FileScanRDD: Reading File path: file:///home/vadim/workspace/Spark/SparkSQL/data/customer_data.json, range: 0-108790, partition values: [empty row]\n",
      "24/09/06 21:16:59 INFO CodeGenerator: Code generated in 224.56654 ms\n",
      "24/09/06 21:16:59 INFO Executor: Finished task 0.0 in stage 0.0 (TID 0). 2119 bytes result sent to driver\n",
      "24/09/06 21:16:59 INFO TaskSetManager: Finished task 0.0 in stage 0.0 (TID 0) in 547 ms on ubuntu (executor driver) (1/1)\n",
      "24/09/06 21:16:59 INFO TaskSchedulerImpl: Removed TaskSet 0.0, whose tasks have all completed, from pool \n",
      "24/09/06 21:16:59 INFO DAGScheduler: ResultStage 0 (load at cell6.sc:1) finished in 0,730 s\n",
      "24/09/06 21:16:59 INFO DAGScheduler: Job 0 is finished. Cancelling potential speculative or zombie tasks for this job\n",
      "24/09/06 21:16:59 INFO TaskSchedulerImpl: Killing all running tasks in stage 0: Stage finished\n",
      "24/09/06 21:16:59 INFO DAGScheduler: Job 0 finished: load at cell6.sc:1, took 0,817325 s\n",
      "24/09/06 21:16:59 INFO FileSourceStrategy: Pushed Filters: \n",
      "24/09/06 21:16:59 INFO FileSourceStrategy: Post-Scan Filters: \n",
      "24/09/06 21:16:59 INFO CodeGenerator: Code generated in 24.399623 ms\n",
      "24/09/06 21:16:59 INFO MemoryStore: Block broadcast_2 stored as values in memory (estimated size 198.4 KiB, free 4.5 GiB)\n",
      "24/09/06 21:16:59 INFO MemoryStore: Block broadcast_2_piece0 stored as bytes in memory (estimated size 34.0 KiB, free 4.5 GiB)\n",
      "24/09/06 21:16:59 INFO BlockManagerInfo: Added broadcast_2_piece0 in memory on ubuntu:35613 (size: 34.0 KiB, free: 4.5 GiB)\n",
      "24/09/06 21:16:59 INFO SparkContext: Created broadcast 2 from show at cell6.sc:2\n",
      "24/09/06 21:16:59 INFO FileSourceScanExec: Planning scan with bin packing, max size: 4194304 bytes, open cost is considered as scanning 4194304 bytes.\n",
      "24/09/06 21:16:59 INFO SparkContext: Starting job: show at cell6.sc:2\n",
      "24/09/06 21:17:00 INFO DAGScheduler: Got job 1 (show at cell6.sc:2) with 1 output partitions\n",
      "24/09/06 21:17:00 INFO DAGScheduler: Final stage: ResultStage 1 (show at cell6.sc:2)\n",
      "24/09/06 21:17:00 INFO DAGScheduler: Parents of final stage: List()\n",
      "24/09/06 21:17:00 INFO DAGScheduler: Missing parents: List()\n",
      "24/09/06 21:17:00 INFO DAGScheduler: Submitting ResultStage 1 (MapPartitionsRDD[7] at show at cell6.sc:2), which has no missing parents\n",
      "24/09/06 21:17:00 INFO MemoryStore: Block broadcast_3 stored as values in memory (estimated size 17.0 KiB, free 4.5 GiB)\n",
      "24/09/06 21:17:00 INFO MemoryStore: Block broadcast_3_piece0 stored as bytes in memory (estimated size 7.6 KiB, free 4.5 GiB)\n",
      "24/09/06 21:17:00 INFO BlockManagerInfo: Added broadcast_3_piece0 in memory on ubuntu:35613 (size: 7.6 KiB, free: 4.5 GiB)\n",
      "24/09/06 21:17:00 INFO SparkContext: Created broadcast 3 from broadcast at DAGScheduler.scala:1580\n",
      "24/09/06 21:17:00 INFO DAGScheduler: Submitting 1 missing tasks from ResultStage 1 (MapPartitionsRDD[7] at show at cell6.sc:2) (first 15 tasks are for partitions Vector(0))\n",
      "24/09/06 21:17:00 INFO TaskSchedulerImpl: Adding task set 1.0 with 1 tasks resource profile 0\n",
      "24/09/06 21:17:00 INFO TaskSetManager: Starting task 0.0 in stage 1.0 (TID 1) (ubuntu, executor driver, partition 0, PROCESS_LOCAL, 8245 bytes) \n",
      "24/09/06 21:17:00 INFO Executor: Running task 0.0 in stage 1.0 (TID 1)\n",
      "24/09/06 21:17:00 INFO CodeGenerator: Code generated in 26.315725 ms\n",
      "24/09/06 21:17:00 INFO FileScanRDD: Reading File path: file:///home/vadim/workspace/Spark/SparkSQL/data/customer_data.json, range: 0-108790, partition values: [empty row]\n",
      "24/09/06 21:17:00 INFO CodeGenerator: Code generated in 17.325984 ms\n",
      "24/09/06 21:17:00 INFO Executor: Finished task 0.0 in stage 1.0 (TID 1). 2523 bytes result sent to driver\n",
      "24/09/06 21:17:00 INFO TaskSetManager: Finished task 0.0 in stage 1.0 (TID 1) in 141 ms on ubuntu (executor driver) (1/1)\n",
      "24/09/06 21:17:00 INFO TaskSchedulerImpl: Removed TaskSet 1.0, whose tasks have all completed, from pool \n",
      "24/09/06 21:17:00 INFO DAGScheduler: ResultStage 1 (show at cell6.sc:2) finished in 0,180 s\n",
      "24/09/06 21:17:00 INFO DAGScheduler: Job 1 is finished. Cancelling potential speculative or zombie tasks for this job\n",
      "24/09/06 21:17:00 INFO TaskSchedulerImpl: Killing all running tasks in stage 1: Stage finished\n",
      "24/09/06 21:17:00 INFO DAGScheduler: Job 1 finished: show at cell6.sc:2, took 0,199391 s\n",
      "24/09/06 21:17:00 INFO CodeGenerator: Code generated in 25.463959 ms\n"
     ]
    },
    {
     "name": "stdout",
     "output_type": "stream",
     "text": [
      "+------------------------------------------------------+-------------------+--------------+----------+------------------------+---------------+----------------+\n",
      "|Address                                               |Birthdate          |Country       |CustomerID|Email                   |Name           |Username        |\n",
      "+------------------------------------------------------+-------------------+--------------+----------+------------------------+---------------+----------------+\n",
      "|Unit 1047 Box 4089\\nDPO AA 57348                      |1994-02-20 00:46:27|United Kingdom|12346     |cooperalexis@hotmail.com|Lindsay Cowan  |valenciajennifer|\n",
      "|55711 Janet Plaza Apt. 865\\nChristinachester, CT 62716|1988-06-21 00:15:34|Iceland       |12347     |timothy78@hotmail.com   |Katherine David|hillrachel      |\n",
      "|Unit 2676 Box 9352\\nDPO AA 38560                      |1974-11-26 15:30:20|Finland       |12348     |tcrawford@gmail.com     |Leslie Martinez|serranobrian    |\n",
      "|2765 Powers Meadow\\nHeatherfurt, CT 53165             |1977-05-06 23:57:35|Italy         |12349     |dustin37@yahoo.com      |Brad Cardenas  |charleshudson   |\n",
      "|17677 Mark Crest\\nWalterberg, IA 39017                |1996-09-13 19:14:27|Norway        |12350     |amyholland@yahoo.com    |Natalie Ford   |gregoryharrison |\n",
      "+------------------------------------------------------+-------------------+--------------+----------+------------------------+---------------+----------------+\n",
      "only showing top 5 rows\n",
      "\n"
     ]
    },
    {
     "data": {
      "text/plain": [
       "\u001b[36mcustomerDF\u001b[39m: \u001b[32mDataFrame\u001b[39m = [Address: string, Birthdate: string ... 5 more fields]"
      ]
     },
     "execution_count": 6,
     "metadata": {},
     "output_type": "execute_result"
    }
   ],
   "source": [
    "val customerDF = spark.read.format(\"json\").load(\"data/customer_data.json\")\n",
    "customerDF.show(5, false)"
   ]
  },
  {
   "cell_type": "code",
   "execution_count": 7,
   "id": "ad0ee3cc-f323-4c82-bd63-995e29f45550",
   "metadata": {},
   "outputs": [],
   "source": [
    "customerDF.createOrReplaceTempView(\"customer\")"
   ]
  },
  {
   "cell_type": "code",
   "execution_count": 8,
   "id": "f0972a67-b860-4b7d-9ba9-ee8a629bca48",
   "metadata": {},
   "outputs": [
    {
     "data": {
      "text/plain": [
       "\u001b[36mres8\u001b[39m: \u001b[32mDataFrame\u001b[39m = [Birthdate: string, Country: string]"
      ]
     },
     "execution_count": 8,
     "metadata": {},
     "output_type": "execute_result"
    }
   ],
   "source": [
    "spark.sql(\"select Birthdate, Country from customer\")"
   ]
  },
  {
   "cell_type": "code",
   "execution_count": 9,
   "id": "078f44ea-b558-4745-a5a4-55d1a72adb59",
   "metadata": {
    "scrolled": true
   },
   "outputs": [
    {
     "name": "stderr",
     "output_type": "stream",
     "text": [
      "24/09/06 21:17:26 INFO FileSourceStrategy: Pushed Filters: \n",
      "24/09/06 21:17:26 INFO FileSourceStrategy: Post-Scan Filters: \n",
      "24/09/06 21:17:26 INFO CodeGenerator: Code generated in 9.968451 ms\n",
      "24/09/06 21:17:26 INFO MemoryStore: Block broadcast_4 stored as values in memory (estimated size 198.4 KiB, free 4.5 GiB)\n",
      "24/09/06 21:17:26 INFO MemoryStore: Block broadcast_4_piece0 stored as bytes in memory (estimated size 34.0 KiB, free 4.5 GiB)\n",
      "24/09/06 21:17:26 INFO BlockManagerInfo: Added broadcast_4_piece0 in memory on ubuntu:35613 (size: 34.0 KiB, free: 4.5 GiB)\n",
      "24/09/06 21:17:26 INFO SparkContext: Created broadcast 4 from show at cell9.sc:1\n",
      "24/09/06 21:17:26 INFO FileSourceScanExec: Planning scan with bin packing, max size: 4194304 bytes, open cost is considered as scanning 4194304 bytes.\n",
      "24/09/06 21:17:26 INFO SparkContext: Starting job: show at cell9.sc:1\n",
      "24/09/06 21:17:26 INFO DAGScheduler: Got job 2 (show at cell9.sc:1) with 1 output partitions\n",
      "24/09/06 21:17:26 INFO DAGScheduler: Final stage: ResultStage 2 (show at cell9.sc:1)\n",
      "24/09/06 21:17:26 INFO DAGScheduler: Parents of final stage: List()\n",
      "24/09/06 21:17:26 INFO DAGScheduler: Missing parents: List()\n",
      "24/09/06 21:17:26 INFO DAGScheduler: Submitting ResultStage 2 (MapPartitionsRDD[11] at show at cell9.sc:1), which has no missing parents\n",
      "24/09/06 21:17:26 INFO MemoryStore: Block broadcast_5 stored as values in memory (estimated size 14.7 KiB, free 4.5 GiB)\n",
      "24/09/06 21:17:26 INFO MemoryStore: Block broadcast_5_piece0 stored as bytes in memory (estimated size 7.1 KiB, free 4.5 GiB)\n",
      "24/09/06 21:17:26 INFO BlockManagerInfo: Added broadcast_5_piece0 in memory on ubuntu:35613 (size: 7.1 KiB, free: 4.5 GiB)\n",
      "24/09/06 21:17:26 INFO SparkContext: Created broadcast 5 from broadcast at DAGScheduler.scala:1580\n",
      "24/09/06 21:17:26 INFO DAGScheduler: Submitting 1 missing tasks from ResultStage 2 (MapPartitionsRDD[11] at show at cell9.sc:1) (first 15 tasks are for partitions Vector(0))\n",
      "24/09/06 21:17:26 INFO TaskSchedulerImpl: Adding task set 2.0 with 1 tasks resource profile 0\n",
      "24/09/06 21:17:26 INFO TaskSetManager: Starting task 0.0 in stage 2.0 (TID 2) (ubuntu, executor driver, partition 0, PROCESS_LOCAL, 8245 bytes) \n",
      "24/09/06 21:17:26 INFO Executor: Running task 0.0 in stage 2.0 (TID 2)\n",
      "24/09/06 21:17:26 INFO CodeGenerator: Code generated in 11.707051 ms\n",
      "24/09/06 21:17:26 INFO FileScanRDD: Reading File path: file:///home/vadim/workspace/Spark/SparkSQL/data/customer_data.json, range: 0-108790, partition values: [empty row]\n",
      "24/09/06 21:17:26 INFO CodeGenerator: Code generated in 10.555633 ms\n",
      "24/09/06 21:17:26 INFO Executor: Finished task 0.0 in stage 2.0 (TID 2). 1720 bytes result sent to driver\n",
      "24/09/06 21:17:26 INFO TaskSetManager: Finished task 0.0 in stage 2.0 (TID 2) in 55 ms on ubuntu (executor driver) (1/1)\n",
      "24/09/06 21:17:26 INFO TaskSchedulerImpl: Removed TaskSet 2.0, whose tasks have all completed, from pool \n",
      "24/09/06 21:17:26 INFO DAGScheduler: ResultStage 2 (show at cell9.sc:1) finished in 0,089 s\n",
      "24/09/06 21:17:26 INFO DAGScheduler: Job 2 is finished. Cancelling potential speculative or zombie tasks for this job\n",
      "24/09/06 21:17:26 INFO TaskSchedulerImpl: Killing all running tasks in stage 2: Stage finished\n",
      "24/09/06 21:17:26 INFO DAGScheduler: Job 2 finished: show at cell9.sc:1, took 0,115653 s\n",
      "24/09/06 21:17:26 INFO CodeGenerator: Code generated in 11.052238 ms\n"
     ]
    },
    {
     "name": "stdout",
     "output_type": "stream",
     "text": [
      "+-------------------+--------------+\n",
      "|Birthdate          |Country       |\n",
      "+-------------------+--------------+\n",
      "|1994-02-20 00:46:27|United Kingdom|\n",
      "|1988-06-21 00:15:34|Iceland       |\n",
      "|1974-11-26 15:30:20|Finland       |\n",
      "|1977-05-06 23:57:35|Italy         |\n",
      "|1996-09-13 19:14:27|Norway        |\n",
      "+-------------------+--------------+\n",
      "only showing top 5 rows\n",
      "\n"
     ]
    }
   ],
   "source": [
    "spark.sql(\"select Birthdate, Country from customer\").show(5, false)"
   ]
  },
  {
   "cell_type": "code",
   "execution_count": 10,
   "id": "84f82b4d-3432-47ab-831b-6144aae62bd5",
   "metadata": {
    "scrolled": true
   },
   "outputs": [
    {
     "name": "stderr",
     "output_type": "stream",
     "text": [
      "24/09/06 21:17:44 INFO FileSourceStrategy: Pushed Filters: \n",
      "24/09/06 21:17:44 INFO FileSourceStrategy: Post-Scan Filters: \n",
      "24/09/06 21:17:44 INFO MemoryStore: Block broadcast_6 stored as values in memory (estimated size 198.4 KiB, free 4.5 GiB)\n",
      "24/09/06 21:17:44 INFO MemoryStore: Block broadcast_6_piece0 stored as bytes in memory (estimated size 34.0 KiB, free 4.5 GiB)\n",
      "24/09/06 21:17:44 INFO BlockManagerInfo: Added broadcast_6_piece0 in memory on ubuntu:35613 (size: 34.0 KiB, free: 4.5 GiB)\n",
      "24/09/06 21:17:44 INFO SparkContext: Created broadcast 6 from show at cell10.sc:1\n",
      "24/09/06 21:17:44 INFO FileSourceScanExec: Planning scan with bin packing, max size: 4194304 bytes, open cost is considered as scanning 4194304 bytes.\n",
      "24/09/06 21:17:44 INFO SparkContext: Starting job: show at cell10.sc:1\n",
      "24/09/06 21:17:44 INFO DAGScheduler: Got job 3 (show at cell10.sc:1) with 1 output partitions\n",
      "24/09/06 21:17:44 INFO DAGScheduler: Final stage: ResultStage 3 (show at cell10.sc:1)\n",
      "24/09/06 21:17:44 INFO DAGScheduler: Parents of final stage: List()\n",
      "24/09/06 21:17:44 INFO DAGScheduler: Missing parents: List()\n",
      "24/09/06 21:17:44 INFO DAGScheduler: Submitting ResultStage 3 (MapPartitionsRDD[15] at show at cell10.sc:1), which has no missing parents\n",
      "24/09/06 21:17:44 INFO MemoryStore: Block broadcast_7 stored as values in memory (estimated size 14.6 KiB, free 4.5 GiB)\n",
      "24/09/06 21:17:45 INFO MemoryStore: Block broadcast_7_piece0 stored as bytes in memory (estimated size 7.1 KiB, free 4.5 GiB)\n",
      "24/09/06 21:17:45 INFO BlockManagerInfo: Added broadcast_7_piece0 in memory on ubuntu:35613 (size: 7.1 KiB, free: 4.5 GiB)\n",
      "24/09/06 21:17:45 INFO SparkContext: Created broadcast 7 from broadcast at DAGScheduler.scala:1580\n",
      "24/09/06 21:17:45 INFO DAGScheduler: Submitting 1 missing tasks from ResultStage 3 (MapPartitionsRDD[15] at show at cell10.sc:1) (first 15 tasks are for partitions Vector(0))\n",
      "24/09/06 21:17:45 INFO TaskSchedulerImpl: Adding task set 3.0 with 1 tasks resource profile 0\n",
      "24/09/06 21:17:45 INFO TaskSetManager: Starting task 0.0 in stage 3.0 (TID 3) (ubuntu, executor driver, partition 0, PROCESS_LOCAL, 8245 bytes) \n",
      "24/09/06 21:17:45 INFO Executor: Running task 0.0 in stage 3.0 (TID 3)\n",
      "24/09/06 21:17:45 INFO FileScanRDD: Reading File path: file:///home/vadim/workspace/Spark/SparkSQL/data/customer_data.json, range: 0-108790, partition values: [empty row]\n",
      "24/09/06 21:17:45 INFO Executor: Finished task 0.0 in stage 3.0 (TID 3). 1763 bytes result sent to driver\n",
      "24/09/06 21:17:45 INFO TaskSetManager: Finished task 0.0 in stage 3.0 (TID 3) in 33 ms on ubuntu (executor driver) (1/1)\n",
      "24/09/06 21:17:45 INFO TaskSchedulerImpl: Removed TaskSet 3.0, whose tasks have all completed, from pool \n",
      "24/09/06 21:17:45 INFO DAGScheduler: ResultStage 3 (show at cell10.sc:1) finished in 0,056 s\n",
      "24/09/06 21:17:45 INFO DAGScheduler: Job 3 is finished. Cancelling potential speculative or zombie tasks for this job\n",
      "24/09/06 21:17:45 INFO TaskSchedulerImpl: Killing all running tasks in stage 3: Stage finished\n",
      "24/09/06 21:17:45 INFO DAGScheduler: Job 3 finished: show at cell10.sc:1, took 0,072898 s\n"
     ]
    },
    {
     "name": "stdout",
     "output_type": "stream",
     "text": [
      "+-------------------+--------------+\n",
      "|Date               |Country       |\n",
      "+-------------------+--------------+\n",
      "|1994-02-20 00:46:27|United Kingdom|\n",
      "|1988-06-21 00:15:34|Iceland       |\n",
      "|1974-11-26 15:30:20|Finland       |\n",
      "|1977-05-06 23:57:35|Italy         |\n",
      "|1996-09-13 19:14:27|Norway        |\n",
      "+-------------------+--------------+\n",
      "only showing top 5 rows\n",
      "\n"
     ]
    }
   ],
   "source": [
    "spark.sql(\"select Birthdate as Date, Country from customer\").show(5, false)"
   ]
  },
  {
   "cell_type": "code",
   "execution_count": 11,
   "id": "ab4fa6db-bd77-4f41-b7d9-47c5b7298a54",
   "metadata": {
    "scrolled": true
   },
   "outputs": [
    {
     "name": "stderr",
     "output_type": "stream",
     "text": [
      "24/09/06 21:18:02 INFO FileSourceStrategy: Pushed Filters: \n",
      "24/09/06 21:18:02 INFO FileSourceStrategy: Post-Scan Filters: \n",
      "24/09/06 21:18:02 INFO CodeGenerator: Code generated in 10.12724 ms\n",
      "24/09/06 21:18:02 INFO MemoryStore: Block broadcast_8 stored as values in memory (estimated size 198.4 KiB, free 4.5 GiB)\n",
      "24/09/06 21:18:02 INFO MemoryStore: Block broadcast_8_piece0 stored as bytes in memory (estimated size 34.0 KiB, free 4.5 GiB)\n",
      "24/09/06 21:18:02 INFO BlockManagerInfo: Added broadcast_8_piece0 in memory on ubuntu:35613 (size: 34.0 KiB, free: 4.5 GiB)\n",
      "24/09/06 21:18:02 INFO SparkContext: Created broadcast 8 from show at cell11.sc:1\n",
      "24/09/06 21:18:02 INFO FileSourceScanExec: Planning scan with bin packing, max size: 4194304 bytes, open cost is considered as scanning 4194304 bytes.\n",
      "24/09/06 21:18:02 INFO SparkContext: Starting job: show at cell11.sc:1\n",
      "24/09/06 21:18:02 INFO DAGScheduler: Got job 4 (show at cell11.sc:1) with 1 output partitions\n",
      "24/09/06 21:18:02 INFO DAGScheduler: Final stage: ResultStage 4 (show at cell11.sc:1)\n",
      "24/09/06 21:18:02 INFO DAGScheduler: Parents of final stage: List()\n",
      "24/09/06 21:18:02 INFO DAGScheduler: Missing parents: List()\n",
      "24/09/06 21:18:02 INFO DAGScheduler: Submitting ResultStage 4 (MapPartitionsRDD[19] at show at cell11.sc:1), which has no missing parents\n",
      "24/09/06 21:18:02 INFO MemoryStore: Block broadcast_9 stored as values in memory (estimated size 14.8 KiB, free 4.5 GiB)\n",
      "24/09/06 21:18:02 INFO MemoryStore: Block broadcast_9_piece0 stored as bytes in memory (estimated size 7.2 KiB, free 4.5 GiB)\n",
      "24/09/06 21:18:02 INFO BlockManagerInfo: Added broadcast_9_piece0 in memory on ubuntu:35613 (size: 7.2 KiB, free: 4.5 GiB)\n",
      "24/09/06 21:18:02 INFO SparkContext: Created broadcast 9 from broadcast at DAGScheduler.scala:1580\n",
      "24/09/06 21:18:02 INFO DAGScheduler: Submitting 1 missing tasks from ResultStage 4 (MapPartitionsRDD[19] at show at cell11.sc:1) (first 15 tasks are for partitions Vector(0))\n",
      "24/09/06 21:18:02 INFO TaskSchedulerImpl: Adding task set 4.0 with 1 tasks resource profile 0\n",
      "24/09/06 21:18:02 INFO TaskSetManager: Starting task 0.0 in stage 4.0 (TID 4) (ubuntu, executor driver, partition 0, PROCESS_LOCAL, 8245 bytes) \n",
      "24/09/06 21:18:02 INFO Executor: Running task 0.0 in stage 4.0 (TID 4)\n",
      "24/09/06 21:18:02 INFO CodeGenerator: Code generated in 9.639476 ms\n",
      "24/09/06 21:18:02 INFO FileScanRDD: Reading File path: file:///home/vadim/workspace/Spark/SparkSQL/data/customer_data.json, range: 0-108790, partition values: [empty row]\n",
      "24/09/06 21:18:02 INFO Executor: Finished task 0.0 in stage 4.0 (TID 4). 1733 bytes result sent to driver\n",
      "24/09/06 21:18:02 INFO TaskSetManager: Finished task 0.0 in stage 4.0 (TID 4) in 43 ms on ubuntu (executor driver) (1/1)\n",
      "24/09/06 21:18:02 INFO TaskSchedulerImpl: Removed TaskSet 4.0, whose tasks have all completed, from pool \n",
      "24/09/06 21:18:02 INFO DAGScheduler: ResultStage 4 (show at cell11.sc:1) finished in 0,075 s\n",
      "24/09/06 21:18:02 INFO DAGScheduler: Job 4 is finished. Cancelling potential speculative or zombie tasks for this job\n",
      "24/09/06 21:18:02 INFO TaskSchedulerImpl: Killing all running tasks in stage 4: Stage finished\n",
      "24/09/06 21:18:02 INFO DAGScheduler: Job 4 finished: show at cell11.sc:1, took 0,091553 s\n",
      "24/09/06 21:18:02 INFO CodeGenerator: Code generated in 23.305188 ms\n"
     ]
    },
    {
     "name": "stdout",
     "output_type": "stream",
     "text": [
      "+-------------------+--------------+----+\n",
      "|Date               |Country       |Flag|\n",
      "+-------------------+--------------+----+\n",
      "|1994-02-20 00:46:27|United Kingdom|true|\n",
      "|1988-06-21 00:15:34|Iceland       |true|\n",
      "|1974-11-26 15:30:20|Finland       |true|\n",
      "|1977-05-06 23:57:35|Italy         |true|\n",
      "|1996-09-13 19:14:27|Norway        |true|\n",
      "+-------------------+--------------+----+\n",
      "only showing top 5 rows\n",
      "\n"
     ]
    }
   ],
   "source": [
    "spark.sql(\"select Birthdate as Date, Country, true as Flag from customer\").show(5, false)"
   ]
  },
  {
   "cell_type": "code",
   "execution_count": 12,
   "id": "faa4178a-4f61-4403-acbb-5b33f7806c89",
   "metadata": {},
   "outputs": [
    {
     "name": "stdout",
     "output_type": "stream",
     "text": [
      "root\n",
      " |-- Date: string (nullable = true)\n",
      " |-- Country: string (nullable = true)\n",
      " |-- Flag: boolean (nullable = false)\n",
      "\n"
     ]
    }
   ],
   "source": [
    "spark.sql(\"select Birthdate as Date, Country, true as Flag from customer\").printSchema"
   ]
  },
  {
   "cell_type": "code",
   "execution_count": 13,
   "id": "a665459b-edb1-433f-a231-92e7dadb44a6",
   "metadata": {
    "scrolled": true
   },
   "outputs": [
    {
     "name": "stderr",
     "output_type": "stream",
     "text": [
      "24/09/06 21:18:25 INFO FileSourceStrategy: Pushed Filters: IsNotNull(Country),EqualTo(Country,Norway)\n",
      "24/09/06 21:18:25 INFO FileSourceStrategy: Post-Scan Filters: isnotnull(Country#10),(Country#10 = Norway)\n",
      "24/09/06 21:18:25 INFO CodeGenerator: Code generated in 20.20561 ms\n",
      "24/09/06 21:18:25 INFO MemoryStore: Block broadcast_10 stored as values in memory (estimated size 198.4 KiB, free 4.5 GiB)\n",
      "24/09/06 21:18:25 INFO MemoryStore: Block broadcast_10_piece0 stored as bytes in memory (estimated size 34.0 KiB, free 4.5 GiB)\n",
      "24/09/06 21:18:25 INFO BlockManagerInfo: Added broadcast_10_piece0 in memory on ubuntu:35613 (size: 34.0 KiB, free: 4.5 GiB)\n",
      "24/09/06 21:18:25 INFO SparkContext: Created broadcast 10 from show at cell13.sc:1\n",
      "24/09/06 21:18:25 INFO FileSourceScanExec: Planning scan with bin packing, max size: 4194304 bytes, open cost is considered as scanning 4194304 bytes.\n",
      "24/09/06 21:18:25 INFO SparkContext: Starting job: show at cell13.sc:1\n",
      "24/09/06 21:18:25 INFO DAGScheduler: Got job 5 (show at cell13.sc:1) with 1 output partitions\n",
      "24/09/06 21:18:25 INFO DAGScheduler: Final stage: ResultStage 5 (show at cell13.sc:1)\n",
      "24/09/06 21:18:25 INFO DAGScheduler: Parents of final stage: List()\n",
      "24/09/06 21:18:25 INFO DAGScheduler: Missing parents: List()\n",
      "24/09/06 21:18:25 INFO DAGScheduler: Submitting ResultStage 5 (MapPartitionsRDD[23] at show at cell13.sc:1), which has no missing parents\n",
      "24/09/06 21:18:25 INFO MemoryStore: Block broadcast_11 stored as values in memory (estimated size 17.7 KiB, free 4.5 GiB)\n",
      "24/09/06 21:18:25 INFO MemoryStore: Block broadcast_11_piece0 stored as bytes in memory (estimated size 7.9 KiB, free 4.5 GiB)\n",
      "24/09/06 21:18:25 INFO BlockManagerInfo: Added broadcast_11_piece0 in memory on ubuntu:35613 (size: 7.9 KiB, free: 4.5 GiB)\n",
      "24/09/06 21:18:25 INFO SparkContext: Created broadcast 11 from broadcast at DAGScheduler.scala:1580\n",
      "24/09/06 21:18:25 INFO DAGScheduler: Submitting 1 missing tasks from ResultStage 5 (MapPartitionsRDD[23] at show at cell13.sc:1) (first 15 tasks are for partitions Vector(0))\n",
      "24/09/06 21:18:25 INFO TaskSchedulerImpl: Adding task set 5.0 with 1 tasks resource profile 0\n",
      "24/09/06 21:18:25 INFO TaskSetManager: Starting task 0.0 in stage 5.0 (TID 5) (ubuntu, executor driver, partition 0, PROCESS_LOCAL, 8245 bytes) \n",
      "24/09/06 21:18:25 INFO Executor: Running task 0.0 in stage 5.0 (TID 5)\n",
      "24/09/06 21:18:25 INFO CodeGenerator: Code generated in 13.967475 ms\n",
      "24/09/06 21:18:25 INFO FileScanRDD: Reading File path: file:///home/vadim/workspace/Spark/SparkSQL/data/customer_data.json, range: 0-108790, partition values: [empty row]\n",
      "24/09/06 21:18:26 INFO CodeGenerator: Code generated in 5.659029 ms\n",
      "24/09/06 21:18:26 INFO Executor: Finished task 0.0 in stage 5.0 (TID 5). 2501 bytes result sent to driver\n",
      "24/09/06 21:18:26 INFO TaskSetManager: Finished task 0.0 in stage 5.0 (TID 5) in 76 ms on ubuntu (executor driver) (1/1)\n",
      "24/09/06 21:18:26 INFO TaskSchedulerImpl: Removed TaskSet 5.0, whose tasks have all completed, from pool \n",
      "24/09/06 21:18:26 INFO DAGScheduler: ResultStage 5 (show at cell13.sc:1) finished in 0,107 s\n",
      "24/09/06 21:18:26 INFO DAGScheduler: Job 5 is finished. Cancelling potential speculative or zombie tasks for this job\n",
      "24/09/06 21:18:26 INFO TaskSchedulerImpl: Killing all running tasks in stage 5: Stage finished\n",
      "24/09/06 21:18:26 INFO DAGScheduler: Job 5 finished: show at cell13.sc:1, took 0,122207 s\n"
     ]
    },
    {
     "name": "stdout",
     "output_type": "stream",
     "text": [
      "+--------------------------------------------------+-------------------+-------+----------+-------------------------+--------------+---------------+\n",
      "|Address                                           |Birthdate          |Country|CustomerID|Email                    |Name          |Username       |\n",
      "+--------------------------------------------------+-------------------+-------+----------+-------------------------+--------------+---------------+\n",
      "|17677 Mark Crest\\nWalterberg, IA 39017            |1996-09-13 19:14:27|Norway |12350     |amyholland@yahoo.com     |Natalie Ford  |gregoryharrison|\n",
      "|50047 Smith Point Suite 162\\nWilkinsstad, PA 04106|1969-06-21 03:39:20|Norway |12352     |vcarter@hotmail.com      |Dana Clarke   |hmyers         |\n",
      "|0297 Jacob Ranch Apt. 019\\nNorth Judith, NV 27455 |1990-06-01 14:49:52|Norway |12381     |douglaschavez@hotmail.com|Matthew Jones |stephanie68    |\n",
      "|3102 Hopkins Walk\\nAndrechester, MD 54461         |1976-06-19 08:10:24|Norway |12430     |crystalromero@hotmail.com|Lisa Tate     |pgilbert       |\n",
      "|637 Philip Lock Suite 286\\nJohnsmouth, RI 96778   |1984-06-06 09:36:14|Norway |12432     |jessica87@hotmail.com    |Cheryl Herring|mathewsnicholas|\n",
      "+--------------------------------------------------+-------------------+-------+----------+-------------------------+--------------+---------------+\n",
      "only showing top 5 rows\n",
      "\n"
     ]
    }
   ],
   "source": [
    "spark.sql(\"select * from customer where Country = 'Norway'\").show(5, false)"
   ]
  },
  {
   "cell_type": "code",
   "execution_count": 14,
   "id": "da2d62a0-3279-4c3a-8ef9-84e2ba1edf4a",
   "metadata": {
    "scrolled": true
   },
   "outputs": [
    {
     "name": "stderr",
     "output_type": "stream",
     "text": [
      "24/09/06 21:18:33 INFO FileSourceStrategy: Pushed Filters: IsNotNull(Country),Not(EqualTo(Country,Iceland))\n",
      "24/09/06 21:18:33 INFO FileSourceStrategy: Post-Scan Filters: isnotnull(Country#10),NOT (Country#10 = Iceland)\n",
      "24/09/06 21:18:33 INFO CodeGenerator: Code generated in 27.324869 ms\n",
      "24/09/06 21:18:33 INFO MemoryStore: Block broadcast_12 stored as values in memory (estimated size 198.4 KiB, free 4.5 GiB)\n",
      "24/09/06 21:18:33 INFO MemoryStore: Block broadcast_12_piece0 stored as bytes in memory (estimated size 34.0 KiB, free 4.5 GiB)\n",
      "24/09/06 21:18:33 INFO BlockManagerInfo: Added broadcast_12_piece0 in memory on ubuntu:35613 (size: 34.0 KiB, free: 4.5 GiB)\n",
      "24/09/06 21:18:33 INFO SparkContext: Created broadcast 12 from show at cell14.sc:1\n",
      "24/09/06 21:18:33 INFO FileSourceScanExec: Planning scan with bin packing, max size: 4194304 bytes, open cost is considered as scanning 4194304 bytes.\n",
      "24/09/06 21:18:33 INFO SparkContext: Starting job: show at cell14.sc:1\n",
      "24/09/06 21:18:33 INFO DAGScheduler: Got job 6 (show at cell14.sc:1) with 1 output partitions\n",
      "24/09/06 21:18:33 INFO DAGScheduler: Final stage: ResultStage 6 (show at cell14.sc:1)\n",
      "24/09/06 21:18:33 INFO DAGScheduler: Parents of final stage: List()\n",
      "24/09/06 21:18:33 INFO DAGScheduler: Missing parents: List()\n",
      "24/09/06 21:18:33 INFO DAGScheduler: Submitting ResultStage 6 (MapPartitionsRDD[27] at show at cell14.sc:1), which has no missing parents\n",
      "24/09/06 21:18:33 INFO MemoryStore: Block broadcast_13 stored as values in memory (estimated size 17.8 KiB, free 4.5 GiB)\n",
      "24/09/06 21:18:33 INFO MemoryStore: Block broadcast_13_piece0 stored as bytes in memory (estimated size 8.0 KiB, free 4.5 GiB)\n",
      "24/09/06 21:18:33 INFO BlockManagerInfo: Added broadcast_13_piece0 in memory on ubuntu:35613 (size: 8.0 KiB, free: 4.5 GiB)\n",
      "24/09/06 21:18:33 INFO SparkContext: Created broadcast 13 from broadcast at DAGScheduler.scala:1580\n",
      "24/09/06 21:18:33 INFO DAGScheduler: Submitting 1 missing tasks from ResultStage 6 (MapPartitionsRDD[27] at show at cell14.sc:1) (first 15 tasks are for partitions Vector(0))\n",
      "24/09/06 21:18:33 INFO TaskSchedulerImpl: Adding task set 6.0 with 1 tasks resource profile 0\n",
      "24/09/06 21:18:33 INFO TaskSetManager: Starting task 0.0 in stage 6.0 (TID 6) (ubuntu, executor driver, partition 0, PROCESS_LOCAL, 8245 bytes) \n",
      "24/09/06 21:18:33 INFO Executor: Running task 0.0 in stage 6.0 (TID 6)\n",
      "24/09/06 21:18:33 INFO BlockManagerInfo: Removed broadcast_5_piece0 on ubuntu:35613 in memory (size: 7.1 KiB, free: 4.5 GiB)\n",
      "24/09/06 21:18:33 INFO BlockManagerInfo: Removed broadcast_8_piece0 on ubuntu:35613 in memory (size: 34.0 KiB, free: 4.5 GiB)\n",
      "24/09/06 21:18:33 INFO CodeGenerator: Code generated in 20.304241 ms\n",
      "24/09/06 21:18:33 INFO FileScanRDD: Reading File path: file:///home/vadim/workspace/Spark/SparkSQL/data/customer_data.json, range: 0-108790, partition values: [empty row]\n",
      "24/09/06 21:18:33 INFO BlockManagerInfo: Removed broadcast_11_piece0 on ubuntu:35613 in memory (size: 7.9 KiB, free: 4.5 GiB)\n",
      "24/09/06 21:18:33 INFO BlockManagerInfo: Removed broadcast_4_piece0 on ubuntu:35613 in memory (size: 34.0 KiB, free: 4.5 GiB)\n",
      "24/09/06 21:18:33 INFO BlockManagerInfo: Removed broadcast_9_piece0 on ubuntu:35613 in memory (size: 7.2 KiB, free: 4.5 GiB)\n",
      "24/09/06 21:18:33 INFO CodeGenerator: Code generated in 9.694424 ms\n",
      "24/09/06 21:18:33 INFO BlockManagerInfo: Removed broadcast_10_piece0 on ubuntu:35613 in memory (size: 34.0 KiB, free: 4.5 GiB)\n",
      "24/09/06 21:18:33 INFO Executor: Finished task 0.0 in stage 6.0 (TID 6). 2517 bytes result sent to driver\n",
      "24/09/06 21:18:33 INFO TaskSetManager: Finished task 0.0 in stage 6.0 (TID 6) in 98 ms on ubuntu (executor driver) (1/1)\n",
      "24/09/06 21:18:33 INFO TaskSchedulerImpl: Removed TaskSet 6.0, whose tasks have all completed, from pool \n",
      "24/09/06 21:18:33 INFO DAGScheduler: ResultStage 6 (show at cell14.sc:1) finished in 0,176 s\n",
      "24/09/06 21:18:33 INFO DAGScheduler: Job 6 is finished. Cancelling potential speculative or zombie tasks for this job\n",
      "24/09/06 21:18:33 INFO TaskSchedulerImpl: Killing all running tasks in stage 6: Stage finished\n",
      "24/09/06 21:18:33 INFO BlockManagerInfo: Removed broadcast_6_piece0 on ubuntu:35613 in memory (size: 34.0 KiB, free: 4.5 GiB)\n",
      "24/09/06 21:18:33 INFO DAGScheduler: Job 6 finished: show at cell14.sc:1, took 0,191144 s\n"
     ]
    },
    {
     "name": "stdout",
     "output_type": "stream",
     "text": [
      "+--------------------------------------------------+-------------------+--------------+----------+------------------------+---------------+----------------+\n",
      "|Address                                           |Birthdate          |Country       |CustomerID|Email                   |Name           |Username        |\n",
      "+--------------------------------------------------+-------------------+--------------+----------+------------------------+---------------+----------------+\n",
      "|Unit 1047 Box 4089\\nDPO AA 57348                  |1994-02-20 00:46:27|United Kingdom|12346     |cooperalexis@hotmail.com|Lindsay Cowan  |valenciajennifer|\n",
      "|Unit 2676 Box 9352\\nDPO AA 38560                  |1974-11-26 15:30:20|Finland       |12348     |tcrawford@gmail.com     |Leslie Martinez|serranobrian    |\n",
      "|2765 Powers Meadow\\nHeatherfurt, CT 53165         |1977-05-06 23:57:35|Italy         |12349     |dustin37@yahoo.com      |Brad Cardenas  |charleshudson   |\n",
      "|17677 Mark Crest\\nWalterberg, IA 39017            |1996-09-13 19:14:27|Norway        |12350     |amyholland@yahoo.com    |Natalie Ford   |gregoryharrison |\n",
      "|50047 Smith Point Suite 162\\nWilkinsstad, PA 04106|1969-06-21 03:39:20|Norway        |12352     |vcarter@hotmail.com     |Dana Clarke    |hmyers          |\n",
      "+--------------------------------------------------+-------------------+--------------+----------+------------------------+---------------+----------------+\n",
      "only showing top 5 rows\n",
      "\n"
     ]
    },
    {
     "name": "stderr",
     "output_type": "stream",
     "text": [
      "24/09/06 21:18:33 INFO BlockManagerInfo: Removed broadcast_7_piece0 on ubuntu:35613 in memory (size: 7.1 KiB, free: 4.5 GiB)\n"
     ]
    }
   ],
   "source": [
    "spark.sql(\"select * from customer where Country <> 'Iceland'\").show(5, false)"
   ]
  },
  {
   "cell_type": "code",
   "execution_count": 15,
   "id": "1009b655-c60c-4ab1-a45a-c4061edbcbfe",
   "metadata": {
    "scrolled": true
   },
   "outputs": [
    {
     "name": "stderr",
     "output_type": "stream",
     "text": [
      "24/09/06 21:18:41 INFO FileSourceStrategy: Pushed Filters: \n",
      "24/09/06 21:18:41 INFO FileSourceStrategy: Post-Scan Filters: \n",
      "24/09/06 21:18:41 INFO CodeGenerator: Code generated in 11.059036 ms\n",
      "24/09/06 21:18:41 INFO MemoryStore: Block broadcast_14 stored as values in memory (estimated size 198.4 KiB, free 4.5 GiB)\n",
      "24/09/06 21:18:41 INFO MemoryStore: Block broadcast_14_piece0 stored as bytes in memory (estimated size 34.0 KiB, free 4.5 GiB)\n",
      "24/09/06 21:18:41 INFO BlockManagerInfo: Added broadcast_14_piece0 in memory on ubuntu:35613 (size: 34.0 KiB, free: 4.5 GiB)\n",
      "24/09/06 21:18:41 INFO SparkContext: Created broadcast 14 from show at cell15.sc:1\n",
      "24/09/06 21:18:41 INFO FileSourceScanExec: Planning scan with bin packing, max size: 4194304 bytes, open cost is considered as scanning 4194304 bytes.\n",
      "24/09/06 21:18:41 INFO SparkContext: Starting job: show at cell15.sc:1\n",
      "24/09/06 21:18:41 INFO DAGScheduler: Got job 7 (show at cell15.sc:1) with 1 output partitions\n",
      "24/09/06 21:18:41 INFO DAGScheduler: Final stage: ResultStage 7 (show at cell15.sc:1)\n",
      "24/09/06 21:18:41 INFO DAGScheduler: Parents of final stage: List()\n",
      "24/09/06 21:18:41 INFO DAGScheduler: Missing parents: List()\n",
      "24/09/06 21:18:41 INFO DAGScheduler: Submitting ResultStage 7 (MapPartitionsRDD[31] at show at cell15.sc:1), which has no missing parents\n",
      "24/09/06 21:18:41 INFO MemoryStore: Block broadcast_15 stored as values in memory (estimated size 14.3 KiB, free 4.5 GiB)\n",
      "24/09/06 21:18:41 INFO MemoryStore: Block broadcast_15_piece0 stored as bytes in memory (estimated size 7.0 KiB, free 4.5 GiB)\n",
      "24/09/06 21:18:41 INFO BlockManagerInfo: Added broadcast_15_piece0 in memory on ubuntu:35613 (size: 7.0 KiB, free: 4.5 GiB)\n",
      "24/09/06 21:18:41 INFO SparkContext: Created broadcast 15 from broadcast at DAGScheduler.scala:1580\n",
      "24/09/06 21:18:41 INFO DAGScheduler: Submitting 1 missing tasks from ResultStage 7 (MapPartitionsRDD[31] at show at cell15.sc:1) (first 15 tasks are for partitions Vector(0))\n",
      "24/09/06 21:18:41 INFO TaskSchedulerImpl: Adding task set 7.0 with 1 tasks resource profile 0\n",
      "24/09/06 21:18:41 INFO TaskSetManager: Starting task 0.0 in stage 7.0 (TID 7) (ubuntu, executor driver, partition 0, PROCESS_LOCAL, 8245 bytes) \n",
      "24/09/06 21:18:41 INFO Executor: Running task 0.0 in stage 7.0 (TID 7)\n",
      "24/09/06 21:18:41 INFO CodeGenerator: Code generated in 8.168632 ms\n",
      "24/09/06 21:18:41 INFO FileScanRDD: Reading File path: file:///home/vadim/workspace/Spark/SparkSQL/data/customer_data.json, range: 0-108790, partition values: [empty row]\n",
      "24/09/06 21:18:41 INFO Executor: Finished task 0.0 in stage 7.0 (TID 7). 2876 bytes result sent to driver\n",
      "24/09/06 21:18:41 INFO TaskSetManager: Finished task 0.0 in stage 7.0 (TID 7) in 96 ms on ubuntu (executor driver) (1/1)\n",
      "24/09/06 21:18:41 INFO TaskSchedulerImpl: Removed TaskSet 7.0, whose tasks have all completed, from pool \n",
      "24/09/06 21:18:41 INFO DAGScheduler: ResultStage 7 (show at cell15.sc:1) finished in 0,115 s\n",
      "24/09/06 21:18:41 INFO DAGScheduler: Job 7 is finished. Cancelling potential speculative or zombie tasks for this job\n",
      "24/09/06 21:18:41 INFO TaskSchedulerImpl: Killing all running tasks in stage 7: Stage finished\n",
      "24/09/06 21:18:41 INFO DAGScheduler: Job 7 finished: show at cell15.sc:1, took 0,131108 s\n",
      "24/09/06 21:18:41 INFO CodeGenerator: Code generated in 10.440951 ms\n"
     ]
    },
    {
     "name": "stdout",
     "output_type": "stream",
     "text": [
      "+----------------------------------------------------+-------------------+--------------+----------+-----------------------+--------------------+-----------------+\n",
      "|Address                                             |Birthdate          |Country       |CustomerID|Email                  |Name                |Username         |\n",
      "+----------------------------------------------------+-------------------+--------------+----------+-----------------------+--------------------+-----------------+\n",
      "|6942 Connie Skyway\\nPatrickville, WA 16551          |1973-10-24 00:52:10|United Kingdom|12989     |amber97@hotmail.com    |Brandon Contreras   |ecasey           |\n",
      "|79375 David Neck\\nWest Matthewton, NJ 92863         |1971-05-04 22:20:10|United Kingdom|12988     |erica98@gmail.com      |Gabriel Romero      |qknight          |\n",
      "|00881 West Flat\\nNorth Emily, IL 32130              |1997-03-05 19:20:57|United Kingdom|12987     |vkeith@yahoo.com       |Christopher Lawrence|smcintyre        |\n",
      "|499 Jonathan Streets Apt. 890\\nEast Ashley, MD 76825|1987-10-24 20:05:15|United Kingdom|12985     |fredsmith@yahoo.com    |Xavier Myers        |stricklandjeffery|\n",
      "|9505 Melissa Streets\\nSouth Frankville, NJ 91189    |1975-09-22 15:21:58|United Kingdom|12984     |scottjonathan@yahoo.com|Brandy Huang        |amandawilliams   |\n",
      "+----------------------------------------------------+-------------------+--------------+----------+-----------------------+--------------------+-----------------+\n",
      "only showing top 5 rows\n",
      "\n"
     ]
    }
   ],
   "source": [
    "spark.sql(\"select * from customer order by CustomerID desc\").show(5, false)"
   ]
  },
  {
   "cell_type": "code",
   "execution_count": 16,
   "id": "892882e0-4621-4c37-aeff-0ba555e03efc",
   "metadata": {
    "scrolled": true
   },
   "outputs": [
    {
     "name": "stderr",
     "output_type": "stream",
     "text": [
      "24/09/06 21:20:40 INFO FileSourceStrategy: Pushed Filters: \n",
      "24/09/06 21:20:40 INFO FileSourceStrategy: Post-Scan Filters: \n",
      "24/09/06 21:20:40 INFO CodeGenerator: Code generated in 19.325468 ms\n",
      "24/09/06 21:20:40 INFO MemoryStore: Block broadcast_16 stored as values in memory (estimated size 198.4 KiB, free 4.5 GiB)\n",
      "24/09/06 21:20:40 INFO MemoryStore: Block broadcast_16_piece0 stored as bytes in memory (estimated size 34.0 KiB, free 4.5 GiB)\n",
      "24/09/06 21:20:40 INFO BlockManagerInfo: Added broadcast_16_piece0 in memory on ubuntu:35613 (size: 34.0 KiB, free: 4.5 GiB)\n",
      "24/09/06 21:20:40 INFO SparkContext: Created broadcast 16 from show at cell16.sc:1\n",
      "24/09/06 21:20:40 INFO FileSourceScanExec: Planning scan with bin packing, max size: 4194304 bytes, open cost is considered as scanning 4194304 bytes.\n",
      "24/09/06 21:20:40 INFO SparkContext: Starting job: show at cell16.sc:1\n",
      "24/09/06 21:20:40 INFO DAGScheduler: Got job 8 (show at cell16.sc:1) with 1 output partitions\n",
      "24/09/06 21:20:40 INFO DAGScheduler: Final stage: ResultStage 8 (show at cell16.sc:1)\n",
      "24/09/06 21:20:40 INFO DAGScheduler: Parents of final stage: List()\n",
      "24/09/06 21:20:40 INFO DAGScheduler: Missing parents: List()\n",
      "24/09/06 21:20:40 INFO DAGScheduler: Submitting ResultStage 8 (MapPartitionsRDD[35] at show at cell16.sc:1), which has no missing parents\n",
      "24/09/06 21:20:40 INFO MemoryStore: Block broadcast_17 stored as values in memory (estimated size 16.0 KiB, free 4.5 GiB)\n",
      "24/09/06 21:20:40 INFO MemoryStore: Block broadcast_17_piece0 stored as bytes in memory (estimated size 7.7 KiB, free 4.5 GiB)\n",
      "24/09/06 21:20:40 INFO BlockManagerInfo: Added broadcast_17_piece0 in memory on ubuntu:35613 (size: 7.7 KiB, free: 4.5 GiB)\n",
      "24/09/06 21:20:40 INFO SparkContext: Created broadcast 17 from broadcast at DAGScheduler.scala:1580\n",
      "24/09/06 21:20:40 INFO DAGScheduler: Submitting 1 missing tasks from ResultStage 8 (MapPartitionsRDD[35] at show at cell16.sc:1) (first 15 tasks are for partitions Vector(0))\n",
      "24/09/06 21:20:40 INFO TaskSchedulerImpl: Adding task set 8.0 with 1 tasks resource profile 0\n",
      "24/09/06 21:20:40 INFO TaskSetManager: Starting task 0.0 in stage 8.0 (TID 8) (ubuntu, executor driver, partition 0, PROCESS_LOCAL, 8245 bytes) \n",
      "24/09/06 21:20:40 INFO Executor: Running task 0.0 in stage 8.0 (TID 8)\n",
      "24/09/06 21:20:40 INFO CodeGenerator: Code generated in 16.169411 ms\n",
      "24/09/06 21:20:40 INFO FileScanRDD: Reading File path: file:///home/vadim/workspace/Spark/SparkSQL/data/customer_data.json, range: 0-108790, partition values: [empty row]\n",
      "24/09/06 21:20:40 INFO Executor: Finished task 0.0 in stage 8.0 (TID 8). 1705 bytes result sent to driver\n",
      "24/09/06 21:20:40 INFO TaskSetManager: Finished task 0.0 in stage 8.0 (TID 8) in 55 ms on ubuntu (executor driver) (1/1)\n",
      "24/09/06 21:20:40 INFO DAGScheduler: ResultStage 8 (show at cell16.sc:1) finished in 0,075 s\n",
      "24/09/06 21:20:40 INFO TaskSchedulerImpl: Removed TaskSet 8.0, whose tasks have all completed, from pool \n",
      "24/09/06 21:20:40 INFO DAGScheduler: Job 8 is finished. Cancelling potential speculative or zombie tasks for this job\n",
      "24/09/06 21:20:40 INFO TaskSchedulerImpl: Killing all running tasks in stage 8: Stage finished\n",
      "24/09/06 21:20:40 INFO DAGScheduler: Job 8 finished: show at cell16.sc:1, took 0,094405 s\n"
     ]
    },
    {
     "name": "stdout",
     "output_type": "stream",
     "text": [
      "+-------------------+----------+\n",
      "|Birthdate          |Date      |\n",
      "+-------------------+----------+\n",
      "|1994-02-20 00:46:27|1994-02-20|\n",
      "|1988-06-21 00:15:34|1988-06-21|\n",
      "|1974-11-26 15:30:20|1974-11-26|\n",
      "|1977-05-06 23:57:35|1977-05-06|\n",
      "|1996-09-13 19:14:27|1996-09-13|\n",
      "+-------------------+----------+\n",
      "only showing top 5 rows\n",
      "\n"
     ]
    }
   ],
   "source": [
    "spark.sql(\"select Birthdate, date_format(Birthdate, 'yyyy-MM-dd') as Date from customer\").show(5, false)"
   ]
  },
  {
   "cell_type": "code",
   "execution_count": 17,
   "id": "76529542-c892-4968-b75c-0dc0da799bb0",
   "metadata": {
    "scrolled": true
   },
   "outputs": [
    {
     "name": "stderr",
     "output_type": "stream",
     "text": [
      "24/09/06 21:20:50 INFO FileSourceStrategy: Pushed Filters: \n",
      "24/09/06 21:20:50 INFO FileSourceStrategy: Post-Scan Filters: \n",
      "24/09/06 21:20:50 INFO CodeGenerator: Code generated in 13.101499 ms\n",
      "24/09/06 21:20:50 INFO MemoryStore: Block broadcast_18 stored as values in memory (estimated size 198.4 KiB, free 4.5 GiB)\n",
      "24/09/06 21:20:50 INFO MemoryStore: Block broadcast_18_piece0 stored as bytes in memory (estimated size 34.0 KiB, free 4.5 GiB)\n",
      "24/09/06 21:20:50 INFO BlockManagerInfo: Added broadcast_18_piece0 in memory on ubuntu:35613 (size: 34.0 KiB, free: 4.5 GiB)\n",
      "24/09/06 21:20:50 INFO SparkContext: Created broadcast 18 from show at cell17.sc:1\n",
      "24/09/06 21:20:50 INFO FileSourceScanExec: Planning scan with bin packing, max size: 4194304 bytes, open cost is considered as scanning 4194304 bytes.\n",
      "24/09/06 21:20:50 INFO SparkContext: Starting job: show at cell17.sc:1\n",
      "24/09/06 21:20:50 INFO DAGScheduler: Got job 9 (show at cell17.sc:1) with 1 output partitions\n",
      "24/09/06 21:20:50 INFO DAGScheduler: Final stage: ResultStage 9 (show at cell17.sc:1)\n",
      "24/09/06 21:20:50 INFO DAGScheduler: Parents of final stage: List()\n",
      "24/09/06 21:20:50 INFO DAGScheduler: Missing parents: List()\n",
      "24/09/06 21:20:50 INFO DAGScheduler: Submitting ResultStage 9 (MapPartitionsRDD[39] at show at cell17.sc:1), which has no missing parents\n",
      "24/09/06 21:20:50 INFO MemoryStore: Block broadcast_19 stored as values in memory (estimated size 16.4 KiB, free 4.5 GiB)\n",
      "24/09/06 21:20:50 INFO MemoryStore: Block broadcast_19_piece0 stored as bytes in memory (estimated size 7.7 KiB, free 4.5 GiB)\n",
      "24/09/06 21:20:50 INFO BlockManagerInfo: Added broadcast_19_piece0 in memory on ubuntu:35613 (size: 7.7 KiB, free: 4.5 GiB)\n",
      "24/09/06 21:20:50 INFO SparkContext: Created broadcast 19 from broadcast at DAGScheduler.scala:1580\n",
      "24/09/06 21:20:50 INFO DAGScheduler: Submitting 1 missing tasks from ResultStage 9 (MapPartitionsRDD[39] at show at cell17.sc:1) (first 15 tasks are for partitions Vector(0))\n",
      "24/09/06 21:20:50 INFO TaskSchedulerImpl: Adding task set 9.0 with 1 tasks resource profile 0\n",
      "24/09/06 21:20:50 INFO TaskSetManager: Starting task 0.0 in stage 9.0 (TID 9) (ubuntu, executor driver, partition 0, PROCESS_LOCAL, 8245 bytes) \n",
      "24/09/06 21:20:50 INFO Executor: Running task 0.0 in stage 9.0 (TID 9)\n",
      "24/09/06 21:20:50 INFO CodeGenerator: Code generated in 16.044604 ms\n",
      "24/09/06 21:20:50 INFO FileScanRDD: Reading File path: file:///home/vadim/workspace/Spark/SparkSQL/data/customer_data.json, range: 0-108790, partition values: [empty row]\n",
      "24/09/06 21:20:50 INFO Executor: Finished task 0.0 in stage 9.0 (TID 9). 1875 bytes result sent to driver\n",
      "24/09/06 21:20:50 INFO TaskSetManager: Finished task 0.0 in stage 9.0 (TID 9) in 50 ms on ubuntu (executor driver) (1/1)\n",
      "24/09/06 21:20:50 INFO TaskSchedulerImpl: Removed TaskSet 9.0, whose tasks have all completed, from pool \n",
      "24/09/06 21:20:50 INFO DAGScheduler: ResultStage 9 (show at cell17.sc:1) finished in 0,077 s\n",
      "24/09/06 21:20:50 INFO DAGScheduler: Job 9 is finished. Cancelling potential speculative or zombie tasks for this job\n",
      "24/09/06 21:20:50 INFO TaskSchedulerImpl: Killing all running tasks in stage 9: Stage finished\n",
      "24/09/06 21:20:50 INFO DAGScheduler: Job 9 finished: show at cell17.sc:1, took 0,091672 s\n"
     ]
    },
    {
     "name": "stdout",
     "output_type": "stream",
     "text": [
      "+---------------+----------------+---------------------------------+\n",
      "|Name           |Username        |Identity                         |\n",
      "+---------------+----------------+---------------------------------+\n",
      "|Lindsay Cowan  |valenciajennifer|[Lindsay Cowan, valenciajennifer]|\n",
      "|Katherine David|hillrachel      |[Katherine David, hillrachel]    |\n",
      "|Leslie Martinez|serranobrian    |[Leslie Martinez, serranobrian]  |\n",
      "|Brad Cardenas  |charleshudson   |[Brad Cardenas, charleshudson]   |\n",
      "|Natalie Ford   |gregoryharrison |[Natalie Ford, gregoryharrison]  |\n",
      "+---------------+----------------+---------------------------------+\n",
      "only showing top 5 rows\n",
      "\n"
     ]
    }
   ],
   "source": [
    "spark.sql(\"select Name, Username, array(Name, Username) as Identity from customer\").show(5, false)"
   ]
  },
  {
   "cell_type": "code",
   "execution_count": 18,
   "id": "23a354ca-f39f-4aba-8138-081597ebe1d1",
   "metadata": {
    "scrolled": true
   },
   "outputs": [
    {
     "name": "stderr",
     "output_type": "stream",
     "text": [
      "24/09/06 21:21:02 INFO FileSourceStrategy: Pushed Filters: \n",
      "24/09/06 21:21:02 INFO FileSourceStrategy: Post-Scan Filters: \n",
      "24/09/06 21:21:02 INFO CodeGenerator: Code generated in 49.521619 ms\n",
      "24/09/06 21:21:02 INFO MemoryStore: Block broadcast_20 stored as values in memory (estimated size 198.4 KiB, free 4.5 GiB)\n",
      "24/09/06 21:21:02 INFO MemoryStore: Block broadcast_20_piece0 stored as bytes in memory (estimated size 34.0 KiB, free 4.5 GiB)\n",
      "24/09/06 21:21:02 INFO BlockManagerInfo: Added broadcast_20_piece0 in memory on ubuntu:35613 (size: 34.0 KiB, free: 4.5 GiB)\n",
      "24/09/06 21:21:02 INFO SparkContext: Created broadcast 20 from show at cell18.sc:1\n",
      "24/09/06 21:21:02 INFO FileSourceScanExec: Planning scan with bin packing, max size: 4194304 bytes, open cost is considered as scanning 4194304 bytes.\n",
      "24/09/06 21:21:02 INFO DAGScheduler: Registering RDD 43 (show at cell18.sc:1) as input to shuffle 0\n",
      "24/09/06 21:21:02 INFO DAGScheduler: Got map stage job 10 (show at cell18.sc:1) with 1 output partitions\n",
      "24/09/06 21:21:02 INFO DAGScheduler: Final stage: ShuffleMapStage 10 (show at cell18.sc:1)\n",
      "24/09/06 21:21:02 INFO DAGScheduler: Parents of final stage: List()\n",
      "24/09/06 21:21:02 INFO DAGScheduler: Missing parents: List()\n",
      "24/09/06 21:21:02 INFO DAGScheduler: Submitting ShuffleMapStage 10 (MapPartitionsRDD[43] at show at cell18.sc:1), which has no missing parents\n",
      "24/09/06 21:21:02 INFO MemoryStore: Block broadcast_21 stored as values in memory (estimated size 37.9 KiB, free 4.5 GiB)\n",
      "24/09/06 21:21:02 INFO MemoryStore: Block broadcast_21_piece0 stored as bytes in memory (estimated size 17.9 KiB, free 4.5 GiB)\n",
      "24/09/06 21:21:02 INFO BlockManagerInfo: Added broadcast_21_piece0 in memory on ubuntu:35613 (size: 17.9 KiB, free: 4.5 GiB)\n",
      "24/09/06 21:21:02 INFO SparkContext: Created broadcast 21 from broadcast at DAGScheduler.scala:1580\n",
      "24/09/06 21:21:02 INFO DAGScheduler: Submitting 1 missing tasks from ShuffleMapStage 10 (MapPartitionsRDD[43] at show at cell18.sc:1) (first 15 tasks are for partitions Vector(0))\n",
      "24/09/06 21:21:02 INFO TaskSchedulerImpl: Adding task set 10.0 with 1 tasks resource profile 0\n",
      "24/09/06 21:21:02 INFO TaskSetManager: Starting task 0.0 in stage 10.0 (TID 10) (ubuntu, executor driver, partition 0, PROCESS_LOCAL, 8234 bytes) \n",
      "24/09/06 21:21:02 INFO Executor: Running task 0.0 in stage 10.0 (TID 10)\n",
      "24/09/06 21:21:02 INFO CodeGenerator: Code generated in 29.712601 ms\n",
      "24/09/06 21:21:02 INFO CodeGenerator: Code generated in 10.55634 ms\n",
      "24/09/06 21:21:02 INFO CodeGenerator: Code generated in 5.063119 ms\n",
      "24/09/06 21:21:02 INFO CodeGenerator: Code generated in 6.001871 ms\n",
      "24/09/06 21:21:02 INFO FileScanRDD: Reading File path: file:///home/vadim/workspace/Spark/SparkSQL/data/customer_data.json, range: 0-108790, partition values: [empty row]\n",
      "24/09/06 21:21:03 INFO Executor: Finished task 0.0 in stage 10.0 (TID 10). 2759 bytes result sent to driver\n",
      "24/09/06 21:21:03 INFO TaskSetManager: Finished task 0.0 in stage 10.0 (TID 10) in 198 ms on ubuntu (executor driver) (1/1)\n",
      "24/09/06 21:21:03 INFO TaskSchedulerImpl: Removed TaskSet 10.0, whose tasks have all completed, from pool \n",
      "24/09/06 21:21:03 INFO DAGScheduler: ShuffleMapStage 10 (show at cell18.sc:1) finished in 0,234 s\n",
      "24/09/06 21:21:03 INFO DAGScheduler: looking for newly runnable stages\n",
      "24/09/06 21:21:03 INFO DAGScheduler: running: Set()\n",
      "24/09/06 21:21:03 INFO DAGScheduler: waiting: Set()\n",
      "24/09/06 21:21:03 INFO DAGScheduler: failed: Set()\n",
      "24/09/06 21:21:03 INFO ShufflePartitionsUtil: For shuffle(0), advisory target size: 67108864, actual target size 1048576, minimum partition size: 1048576\n",
      "24/09/06 21:21:03 INFO CodeGenerator: Code generated in 4.418821 ms\n",
      "24/09/06 21:21:03 INFO HashAggregateExec: spark.sql.codegen.aggregate.map.twolevel.enabled is set to true, but current version of codegened fast hashmap does not support this aggregate.\n",
      "24/09/06 21:21:03 INFO CodeGenerator: Code generated in 15.529191 ms\n",
      "24/09/06 21:21:03 INFO SparkContext: Starting job: show at cell18.sc:1\n",
      "24/09/06 21:21:03 INFO DAGScheduler: Got job 11 (show at cell18.sc:1) with 1 output partitions\n",
      "24/09/06 21:21:03 INFO DAGScheduler: Final stage: ResultStage 12 (show at cell18.sc:1)\n",
      "24/09/06 21:21:03 INFO DAGScheduler: Parents of final stage: List(ShuffleMapStage 11)\n",
      "24/09/06 21:21:03 INFO DAGScheduler: Missing parents: List()\n",
      "24/09/06 21:21:03 INFO DAGScheduler: Submitting ResultStage 12 (MapPartitionsRDD[47] at show at cell18.sc:1), which has no missing parents\n",
      "24/09/06 21:21:03 INFO MemoryStore: Block broadcast_22 stored as values in memory (estimated size 40.6 KiB, free 4.5 GiB)\n",
      "24/09/06 21:21:03 INFO MemoryStore: Block broadcast_22_piece0 stored as bytes in memory (estimated size 19.4 KiB, free 4.5 GiB)\n",
      "24/09/06 21:21:03 INFO BlockManagerInfo: Added broadcast_22_piece0 in memory on ubuntu:35613 (size: 19.4 KiB, free: 4.5 GiB)\n",
      "24/09/06 21:21:03 INFO SparkContext: Created broadcast 22 from broadcast at DAGScheduler.scala:1580\n",
      "24/09/06 21:21:03 INFO DAGScheduler: Submitting 1 missing tasks from ResultStage 12 (MapPartitionsRDD[47] at show at cell18.sc:1) (first 15 tasks are for partitions Vector(0))\n",
      "24/09/06 21:21:03 INFO TaskSchedulerImpl: Adding task set 12.0 with 1 tasks resource profile 0\n",
      "24/09/06 21:21:03 INFO TaskSetManager: Starting task 0.0 in stage 12.0 (TID 11) (ubuntu, executor driver, partition 0, NODE_LOCAL, 7615 bytes) \n",
      "24/09/06 21:21:03 INFO Executor: Running task 0.0 in stage 12.0 (TID 11)\n",
      "24/09/06 21:21:03 INFO CodeGenerator: Code generated in 6.65493 ms\n",
      "24/09/06 21:21:03 INFO ShuffleBlockFetcherIterator: Getting 1 (2.2 KiB) non-empty blocks including 1 (2.2 KiB) local and 0 (0.0 B) host-local and 0 (0.0 B) push-merged-local and 0 (0.0 B) remote blocks\n",
      "24/09/06 21:21:03 INFO ShuffleBlockFetcherIterator: Started 0 remote fetches in 18 ms\n",
      "24/09/06 21:21:03 INFO CodeGenerator: Code generated in 15.633764 ms\n",
      "24/09/06 21:21:03 INFO Executor: Finished task 0.0 in stage 12.0 (TID 11). 5371 bytes result sent to driver\n",
      "24/09/06 21:21:03 INFO TaskSetManager: Finished task 0.0 in stage 12.0 (TID 11) in 116 ms on ubuntu (executor driver) (1/1)\n",
      "24/09/06 21:21:03 INFO TaskSchedulerImpl: Removed TaskSet 12.0, whose tasks have all completed, from pool \n",
      "24/09/06 21:21:03 INFO DAGScheduler: ResultStage 12 (show at cell18.sc:1) finished in 0,131 s\n",
      "24/09/06 21:21:03 INFO DAGScheduler: Job 11 is finished. Cancelling potential speculative or zombie tasks for this job\n",
      "24/09/06 21:21:03 INFO TaskSchedulerImpl: Killing all running tasks in stage 12: Stage finished\n",
      "24/09/06 21:21:03 INFO DAGScheduler: Job 11 finished: show at cell18.sc:1, took 0,153715 s\n",
      "24/09/06 21:21:03 INFO CodeGenerator: Code generated in 16.321979 ms\n"
     ]
    },
    {
     "name": "stdout",
     "output_type": "stream",
     "text": [
      "+--------------+-----+\n",
      "|Country       |count|\n",
      "+--------------+-----+\n",
      "|United Kingdom|124  |\n",
      "|Germany       |86   |\n",
      "|France        |86   |\n",
      "|Spain         |30   |\n",
      "|Belgium       |25   |\n",
      "+--------------+-----+\n",
      "only showing top 5 rows\n",
      "\n"
     ]
    }
   ],
   "source": [
    "spark.sql(\"select Country, count(*) as count from customer group by Country order by count desc\").show(5, false)"
   ]
  },
  {
   "cell_type": "code",
   "execution_count": 19,
   "id": "1b8d5c3b-05a9-4cb9-97ed-85fdf66d8f82",
   "metadata": {
    "scrolled": true
   },
   "outputs": [
    {
     "name": "stderr",
     "output_type": "stream",
     "text": [
      "24/09/06 21:21:43 INFO BlockManagerInfo: Removed broadcast_17_piece0 on ubuntu:35613 in memory (size: 7.7 KiB, free: 4.5 GiB)\n",
      "24/09/06 21:21:43 INFO BlockManagerInfo: Removed broadcast_22_piece0 on ubuntu:35613 in memory (size: 19.4 KiB, free: 4.5 GiB)\n",
      "24/09/06 21:21:43 INFO BlockManagerInfo: Removed broadcast_21_piece0 on ubuntu:35613 in memory (size: 17.9 KiB, free: 4.5 GiB)\n",
      "24/09/06 21:21:43 INFO BlockManagerInfo: Removed broadcast_16_piece0 on ubuntu:35613 in memory (size: 34.0 KiB, free: 4.5 GiB)\n",
      "24/09/06 21:21:43 INFO BlockManagerInfo: Removed broadcast_15_piece0 on ubuntu:35613 in memory (size: 7.0 KiB, free: 4.5 GiB)\n",
      "24/09/06 21:21:43 INFO BlockManagerInfo: Removed broadcast_13_piece0 on ubuntu:35613 in memory (size: 8.0 KiB, free: 4.5 GiB)\n",
      "24/09/06 21:21:43 INFO BlockManagerInfo: Removed broadcast_19_piece0 on ubuntu:35613 in memory (size: 7.7 KiB, free: 4.5 GiB)\n",
      "24/09/06 21:21:43 INFO BlockManagerInfo: Removed broadcast_14_piece0 on ubuntu:35613 in memory (size: 34.0 KiB, free: 4.5 GiB)\n",
      "24/09/06 21:21:43 INFO BlockManagerInfo: Removed broadcast_18_piece0 on ubuntu:35613 in memory (size: 34.0 KiB, free: 4.5 GiB)\n",
      "24/09/06 21:21:43 INFO BlockManagerInfo: Removed broadcast_12_piece0 on ubuntu:35613 in memory (size: 34.0 KiB, free: 4.5 GiB)\n",
      "24/09/06 21:21:43 INFO BlockManagerInfo: Removed broadcast_20_piece0 on ubuntu:35613 in memory (size: 34.0 KiB, free: 4.5 GiB)\n",
      "24/09/06 21:21:43 INFO FileSourceStrategy: Pushed Filters: \n",
      "24/09/06 21:21:43 INFO FileSourceStrategy: Post-Scan Filters: \n",
      "24/09/06 21:21:43 INFO CodeGenerator: Code generated in 15.40825 ms\n",
      "24/09/06 21:21:43 INFO MemoryStore: Block broadcast_23 stored as values in memory (estimated size 198.4 KiB, free 4.5 GiB)\n",
      "24/09/06 21:21:43 INFO MemoryStore: Block broadcast_23_piece0 stored as bytes in memory (estimated size 34.0 KiB, free 4.5 GiB)\n",
      "24/09/06 21:21:43 INFO BlockManagerInfo: Added broadcast_23_piece0 in memory on ubuntu:35613 (size: 34.0 KiB, free: 4.5 GiB)\n",
      "24/09/06 21:21:43 INFO SparkContext: Created broadcast 23 from show at cell19.sc:10\n",
      "24/09/06 21:21:43 INFO FileSourceScanExec: Planning scan with bin packing, max size: 4194304 bytes, open cost is considered as scanning 4194304 bytes.\n",
      "24/09/06 21:21:43 INFO DAGScheduler: Registering RDD 52 (show at cell19.sc:10) as input to shuffle 1\n",
      "24/09/06 21:21:43 INFO DAGScheduler: Got map stage job 12 (show at cell19.sc:10) with 1 output partitions\n",
      "24/09/06 21:21:43 INFO DAGScheduler: Final stage: ShuffleMapStage 13 (show at cell19.sc:10)\n",
      "24/09/06 21:21:43 INFO DAGScheduler: Parents of final stage: List()\n",
      "24/09/06 21:21:43 INFO DAGScheduler: Missing parents: List()\n",
      "24/09/06 21:21:43 INFO DAGScheduler: Submitting ShuffleMapStage 13 (MapPartitionsRDD[52] at show at cell19.sc:10), which has no missing parents\n",
      "24/09/06 21:21:43 INFO MemoryStore: Block broadcast_24 stored as values in memory (estimated size 34.6 KiB, free 4.5 GiB)\n",
      "24/09/06 21:21:43 INFO MemoryStore: Block broadcast_24_piece0 stored as bytes in memory (estimated size 16.4 KiB, free 4.5 GiB)\n",
      "24/09/06 21:21:43 INFO BlockManagerInfo: Added broadcast_24_piece0 in memory on ubuntu:35613 (size: 16.4 KiB, free: 4.5 GiB)\n",
      "24/09/06 21:21:43 INFO SparkContext: Created broadcast 24 from broadcast at DAGScheduler.scala:1580\n",
      "24/09/06 21:21:43 INFO DAGScheduler: Submitting 1 missing tasks from ShuffleMapStage 13 (MapPartitionsRDD[52] at show at cell19.sc:10) (first 15 tasks are for partitions Vector(0))\n",
      "24/09/06 21:21:43 INFO TaskSchedulerImpl: Adding task set 13.0 with 1 tasks resource profile 0\n",
      "24/09/06 21:21:43 INFO TaskSetManager: Starting task 0.0 in stage 13.0 (TID 12) (ubuntu, executor driver, partition 0, PROCESS_LOCAL, 8234 bytes) \n",
      "24/09/06 21:21:43 INFO Executor: Running task 0.0 in stage 13.0 (TID 12)\n",
      "24/09/06 21:21:43 INFO CodeGenerator: Code generated in 38.525281 ms\n",
      "24/09/06 21:21:43 INFO CodeGenerator: Code generated in 27.068797 ms\n",
      "24/09/06 21:21:43 INFO CodeGenerator: Code generated in 32.411513 ms\n",
      "24/09/06 21:21:43 INFO FileScanRDD: Reading File path: file:///home/vadim/workspace/Spark/SparkSQL/data/customer_data.json, range: 0-108790, partition values: [empty row]\n",
      "24/09/06 21:21:43 INFO CodeGenerator: Code generated in 7.309229 ms\n",
      "24/09/06 21:21:43 INFO CodeGenerator: Code generated in 5.85511 ms\n",
      "24/09/06 21:21:43 INFO CodeGenerator: Code generated in 6.661185 ms\n",
      "24/09/06 21:21:43 INFO CodeGenerator: Code generated in 4.672245 ms\n",
      "24/09/06 21:21:43 INFO CodeGenerator: Code generated in 6.089371 ms\n",
      "24/09/06 21:21:43 INFO CodeGenerator: Code generated in 9.875985 ms\n",
      "24/09/06 21:21:43 INFO Executor: Finished task 0.0 in stage 13.0 (TID 12). 2523 bytes result sent to driver\n",
      "24/09/06 21:21:43 INFO TaskSetManager: Finished task 0.0 in stage 13.0 (TID 12) in 361 ms on ubuntu (executor driver) (1/1)\n",
      "24/09/06 21:21:43 INFO TaskSchedulerImpl: Removed TaskSet 13.0, whose tasks have all completed, from pool \n",
      "24/09/06 21:21:43 INFO DAGScheduler: ShuffleMapStage 13 (show at cell19.sc:10) finished in 0,384 s\n",
      "24/09/06 21:21:43 INFO DAGScheduler: looking for newly runnable stages\n",
      "24/09/06 21:21:43 INFO DAGScheduler: running: Set()\n",
      "24/09/06 21:21:43 INFO DAGScheduler: waiting: Set()\n",
      "24/09/06 21:21:43 INFO DAGScheduler: failed: Set()\n",
      "24/09/06 21:21:43 INFO ShufflePartitionsUtil: For shuffle(1), advisory target size: 67108864, actual target size 1048576, minimum partition size: 1048576\n",
      "24/09/06 21:21:43 INFO CodeGenerator: Code generated in 5.751171 ms\n",
      "24/09/06 21:21:43 INFO CodeGenerator: Code generated in 7.398971 ms\n",
      "24/09/06 21:21:43 INFO SparkContext: Starting job: show at cell19.sc:10\n",
      "24/09/06 21:21:43 INFO DAGScheduler: Got job 13 (show at cell19.sc:10) with 1 output partitions\n",
      "24/09/06 21:21:43 INFO DAGScheduler: Final stage: ResultStage 15 (show at cell19.sc:10)\n",
      "24/09/06 21:21:43 INFO DAGScheduler: Parents of final stage: List(ShuffleMapStage 14)\n",
      "24/09/06 21:21:43 INFO DAGScheduler: Missing parents: List()\n",
      "24/09/06 21:21:43 INFO DAGScheduler: Submitting ResultStage 15 (MapPartitionsRDD[57] at show at cell19.sc:10), which has no missing parents\n",
      "24/09/06 21:21:43 INFO MemoryStore: Block broadcast_25 stored as values in memory (estimated size 43.5 KiB, free 4.5 GiB)\n",
      "24/09/06 21:21:43 INFO MemoryStore: Block broadcast_25_piece0 stored as bytes in memory (estimated size 20.0 KiB, free 4.5 GiB)\n",
      "24/09/06 21:21:43 INFO BlockManagerInfo: Added broadcast_25_piece0 in memory on ubuntu:35613 (size: 20.0 KiB, free: 4.5 GiB)\n",
      "24/09/06 21:21:43 INFO SparkContext: Created broadcast 25 from broadcast at DAGScheduler.scala:1580\n",
      "24/09/06 21:21:43 INFO DAGScheduler: Submitting 1 missing tasks from ResultStage 15 (MapPartitionsRDD[57] at show at cell19.sc:10) (first 15 tasks are for partitions Vector(0))\n",
      "24/09/06 21:21:43 INFO TaskSchedulerImpl: Adding task set 15.0 with 1 tasks resource profile 0\n",
      "24/09/06 21:21:43 INFO TaskSetManager: Starting task 0.0 in stage 15.0 (TID 13) (ubuntu, executor driver, partition 0, NODE_LOCAL, 7615 bytes) \n",
      "24/09/06 21:21:43 INFO Executor: Running task 0.0 in stage 15.0 (TID 13)\n",
      "24/09/06 21:21:43 INFO CodeGenerator: Code generated in 6.012607 ms\n",
      "24/09/06 21:21:43 INFO ShuffleBlockFetcherIterator: Getting 1 (36.1 KiB) non-empty blocks including 1 (36.1 KiB) local and 0 (0.0 B) host-local and 0 (0.0 B) push-merged-local and 0 (0.0 B) remote blocks\n",
      "24/09/06 21:21:43 INFO ShuffleBlockFetcherIterator: Started 0 remote fetches in 1 ms\n",
      "24/09/06 21:21:44 INFO CodeGenerator: Code generated in 11.072347 ms\n",
      "24/09/06 21:21:44 INFO CodeGenerator: Code generated in 3.752738 ms\n",
      "24/09/06 21:21:44 INFO CodeGenerator: Code generated in 6.802839 ms\n",
      "24/09/06 21:21:44 INFO CodeGenerator: Code generated in 5.525104 ms\n",
      "24/09/06 21:21:44 INFO Executor: Finished task 0.0 in stage 15.0 (TID 13). 6514 bytes result sent to driver\n",
      "24/09/06 21:21:44 INFO TaskSetManager: Finished task 0.0 in stage 15.0 (TID 13) in 89 ms on ubuntu (executor driver) (1/1)\n",
      "24/09/06 21:21:44 INFO TaskSchedulerImpl: Removed TaskSet 15.0, whose tasks have all completed, from pool \n",
      "24/09/06 21:21:44 INFO DAGScheduler: ResultStage 15 (show at cell19.sc:10) finished in 0,117 s\n",
      "24/09/06 21:21:44 INFO DAGScheduler: Job 13 is finished. Cancelling potential speculative or zombie tasks for this job\n",
      "24/09/06 21:21:44 INFO TaskSchedulerImpl: Killing all running tasks in stage 15: Stage finished\n",
      "24/09/06 21:21:44 INFO DAGScheduler: Job 13 finished: show at cell19.sc:10, took 0,138426 s\n",
      "24/09/06 21:21:44 INFO CodeGenerator: Code generated in 6.366599 ms\n",
      "24/09/06 21:21:44 INFO CodeGenerator: Code generated in 8.83573 ms\n"
     ]
    },
    {
     "name": "stdout",
     "output_type": "stream",
     "text": [
      "+---------+----------+---------------+---------------+\n",
      "|Country  |bd        |min(CustomerID)|max(CustomerID)|\n",
      "+---------+----------+---------------+---------------+\n",
      "|Australia|1966-09-17|12422          |12422          |\n",
      "|Australia|1967-11-29|12424          |12424          |\n",
      "|Australia|1985-12-30|12386          |12386          |\n",
      "|Australia|1986-08-28|12434          |12434          |\n",
      "|Australia|1987-02-26|12393          |12393          |\n",
      "+---------+----------+---------------+---------------+\n",
      "only showing top 5 rows\n",
      "\n"
     ]
    }
   ],
   "source": [
    "spark.sql(\"\"\"\n",
    "select\n",
    "  Country\n",
    "  , date_format(Birthdate, 'yyyy-MM-dd') as bd\n",
    "  , min(CustomerID)\n",
    "  , max(CustomerID)\n",
    "from customer\n",
    "group by Country, bd\n",
    "order by Country\"\"\")\n",
    ".show(5, false)"
   ]
  },
  {
   "cell_type": "code",
   "execution_count": 20,
   "id": "24f30413-3569-4183-b47f-74878e88c7ec",
   "metadata": {
    "scrolled": true
   },
   "outputs": [
    {
     "name": "stderr",
     "output_type": "stream",
     "text": [
      "24/09/06 21:22:01 INFO FileSourceStrategy: Pushed Filters: \n",
      "24/09/06 21:22:01 INFO FileSourceStrategy: Post-Scan Filters: \n",
      "24/09/06 21:22:01 INFO CodeGenerator: Code generated in 8.892048 ms\n",
      "24/09/06 21:22:01 INFO MemoryStore: Block broadcast_26 stored as values in memory (estimated size 198.4 KiB, free 4.5 GiB)\n",
      "24/09/06 21:22:01 INFO MemoryStore: Block broadcast_26_piece0 stored as bytes in memory (estimated size 34.0 KiB, free 4.5 GiB)\n",
      "24/09/06 21:22:01 INFO BlockManagerInfo: Added broadcast_26_piece0 in memory on ubuntu:35613 (size: 34.0 KiB, free: 4.5 GiB)\n",
      "24/09/06 21:22:01 INFO SparkContext: Created broadcast 26 from show at cell20.sc:1\n",
      "24/09/06 21:22:01 INFO FileSourceScanExec: Planning scan with bin packing, max size: 4194304 bytes, open cost is considered as scanning 4194304 bytes.\n",
      "24/09/06 21:22:01 INFO DAGScheduler: Registering RDD 61 (show at cell20.sc:1) as input to shuffle 2\n",
      "24/09/06 21:22:01 INFO DAGScheduler: Got map stage job 14 (show at cell20.sc:1) with 1 output partitions\n",
      "24/09/06 21:22:01 INFO DAGScheduler: Final stage: ShuffleMapStage 16 (show at cell20.sc:1)\n",
      "24/09/06 21:22:01 INFO DAGScheduler: Parents of final stage: List()\n",
      "24/09/06 21:22:01 INFO DAGScheduler: Missing parents: List()\n",
      "24/09/06 21:22:01 INFO DAGScheduler: Submitting ShuffleMapStage 16 (MapPartitionsRDD[61] at show at cell20.sc:1), which has no missing parents\n",
      "24/09/06 21:22:01 INFO MemoryStore: Block broadcast_27 stored as values in memory (estimated size 17.0 KiB, free 4.5 GiB)\n",
      "24/09/06 21:22:01 INFO MemoryStore: Block broadcast_27_piece0 stored as bytes in memory (estimated size 8.3 KiB, free 4.5 GiB)\n",
      "24/09/06 21:22:01 INFO BlockManagerInfo: Added broadcast_27_piece0 in memory on ubuntu:35613 (size: 8.3 KiB, free: 4.5 GiB)\n",
      "24/09/06 21:22:01 INFO SparkContext: Created broadcast 27 from broadcast at DAGScheduler.scala:1580\n",
      "24/09/06 21:22:01 INFO DAGScheduler: Submitting 1 missing tasks from ShuffleMapStage 16 (MapPartitionsRDD[61] at show at cell20.sc:1) (first 15 tasks are for partitions Vector(0))\n",
      "24/09/06 21:22:01 INFO TaskSchedulerImpl: Adding task set 16.0 with 1 tasks resource profile 0\n",
      "24/09/06 21:22:01 INFO TaskSetManager: Starting task 0.0 in stage 16.0 (TID 14) (ubuntu, executor driver, partition 0, PROCESS_LOCAL, 8234 bytes) \n",
      "24/09/06 21:22:01 INFO Executor: Running task 0.0 in stage 16.0 (TID 14)\n",
      "24/09/06 21:22:01 INFO CodeGenerator: Code generated in 8.832204 ms\n",
      "24/09/06 21:22:01 INFO FileScanRDD: Reading File path: file:///home/vadim/workspace/Spark/SparkSQL/data/customer_data.json, range: 0-108790, partition values: [empty row]\n",
      "24/09/06 21:22:01 INFO CodeGenerator: Code generated in 3.887456 ms\n",
      "24/09/06 21:22:01 INFO Executor: Finished task 0.0 in stage 16.0 (TID 14). 1922 bytes result sent to driver\n",
      "24/09/06 21:22:01 INFO TaskSetManager: Finished task 0.0 in stage 16.0 (TID 14) in 42 ms on ubuntu (executor driver) (1/1)\n",
      "24/09/06 21:22:01 INFO TaskSchedulerImpl: Removed TaskSet 16.0, whose tasks have all completed, from pool \n",
      "24/09/06 21:22:01 INFO DAGScheduler: ShuffleMapStage 16 (show at cell20.sc:1) finished in 0,069 s\n",
      "24/09/06 21:22:01 INFO DAGScheduler: looking for newly runnable stages\n",
      "24/09/06 21:22:01 INFO DAGScheduler: running: Set()\n",
      "24/09/06 21:22:01 INFO DAGScheduler: waiting: Set()\n",
      "24/09/06 21:22:01 INFO DAGScheduler: failed: Set()\n",
      "24/09/06 21:22:01 INFO CodeGenerator: Code generated in 16.607678 ms\n",
      "24/09/06 21:22:01 INFO SparkContext: Starting job: show at cell20.sc:1\n",
      "24/09/06 21:22:01 INFO DAGScheduler: Got job 15 (show at cell20.sc:1) with 1 output partitions\n",
      "24/09/06 21:22:01 INFO DAGScheduler: Final stage: ResultStage 18 (show at cell20.sc:1)\n",
      "24/09/06 21:22:01 INFO DAGScheduler: Parents of final stage: List(ShuffleMapStage 17)\n",
      "24/09/06 21:22:01 INFO DAGScheduler: Missing parents: List()\n",
      "24/09/06 21:22:01 INFO DAGScheduler: Submitting ResultStage 18 (MapPartitionsRDD[64] at show at cell20.sc:1), which has no missing parents\n",
      "24/09/06 21:22:01 INFO MemoryStore: Block broadcast_28 stored as values in memory (estimated size 12.6 KiB, free 4.5 GiB)\n",
      "24/09/06 21:22:01 INFO MemoryStore: Block broadcast_28_piece0 stored as bytes in memory (estimated size 6.0 KiB, free 4.5 GiB)\n",
      "24/09/06 21:22:01 INFO BlockManagerInfo: Added broadcast_28_piece0 in memory on ubuntu:35613 (size: 6.0 KiB, free: 4.5 GiB)\n",
      "24/09/06 21:22:01 INFO SparkContext: Created broadcast 28 from broadcast at DAGScheduler.scala:1580\n",
      "24/09/06 21:22:01 INFO DAGScheduler: Submitting 1 missing tasks from ResultStage 18 (MapPartitionsRDD[64] at show at cell20.sc:1) (first 15 tasks are for partitions Vector(0))\n",
      "24/09/06 21:22:01 INFO TaskSchedulerImpl: Adding task set 18.0 with 1 tasks resource profile 0\n",
      "24/09/06 21:22:01 INFO TaskSetManager: Starting task 0.0 in stage 18.0 (TID 15) (ubuntu, executor driver, partition 0, NODE_LOCAL, 7615 bytes) \n",
      "24/09/06 21:22:01 INFO Executor: Running task 0.0 in stage 18.0 (TID 15)\n",
      "24/09/06 21:22:01 INFO ShuffleBlockFetcherIterator: Getting 1 (60.0 B) non-empty blocks including 1 (60.0 B) local and 0 (0.0 B) host-local and 0 (0.0 B) push-merged-local and 0 (0.0 B) remote blocks\n",
      "24/09/06 21:22:01 INFO ShuffleBlockFetcherIterator: Started 0 remote fetches in 3 ms\n",
      "24/09/06 21:22:01 INFO CodeGenerator: Code generated in 15.304958 ms\n",
      "24/09/06 21:22:01 INFO Executor: Finished task 0.0 in stage 18.0 (TID 15). 4004 bytes result sent to driver\n",
      "24/09/06 21:22:01 INFO TaskSetManager: Finished task 0.0 in stage 18.0 (TID 15) in 35 ms on ubuntu (executor driver) (1/1)\n",
      "24/09/06 21:22:01 INFO TaskSchedulerImpl: Removed TaskSet 18.0, whose tasks have all completed, from pool \n",
      "24/09/06 21:22:01 INFO DAGScheduler: ResultStage 18 (show at cell20.sc:1) finished in 0,049 s\n",
      "24/09/06 21:22:01 INFO DAGScheduler: Job 15 is finished. Cancelling potential speculative or zombie tasks for this job\n",
      "24/09/06 21:22:01 INFO TaskSchedulerImpl: Killing all running tasks in stage 18: Stage finished\n",
      "24/09/06 21:22:01 INFO DAGScheduler: Job 15 finished: show at cell20.sc:1, took 0,057228 s\n",
      "24/09/06 21:22:01 INFO CodeGenerator: Code generated in 8.185496 ms\n"
     ]
    },
    {
     "name": "stdout",
     "output_type": "stream",
     "text": [
      "+--------+\n",
      "|count(1)|\n",
      "+--------+\n",
      "|     507|\n",
      "+--------+\n",
      "\n"
     ]
    }
   ],
   "source": [
    "spark.sql(\"select count(*) from customer\").show"
   ]
  },
  {
   "cell_type": "code",
   "execution_count": 21,
   "id": "ab9600af-8959-4b6b-9943-034aa5e3d2f8",
   "metadata": {
    "scrolled": true
   },
   "outputs": [
    {
     "name": "stderr",
     "output_type": "stream",
     "text": [
      "24/09/06 21:22:12 INFO FileSourceStrategy: Pushed Filters: \n",
      "24/09/06 21:22:12 INFO FileSourceStrategy: Post-Scan Filters: \n",
      "24/09/06 21:22:12 INFO FileSourceStrategy: Pushed Filters: \n",
      "24/09/06 21:22:12 INFO FileSourceStrategy: Post-Scan Filters: \n",
      "24/09/06 21:22:13 INFO MemoryStore: Block broadcast_29 stored as values in memory (estimated size 198.4 KiB, free 4.5 GiB)\n",
      "24/09/06 21:22:13 INFO MemoryStore: Block broadcast_29_piece0 stored as bytes in memory (estimated size 34.0 KiB, free 4.5 GiB)\n",
      "24/09/06 21:22:13 INFO BlockManagerInfo: Added broadcast_29_piece0 in memory on ubuntu:35613 (size: 34.0 KiB, free: 4.5 GiB)\n",
      "24/09/06 21:22:13 INFO SparkContext: Created broadcast 29 from show at cell21.sc:1\n",
      "24/09/06 21:22:13 INFO FileSourceScanExec: Planning scan with bin packing, max size: 4194304 bytes, open cost is considered as scanning 4194304 bytes.\n",
      "24/09/06 21:22:13 INFO MemoryStore: Block broadcast_30 stored as values in memory (estimated size 198.4 KiB, free 4.5 GiB)\n",
      "24/09/06 21:22:13 INFO MemoryStore: Block broadcast_30_piece0 stored as bytes in memory (estimated size 34.0 KiB, free 4.5 GiB)\n",
      "24/09/06 21:22:13 INFO BlockManagerInfo: Added broadcast_30_piece0 in memory on ubuntu:35613 (size: 34.0 KiB, free: 4.5 GiB)\n",
      "24/09/06 21:22:13 INFO SparkContext: Created broadcast 30 from show at cell21.sc:1\n",
      "24/09/06 21:22:13 INFO FileSourceScanExec: Planning scan with bin packing, max size: 4194304 bytes, open cost is considered as scanning 4194304 bytes.\n",
      "24/09/06 21:22:13 INFO DAGScheduler: Registering RDD 71 (show at cell21.sc:1) as input to shuffle 3\n",
      "24/09/06 21:22:13 INFO DAGScheduler: Got map stage job 16 (show at cell21.sc:1) with 2 output partitions\n",
      "24/09/06 21:22:13 INFO DAGScheduler: Final stage: ShuffleMapStage 19 (show at cell21.sc:1)\n",
      "24/09/06 21:22:13 INFO DAGScheduler: Parents of final stage: List()\n",
      "24/09/06 21:22:13 INFO DAGScheduler: Missing parents: List()\n",
      "24/09/06 21:22:13 INFO DAGScheduler: Submitting ShuffleMapStage 19 (MapPartitionsRDD[71] at show at cell21.sc:1), which has no missing parents\n",
      "24/09/06 21:22:13 INFO MemoryStore: Block broadcast_31 stored as values in memory (estimated size 18.1 KiB, free 4.5 GiB)\n",
      "24/09/06 21:22:13 INFO MemoryStore: Block broadcast_31_piece0 stored as bytes in memory (estimated size 8.9 KiB, free 4.5 GiB)\n",
      "24/09/06 21:22:13 INFO BlockManagerInfo: Added broadcast_31_piece0 in memory on ubuntu:35613 (size: 8.9 KiB, free: 4.5 GiB)\n",
      "24/09/06 21:22:13 INFO SparkContext: Created broadcast 31 from broadcast at DAGScheduler.scala:1580\n",
      "24/09/06 21:22:13 INFO DAGScheduler: Submitting 2 missing tasks from ShuffleMapStage 19 (MapPartitionsRDD[71] at show at cell21.sc:1) (first 15 tasks are for partitions Vector(0, 1))\n",
      "24/09/06 21:22:13 INFO TaskSchedulerImpl: Adding task set 19.0 with 2 tasks resource profile 0\n",
      "24/09/06 21:22:13 INFO TaskSetManager: Starting task 0.0 in stage 19.0 (TID 16) (ubuntu, executor driver, partition 0, PROCESS_LOCAL, 8343 bytes) \n",
      "24/09/06 21:22:13 INFO TaskSetManager: Starting task 1.0 in stage 19.0 (TID 17) (ubuntu, executor driver, partition 1, PROCESS_LOCAL, 8343 bytes) \n",
      "24/09/06 21:22:13 INFO Executor: Running task 0.0 in stage 19.0 (TID 16)\n",
      "24/09/06 21:22:13 INFO Executor: Running task 1.0 in stage 19.0 (TID 17)\n",
      "24/09/06 21:22:13 INFO FileScanRDD: Reading File path: file:///home/vadim/workspace/Spark/SparkSQL/data/customer_data.json, range: 0-108790, partition values: [empty row]\n",
      "24/09/06 21:22:13 INFO FileScanRDD: Reading File path: file:///home/vadim/workspace/Spark/SparkSQL/data/customer_data.json, range: 0-108790, partition values: [empty row]\n",
      "24/09/06 21:22:13 INFO Executor: Finished task 0.0 in stage 19.0 (TID 16). 1978 bytes result sent to driver\n",
      "24/09/06 21:22:13 INFO Executor: Finished task 1.0 in stage 19.0 (TID 17). 1978 bytes result sent to driver\n",
      "24/09/06 21:22:13 INFO TaskSetManager: Finished task 0.0 in stage 19.0 (TID 16) in 38 ms on ubuntu (executor driver) (1/2)\n",
      "24/09/06 21:22:13 INFO TaskSetManager: Finished task 1.0 in stage 19.0 (TID 17) in 36 ms on ubuntu (executor driver) (2/2)\n",
      "24/09/06 21:22:13 INFO TaskSchedulerImpl: Removed TaskSet 19.0, whose tasks have all completed, from pool \n",
      "24/09/06 21:22:13 INFO DAGScheduler: ShuffleMapStage 19 (show at cell21.sc:1) finished in 0,063 s\n",
      "24/09/06 21:22:13 INFO DAGScheduler: looking for newly runnable stages\n",
      "24/09/06 21:22:13 INFO DAGScheduler: running: Set()\n",
      "24/09/06 21:22:13 INFO DAGScheduler: waiting: Set()\n",
      "24/09/06 21:22:13 INFO DAGScheduler: failed: Set()\n",
      "24/09/06 21:22:13 INFO SparkContext: Starting job: show at cell21.sc:1\n",
      "24/09/06 21:22:13 INFO DAGScheduler: Got job 17 (show at cell21.sc:1) with 1 output partitions\n",
      "24/09/06 21:22:13 INFO DAGScheduler: Final stage: ResultStage 21 (show at cell21.sc:1)\n",
      "24/09/06 21:22:13 INFO DAGScheduler: Parents of final stage: List(ShuffleMapStage 20)\n",
      "24/09/06 21:22:13 INFO DAGScheduler: Missing parents: List()\n",
      "24/09/06 21:22:13 INFO DAGScheduler: Submitting ResultStage 21 (MapPartitionsRDD[74] at show at cell21.sc:1), which has no missing parents\n",
      "24/09/06 21:22:13 INFO MemoryStore: Block broadcast_32 stored as values in memory (estimated size 12.6 KiB, free 4.5 GiB)\n",
      "24/09/06 21:22:13 INFO MemoryStore: Block broadcast_32_piece0 stored as bytes in memory (estimated size 6.0 KiB, free 4.5 GiB)\n",
      "24/09/06 21:22:13 INFO BlockManagerInfo: Added broadcast_32_piece0 in memory on ubuntu:35613 (size: 6.0 KiB, free: 4.5 GiB)\n",
      "24/09/06 21:22:13 INFO SparkContext: Created broadcast 32 from broadcast at DAGScheduler.scala:1580\n",
      "24/09/06 21:22:13 INFO DAGScheduler: Submitting 1 missing tasks from ResultStage 21 (MapPartitionsRDD[74] at show at cell21.sc:1) (first 15 tasks are for partitions Vector(0))\n",
      "24/09/06 21:22:13 INFO TaskSchedulerImpl: Adding task set 21.0 with 1 tasks resource profile 0\n",
      "24/09/06 21:22:13 INFO TaskSetManager: Starting task 0.0 in stage 21.0 (TID 18) (ubuntu, executor driver, partition 0, NODE_LOCAL, 7615 bytes) \n",
      "24/09/06 21:22:13 INFO Executor: Running task 0.0 in stage 21.0 (TID 18)\n",
      "24/09/06 21:22:13 INFO ShuffleBlockFetcherIterator: Getting 2 (120.0 B) non-empty blocks including 2 (120.0 B) local and 0 (0.0 B) host-local and 0 (0.0 B) push-merged-local and 0 (0.0 B) remote blocks\n",
      "24/09/06 21:22:13 INFO ShuffleBlockFetcherIterator: Started 0 remote fetches in 1 ms\n",
      "24/09/06 21:22:13 INFO Executor: Finished task 0.0 in stage 21.0 (TID 18). 4004 bytes result sent to driver\n",
      "24/09/06 21:22:13 INFO TaskSetManager: Finished task 0.0 in stage 21.0 (TID 18) in 22 ms on ubuntu (executor driver) (1/1)\n",
      "24/09/06 21:22:13 INFO TaskSchedulerImpl: Removed TaskSet 21.0, whose tasks have all completed, from pool \n",
      "24/09/06 21:22:13 INFO DAGScheduler: ResultStage 21 (show at cell21.sc:1) finished in 0,046 s\n",
      "24/09/06 21:22:13 INFO DAGScheduler: Job 17 is finished. Cancelling potential speculative or zombie tasks for this job\n",
      "24/09/06 21:22:13 INFO TaskSchedulerImpl: Killing all running tasks in stage 21: Stage finished\n",
      "24/09/06 21:22:13 INFO DAGScheduler: Job 17 finished: show at cell21.sc:1, took 0,067447 s\n"
     ]
    },
    {
     "name": "stdout",
     "output_type": "stream",
     "text": [
      "+--------+\n",
      "|count(1)|\n",
      "+--------+\n",
      "|    1014|\n",
      "+--------+\n",
      "\n"
     ]
    }
   ],
   "source": [
    "spark.sql(\"\"\"\n",
    "select count(*) from (\n",
    "  select * from customer\n",
    "  union all\n",
    "  select * from customer\n",
    ")\"\"\").show"
   ]
  },
  {
   "cell_type": "code",
   "execution_count": 22,
   "id": "a03ceb9c-63d7-4c02-932d-efbd1073edd1",
   "metadata": {
    "scrolled": true
   },
   "outputs": [
    {
     "name": "stderr",
     "output_type": "stream",
     "text": [
      "24/09/06 21:22:26 INFO InMemoryFileIndex: It took 3 ms to list leaf files for 1 paths.\n",
      "24/09/06 21:22:26 INFO InMemoryFileIndex: It took 1 ms to list leaf files for 1 paths.\n",
      "24/09/06 21:22:26 INFO FileSourceStrategy: Pushed Filters: \n",
      "24/09/06 21:22:26 INFO FileSourceStrategy: Post-Scan Filters: \n",
      "24/09/06 21:22:26 INFO MemoryStore: Block broadcast_33 stored as values in memory (estimated size 198.5 KiB, free 4.5 GiB)\n",
      "24/09/06 21:22:26 INFO MemoryStore: Block broadcast_33_piece0 stored as bytes in memory (estimated size 34.0 KiB, free 4.5 GiB)\n",
      "24/09/06 21:22:26 INFO BlockManagerInfo: Added broadcast_33_piece0 in memory on ubuntu:35613 (size: 34.0 KiB, free: 4.5 GiB)\n",
      "24/09/06 21:22:26 INFO SparkContext: Created broadcast 33 from load at cell22.sc:1\n",
      "24/09/06 21:22:26 INFO FileSourceScanExec: Planning scan with bin packing, max size: 4194304 bytes, open cost is considered as scanning 4194304 bytes.\n",
      "24/09/06 21:22:26 INFO SparkContext: Starting job: load at cell22.sc:1\n",
      "24/09/06 21:22:26 INFO DAGScheduler: Got job 18 (load at cell22.sc:1) with 2 output partitions\n",
      "24/09/06 21:22:26 INFO DAGScheduler: Final stage: ResultStage 22 (load at cell22.sc:1)\n",
      "24/09/06 21:22:26 INFO DAGScheduler: Parents of final stage: List()\n",
      "24/09/06 21:22:26 INFO DAGScheduler: Missing parents: List()\n",
      "24/09/06 21:22:26 INFO DAGScheduler: Submitting ResultStage 22 (MapPartitionsRDD[78] at load at cell22.sc:1), which has no missing parents\n",
      "24/09/06 21:22:27 INFO MemoryStore: Block broadcast_34 stored as values in memory (estimated size 15.8 KiB, free 4.5 GiB)\n",
      "24/09/06 21:22:27 INFO MemoryStore: Block broadcast_34_piece0 stored as bytes in memory (estimated size 7.4 KiB, free 4.5 GiB)\n",
      "24/09/06 21:22:27 INFO BlockManagerInfo: Added broadcast_34_piece0 in memory on ubuntu:35613 (size: 7.4 KiB, free: 4.5 GiB)\n",
      "24/09/06 21:22:27 INFO SparkContext: Created broadcast 34 from broadcast at DAGScheduler.scala:1580\n",
      "24/09/06 21:22:27 INFO DAGScheduler: Submitting 2 missing tasks from ResultStage 22 (MapPartitionsRDD[78] at load at cell22.sc:1) (first 15 tasks are for partitions Vector(0, 1))\n",
      "24/09/06 21:22:27 INFO TaskSchedulerImpl: Adding task set 22.0 with 2 tasks resource profile 0\n",
      "24/09/06 21:22:27 INFO TaskSetManager: Starting task 0.0 in stage 22.0 (TID 19) (ubuntu, executor driver, partition 0, PROCESS_LOCAL, 8243 bytes) \n",
      "24/09/06 21:22:27 INFO TaskSetManager: Starting task 1.0 in stage 22.0 (TID 20) (ubuntu, executor driver, partition 1, PROCESS_LOCAL, 8243 bytes) \n",
      "24/09/06 21:22:27 INFO Executor: Running task 1.0 in stage 22.0 (TID 20)\n",
      "24/09/06 21:22:27 INFO Executor: Running task 0.0 in stage 22.0 (TID 19)\n",
      "24/09/06 21:22:27 INFO FileScanRDD: Reading File path: file:///home/vadim/workspace/Spark/SparkSQL/data/retail_data.json, range: 4194304-7997578, partition values: [empty row]\n",
      "24/09/06 21:22:27 INFO FileScanRDD: Reading File path: file:///home/vadim/workspace/Spark/SparkSQL/data/retail_data.json, range: 0-4194304, partition values: [empty row]\n",
      "24/09/06 21:22:27 INFO BlockManagerInfo: Removed broadcast_25_piece0 on ubuntu:35613 in memory (size: 20.0 KiB, free: 4.5 GiB)\n",
      "24/09/06 21:22:27 INFO BlockManagerInfo: Removed broadcast_28_piece0 on ubuntu:35613 in memory (size: 6.0 KiB, free: 4.5 GiB)\n",
      "24/09/06 21:22:27 INFO BlockManagerInfo: Removed broadcast_26_piece0 on ubuntu:35613 in memory (size: 34.0 KiB, free: 4.5 GiB)\n",
      "24/09/06 21:22:27 INFO BlockManagerInfo: Removed broadcast_29_piece0 on ubuntu:35613 in memory (size: 34.0 KiB, free: 4.5 GiB)\n",
      "24/09/06 21:22:27 INFO BlockManagerInfo: Removed broadcast_23_piece0 on ubuntu:35613 in memory (size: 34.0 KiB, free: 4.5 GiB)\n",
      "24/09/06 21:22:27 INFO BlockManagerInfo: Removed broadcast_31_piece0 on ubuntu:35613 in memory (size: 8.9 KiB, free: 4.5 GiB)\n",
      "24/09/06 21:22:27 INFO Executor: Finished task 0.0 in stage 22.0 (TID 19). 2136 bytes result sent to driver\n",
      "24/09/06 21:22:27 INFO TaskSetManager: Finished task 0.0 in stage 22.0 (TID 19) in 308 ms on ubuntu (executor driver) (1/2)\n",
      "24/09/06 21:22:27 INFO BlockManagerInfo: Removed broadcast_24_piece0 on ubuntu:35613 in memory (size: 16.4 KiB, free: 4.5 GiB)\n",
      "24/09/06 21:22:27 INFO BlockManagerInfo: Removed broadcast_30_piece0 on ubuntu:35613 in memory (size: 34.0 KiB, free: 4.5 GiB)\n",
      "24/09/06 21:22:27 INFO BlockManagerInfo: Removed broadcast_32_piece0 on ubuntu:35613 in memory (size: 6.0 KiB, free: 4.5 GiB)\n",
      "24/09/06 21:22:27 INFO BlockManagerInfo: Removed broadcast_27_piece0 on ubuntu:35613 in memory (size: 8.3 KiB, free: 4.5 GiB)\n",
      "24/09/06 21:22:27 INFO Executor: Finished task 1.0 in stage 22.0 (TID 20). 2136 bytes result sent to driver\n",
      "24/09/06 21:22:27 INFO TaskSetManager: Finished task 1.0 in stage 22.0 (TID 20) in 354 ms on ubuntu (executor driver) (2/2)\n",
      "24/09/06 21:22:27 INFO TaskSchedulerImpl: Removed TaskSet 22.0, whose tasks have all completed, from pool \n",
      "24/09/06 21:22:27 INFO DAGScheduler: ResultStage 22 (load at cell22.sc:1) finished in 0,386 s\n",
      "24/09/06 21:22:27 INFO DAGScheduler: Job 18 is finished. Cancelling potential speculative or zombie tasks for this job\n",
      "24/09/06 21:22:27 INFO TaskSchedulerImpl: Killing all running tasks in stage 22: Stage finished\n",
      "24/09/06 21:22:27 INFO DAGScheduler: Job 18 finished: load at cell22.sc:1, took 0,397170 s\n"
     ]
    },
    {
     "data": {
      "text/plain": [
       "\u001b[36mretailDF\u001b[39m: \u001b[32mDataFrame\u001b[39m = [CustomerID: string, Description: string ... 5 more fields]"
      ]
     },
     "execution_count": 22,
     "metadata": {},
     "output_type": "execute_result"
    }
   ],
   "source": [
    "val retailDF = spark.read.format(\"json\").load(\"data/retail_data.json\")"
   ]
  },
  {
   "cell_type": "code",
   "execution_count": 23,
   "id": "693813b9-7df9-4c0b-a4d8-a2a04080e759",
   "metadata": {},
   "outputs": [],
   "source": [
    "retailDF.createOrReplaceTempView(\"retail\")"
   ]
  },
  {
   "cell_type": "code",
   "execution_count": 24,
   "id": "89952bc5-8dee-4caf-ac5f-3798dca1dd33",
   "metadata": {
    "scrolled": true
   },
   "outputs": [
    {
     "data": {
      "text/plain": [
       "\u001b[36mjDF\u001b[39m: \u001b[32mDataFrame\u001b[39m = [Address: string, Birthdate: string ... 12 more fields]"
      ]
     },
     "execution_count": 24,
     "metadata": {},
     "output_type": "execute_result"
    }
   ],
   "source": [
    "val jDF = spark.sql(\"\"\"\n",
    "select c.*, r.*\n",
    "from customer c\n",
    "join retail r\n",
    "on c.CustomerID == r.CustomerID\n",
    "\"\"\")"
   ]
  },
  {
   "cell_type": "code",
   "execution_count": 25,
   "id": "e2eecf71-fdc1-41b4-b452-22f0b54bbe67",
   "metadata": {},
   "outputs": [
    {
     "name": "stdout",
     "output_type": "stream",
     "text": [
      "root\n",
      " |-- Address: string (nullable = true)\n",
      " |-- Birthdate: string (nullable = true)\n",
      " |-- Country: string (nullable = true)\n",
      " |-- CustomerID: string (nullable = true)\n",
      " |-- Email: string (nullable = true)\n",
      " |-- Name: string (nullable = true)\n",
      " |-- Username: string (nullable = true)\n",
      " |-- CustomerID: string (nullable = true)\n",
      " |-- Description: string (nullable = true)\n",
      " |-- InvoiceDate: string (nullable = true)\n",
      " |-- InvoiceNo: string (nullable = true)\n",
      " |-- Quantity: string (nullable = true)\n",
      " |-- StockCode: string (nullable = true)\n",
      " |-- UnitPrice: string (nullable = true)\n",
      "\n"
     ]
    }
   ],
   "source": [
    "jDF.printSchema"
   ]
  },
  {
   "cell_type": "code",
   "execution_count": 26,
   "id": "ae63d3f0-b6e2-4ae2-8381-7f03667aec0b",
   "metadata": {
    "scrolled": true
   },
   "outputs": [
    {
     "name": "stderr",
     "output_type": "stream",
     "text": [
      "24/09/06 21:23:05 INFO FileSourceStrategy: Pushed Filters: IsNotNull(CustomerID)\n",
      "24/09/06 21:23:05 INFO FileSourceStrategy: Post-Scan Filters: isnotnull(CustomerID#11)\n",
      "24/09/06 21:23:05 INFO FileSourceStrategy: Pushed Filters: IsNotNull(CustomerID)\n",
      "24/09/06 21:23:05 INFO FileSourceStrategy: Post-Scan Filters: isnotnull(CustomerID#363)\n",
      "24/09/06 21:23:05 INFO CodeGenerator: Code generated in 6.68829 ms\n",
      "24/09/06 21:23:05 INFO MemoryStore: Block broadcast_35 stored as values in memory (estimated size 198.4 KiB, free 4.5 GiB)\n",
      "24/09/06 21:23:05 INFO MemoryStore: Block broadcast_35_piece0 stored as bytes in memory (estimated size 34.0 KiB, free 4.5 GiB)\n",
      "24/09/06 21:23:05 INFO BlockManagerInfo: Added broadcast_35_piece0 in memory on ubuntu:35613 (size: 34.0 KiB, free: 4.5 GiB)\n",
      "24/09/06 21:23:05 INFO SparkContext: Created broadcast 35 from $anonfun$withThreadLocalCaptured$1 at FutureTask.java:264\n",
      "24/09/06 21:23:05 INFO FileSourceScanExec: Planning scan with bin packing, max size: 4194304 bytes, open cost is considered as scanning 4194304 bytes.\n",
      "24/09/06 21:23:05 INFO SparkContext: Starting job: $anonfun$withThreadLocalCaptured$1 at FutureTask.java:264\n",
      "24/09/06 21:23:05 INFO DAGScheduler: Got job 19 ($anonfun$withThreadLocalCaptured$1 at FutureTask.java:264) with 1 output partitions\n",
      "24/09/06 21:23:05 INFO DAGScheduler: Final stage: ResultStage 23 ($anonfun$withThreadLocalCaptured$1 at FutureTask.java:264)\n",
      "24/09/06 21:23:05 INFO DAGScheduler: Parents of final stage: List()\n",
      "24/09/06 21:23:05 INFO DAGScheduler: Missing parents: List()\n",
      "24/09/06 21:23:05 INFO DAGScheduler: Submitting ResultStage 23 (MapPartitionsRDD[82] at $anonfun$withThreadLocalCaptured$1 at FutureTask.java:264), which has no missing parents\n",
      "24/09/06 21:23:05 INFO MemoryStore: Block broadcast_36 stored as values in memory (estimated size 16.8 KiB, free 4.5 GiB)\n",
      "24/09/06 21:23:05 INFO MemoryStore: Block broadcast_36_piece0 stored as bytes in memory (estimated size 7.6 KiB, free 4.5 GiB)\n",
      "24/09/06 21:23:05 INFO BlockManagerInfo: Added broadcast_36_piece0 in memory on ubuntu:35613 (size: 7.6 KiB, free: 4.5 GiB)\n",
      "24/09/06 21:23:05 INFO SparkContext: Created broadcast 36 from broadcast at DAGScheduler.scala:1580\n",
      "24/09/06 21:23:05 INFO DAGScheduler: Submitting 1 missing tasks from ResultStage 23 (MapPartitionsRDD[82] at $anonfun$withThreadLocalCaptured$1 at FutureTask.java:264) (first 15 tasks are for partitions Vector(0))\n",
      "24/09/06 21:23:05 INFO TaskSchedulerImpl: Adding task set 23.0 with 1 tasks resource profile 0\n",
      "24/09/06 21:23:05 INFO TaskSetManager: Starting task 0.0 in stage 23.0 (TID 21) (ubuntu, executor driver, partition 0, PROCESS_LOCAL, 8245 bytes) \n",
      "24/09/06 21:23:05 INFO Executor: Running task 0.0 in stage 23.0 (TID 21)\n",
      "24/09/06 21:23:05 INFO CodeGenerator: Code generated in 8.949272 ms\n",
      "24/09/06 21:23:05 INFO FileScanRDD: Reading File path: file:///home/vadim/workspace/Spark/SparkSQL/data/customer_data.json, range: 0-108790, partition values: [empty row]\n",
      "24/09/06 21:23:05 INFO CodeGenerator: Code generated in 4.33204 ms\n",
      "24/09/06 21:23:05 INFO Executor: Finished task 0.0 in stage 23.0 (TID 21). 63135 bytes result sent to driver\n",
      "24/09/06 21:23:05 INFO TaskSetManager: Finished task 0.0 in stage 23.0 (TID 21) in 54 ms on ubuntu (executor driver) (1/1)\n",
      "24/09/06 21:23:05 INFO TaskSchedulerImpl: Removed TaskSet 23.0, whose tasks have all completed, from pool \n",
      "24/09/06 21:23:05 INFO DAGScheduler: ResultStage 23 ($anonfun$withThreadLocalCaptured$1 at FutureTask.java:264) finished in 0,066 s\n",
      "24/09/06 21:23:05 INFO DAGScheduler: Job 19 is finished. Cancelling potential speculative or zombie tasks for this job\n",
      "24/09/06 21:23:05 INFO TaskSchedulerImpl: Killing all running tasks in stage 23: Stage finished\n",
      "24/09/06 21:23:05 INFO DAGScheduler: Job 19 finished: $anonfun$withThreadLocalCaptured$1 at FutureTask.java:264, took 0,074555 s\n",
      "24/09/06 21:23:05 INFO CodeGenerator: Code generated in 7.773585 ms\n",
      "24/09/06 21:23:05 INFO MemoryStore: Block broadcast_37 stored as values in memory (estimated size 32.0 MiB, free 4.5 GiB)\n",
      "24/09/06 21:23:05 INFO MemoryStore: Block broadcast_37_piece0 stored as bytes in memory (estimated size 65.5 KiB, free 4.5 GiB)\n",
      "24/09/06 21:23:05 INFO BlockManagerInfo: Added broadcast_37_piece0 in memory on ubuntu:35613 (size: 65.5 KiB, free: 4.5 GiB)\n",
      "24/09/06 21:23:05 INFO SparkContext: Created broadcast 37 from $anonfun$withThreadLocalCaptured$1 at FutureTask.java:264\n",
      "24/09/06 21:23:05 INFO FileSourceStrategy: Pushed Filters: IsNotNull(CustomerID)\n",
      "24/09/06 21:23:05 INFO FileSourceStrategy: Post-Scan Filters: isnotnull(CustomerID#363)\n",
      "24/09/06 21:23:05 INFO CodeGenerator: Code generated in 16.461047 ms\n",
      "24/09/06 21:23:05 INFO MemoryStore: Block broadcast_38 stored as values in memory (estimated size 198.4 KiB, free 4.5 GiB)\n",
      "24/09/06 21:23:05 INFO MemoryStore: Block broadcast_38_piece0 stored as bytes in memory (estimated size 34.0 KiB, free 4.5 GiB)\n",
      "24/09/06 21:23:05 INFO BlockManagerInfo: Added broadcast_38_piece0 in memory on ubuntu:35613 (size: 34.0 KiB, free: 4.5 GiB)\n",
      "24/09/06 21:23:05 INFO SparkContext: Created broadcast 38 from show at cell26.sc:1\n",
      "24/09/06 21:23:05 INFO FileSourceScanExec: Planning scan with bin packing, max size: 4194304 bytes, open cost is considered as scanning 4194304 bytes.\n",
      "24/09/06 21:23:05 INFO SparkContext: Starting job: show at cell26.sc:1\n",
      "24/09/06 21:23:05 INFO DAGScheduler: Got job 20 (show at cell26.sc:1) with 1 output partitions\n",
      "24/09/06 21:23:05 INFO DAGScheduler: Final stage: ResultStage 24 (show at cell26.sc:1)\n",
      "24/09/06 21:23:05 INFO DAGScheduler: Parents of final stage: List()\n",
      "24/09/06 21:23:05 INFO DAGScheduler: Missing parents: List()\n",
      "24/09/06 21:23:05 INFO DAGScheduler: Submitting ResultStage 24 (MapPartitionsRDD[86] at show at cell26.sc:1), which has no missing parents\n",
      "24/09/06 21:23:05 INFO MemoryStore: Block broadcast_39 stored as values in memory (estimated size 21.1 KiB, free 4.5 GiB)\n",
      "24/09/06 21:23:05 INFO MemoryStore: Block broadcast_39_piece0 stored as bytes in memory (estimated size 9.0 KiB, free 4.5 GiB)\n",
      "24/09/06 21:23:05 INFO BlockManagerInfo: Added broadcast_39_piece0 in memory on ubuntu:35613 (size: 9.0 KiB, free: 4.5 GiB)\n",
      "24/09/06 21:23:05 INFO SparkContext: Created broadcast 39 from broadcast at DAGScheduler.scala:1580\n",
      "24/09/06 21:23:05 INFO DAGScheduler: Submitting 1 missing tasks from ResultStage 24 (MapPartitionsRDD[86] at show at cell26.sc:1) (first 15 tasks are for partitions Vector(0))\n",
      "24/09/06 21:23:05 INFO TaskSchedulerImpl: Adding task set 24.0 with 1 tasks resource profile 0\n",
      "24/09/06 21:23:05 INFO TaskSetManager: Starting task 0.0 in stage 24.0 (TID 22) (ubuntu, executor driver, partition 0, PROCESS_LOCAL, 8243 bytes) \n",
      "24/09/06 21:23:05 INFO Executor: Running task 0.0 in stage 24.0 (TID 22)\n",
      "24/09/06 21:23:05 INFO CodeGenerator: Code generated in 22.191093 ms\n",
      "24/09/06 21:23:05 INFO FileScanRDD: Reading File path: file:///home/vadim/workspace/Spark/SparkSQL/data/retail_data.json, range: 0-4194304, partition values: [empty row]\n",
      "24/09/06 21:23:05 INFO CodeGenerator: Code generated in 3.837401 ms\n",
      "24/09/06 21:23:05 INFO Executor: Finished task 0.0 in stage 24.0 (TID 22). 2554 bytes result sent to driver\n",
      "24/09/06 21:23:05 INFO TaskSetManager: Finished task 0.0 in stage 24.0 (TID 22) in 56 ms on ubuntu (executor driver) (1/1)\n",
      "24/09/06 21:23:05 INFO TaskSchedulerImpl: Removed TaskSet 24.0, whose tasks have all completed, from pool \n",
      "24/09/06 21:23:05 INFO DAGScheduler: ResultStage 24 (show at cell26.sc:1) finished in 0,075 s\n",
      "24/09/06 21:23:05 INFO DAGScheduler: Job 20 is finished. Cancelling potential speculative or zombie tasks for this job\n",
      "24/09/06 21:23:05 INFO TaskSchedulerImpl: Killing all running tasks in stage 24: Stage finished\n",
      "24/09/06 21:23:05 INFO DAGScheduler: Job 20 finished: show at cell26.sc:1, took 0,084905 s\n",
      "24/09/06 21:23:05 INFO CodeGenerator: Code generated in 10.145804 ms\n"
     ]
    },
    {
     "name": "stdout",
     "output_type": "stream",
     "text": [
      "+------------------------------------------------------+-------------------+--------------+----------+------------------------+---------------+----------------+----------+---------------------------------+---------------+---------+--------+---------+---------+\n",
      "|Address                                               |Birthdate          |Country       |CustomerID|Email                   |Name           |Username        |CustomerID|Description                      |InvoiceDate    |InvoiceNo|Quantity|StockCode|UnitPrice|\n",
      "+------------------------------------------------------+-------------------+--------------+----------+------------------------+---------------+----------------+----------+---------------------------------+---------------+---------+--------+---------+---------+\n",
      "|Unit 1047 Box 4089\\nDPO AA 57348                      |1994-02-20 00:46:27|United Kingdom|12346     |cooperalexis@hotmail.com|Lindsay Cowan  |valenciajennifer|12346     |MEDIUM CERAMIC TOP STORAGE JAR   |1/18/2011 10:01|541431   |74215   |23166    |1.04     |\n",
      "|Unit 1047 Box 4089\\nDPO AA 57348                      |1994-02-20 00:46:27|United Kingdom|12346     |cooperalexis@hotmail.com|Lindsay Cowan  |valenciajennifer|12346     |MEDIUM CERAMIC TOP STORAGE JAR   |1/18/2011 10:17|C541433  |-74215  |23166    |1.04     |\n",
      "|55711 Janet Plaza Apt. 865\\nChristinachester, CT 62716|1988-06-21 00:15:34|Iceland       |12347     |timothy78@hotmail.com   |Katherine David|hillrachel      |12347     |BLACK CANDELABRA T-LIGHT HOLDER  |12/7/2010 14:57|537626   |12      |85116    |2.1      |\n",
      "|55711 Janet Plaza Apt. 865\\nChristinachester, CT 62716|1988-06-21 00:15:34|Iceland       |12347     |timothy78@hotmail.com   |Katherine David|hillrachel      |12347     |AIRLINE BAG VINTAGE JET SET BROWN|12/7/2010 14:57|537626   |4       |22375    |4.25     |\n",
      "|55711 Janet Plaza Apt. 865\\nChristinachester, CT 62716|1988-06-21 00:15:34|Iceland       |12347     |timothy78@hotmail.com   |Katherine David|hillrachel      |12347     |COLOUR GLASS. STAR T-LIGHT HOLDER|12/7/2010 14:57|537626   |12      |71477    |3.25     |\n",
      "+------------------------------------------------------+-------------------+--------------+----------+------------------------+---------------+----------------+----------+---------------------------------+---------------+---------+--------+---------+---------+\n",
      "only showing top 5 rows\n",
      "\n"
     ]
    }
   ],
   "source": [
    "jDF.show(5, false)"
   ]
  },
  {
   "cell_type": "code",
   "execution_count": 27,
   "id": "5bf6c161-de26-4439-92d7-c7274e6846f0",
   "metadata": {
    "scrolled": true
   },
   "outputs": [
    {
     "ename": "org.apache.spark.sql.AnalysisException",
     "evalue": "[AMBIGUOUS_REFERENCE] Reference `CustomerID` is ambiguous, could be: [`c`.`CustomerID`, `r`.`CustomerID`].",
     "output_type": "error",
     "traceback": [
      "\u001b[31morg.apache.spark.sql.AnalysisException: [AMBIGUOUS_REFERENCE] Reference `CustomerID` is ambiguous, could be: [`c`.`CustomerID`, `r`.`CustomerID`].\u001b[39m",
      "  org.apache.spark.sql.errors.QueryCompilationErrors$.ambiguousReferenceError(\u001b[32mQueryCompilationErrors.scala\u001b[39m:\u001b[32m1938\u001b[39m)",
      "  org.apache.spark.sql.catalyst.expressions.package$AttributeSeq.resolve(\u001b[32mpackage.scala\u001b[39m:\u001b[32m377\u001b[39m)",
      "  org.apache.spark.sql.catalyst.plans.logical.LogicalPlan.resolveChildren(\u001b[32mLogicalPlan.scala\u001b[39m:\u001b[32m144\u001b[39m)",
      "  org.apache.spark.sql.catalyst.analysis.ColumnResolutionHelper.$anonfun$resolveExpressionByPlanChildren$2(\u001b[32mColumnResolutionHelper.scala\u001b[39m:\u001b[32m377\u001b[39m)",
      "  org.apache.spark.sql.catalyst.analysis.ColumnResolutionHelper.$anonfun$resolveExpression$3(\u001b[32mColumnResolutionHelper.scala\u001b[39m:\u001b[32m157\u001b[39m)",
      "  org.apache.spark.sql.catalyst.analysis.package$.withPosition(\u001b[32mpackage.scala\u001b[39m:\u001b[32m100\u001b[39m)",
      "  org.apache.spark.sql.catalyst.analysis.ColumnResolutionHelper.$anonfun$resolveExpression$1(\u001b[32mColumnResolutionHelper.scala\u001b[39m:\u001b[32m164\u001b[39m)",
      "  org.apache.spark.sql.catalyst.trees.CurrentOrigin$.withOrigin(\u001b[32morigin.scala\u001b[39m:\u001b[32m76\u001b[39m)",
      "  org.apache.spark.sql.catalyst.analysis.ColumnResolutionHelper.innerResolve$1(\u001b[32mColumnResolutionHelper.scala\u001b[39m:\u001b[32m135\u001b[39m)",
      "  org.apache.spark.sql.catalyst.analysis.ColumnResolutionHelper.resolveExpression(\u001b[32mColumnResolutionHelper.scala\u001b[39m:\u001b[32m194\u001b[39m)",
      "  org.apache.spark.sql.catalyst.analysis.ColumnResolutionHelper.resolveExpressionByPlanChildren(\u001b[32mColumnResolutionHelper.scala\u001b[39m:\u001b[32m384\u001b[39m)",
      "  org.apache.spark.sql.catalyst.analysis.ColumnResolutionHelper.resolveExpressionByPlanChildren$(\u001b[32mColumnResolutionHelper.scala\u001b[39m:\u001b[32m357\u001b[39m)",
      "  org.apache.spark.sql.catalyst.analysis.Analyzer$ResolveReferences$.resolveExpressionByPlanChildren(\u001b[32mAnalyzer.scala\u001b[39m:\u001b[32m1466\u001b[39m)",
      "  org.apache.spark.sql.catalyst.analysis.Analyzer$ResolveReferences$$anonfun$apply$16.$anonfun$applyOrElse$110(\u001b[32mAnalyzer.scala\u001b[39m:\u001b[32m1604\u001b[39m)",
      "  scala.collection.TraversableLike.$anonfun$map$1(\u001b[32mTraversableLike.scala\u001b[39m:\u001b[32m286\u001b[39m)",
      "  scala.collection.mutable.ResizableArray.foreach(\u001b[32mResizableArray.scala\u001b[39m:\u001b[32m62\u001b[39m)",
      "  scala.collection.mutable.ResizableArray.foreach$(\u001b[32mResizableArray.scala\u001b[39m:\u001b[32m55\u001b[39m)",
      "  scala.collection.mutable.ArrayBuffer.foreach(\u001b[32mArrayBuffer.scala\u001b[39m:\u001b[32m49\u001b[39m)",
      "  scala.collection.TraversableLike.map(\u001b[32mTraversableLike.scala\u001b[39m:\u001b[32m286\u001b[39m)",
      "  scala.collection.TraversableLike.map$(\u001b[32mTraversableLike.scala\u001b[39m:\u001b[32m279\u001b[39m)",
      "  scala.collection.AbstractTraversable.map(\u001b[32mTraversable.scala\u001b[39m:\u001b[32m108\u001b[39m)",
      "  org.apache.spark.sql.catalyst.analysis.Analyzer$ResolveReferences$$anonfun$apply$16.applyOrElse(\u001b[32mAnalyzer.scala\u001b[39m:\u001b[32m1604\u001b[39m)",
      "  org.apache.spark.sql.catalyst.analysis.Analyzer$ResolveReferences$$anonfun$apply$16.applyOrElse(\u001b[32mAnalyzer.scala\u001b[39m:\u001b[32m1491\u001b[39m)",
      "  org.apache.spark.sql.catalyst.plans.logical.AnalysisHelper.$anonfun$resolveOperatorsUpWithPruning$3(\u001b[32mAnalysisHelper.scala\u001b[39m:\u001b[32m138\u001b[39m)",
      "  org.apache.spark.sql.catalyst.trees.CurrentOrigin$.withOrigin(\u001b[32morigin.scala\u001b[39m:\u001b[32m76\u001b[39m)",
      "  org.apache.spark.sql.catalyst.plans.logical.AnalysisHelper.$anonfun$resolveOperatorsUpWithPruning$1(\u001b[32mAnalysisHelper.scala\u001b[39m:\u001b[32m138\u001b[39m)",
      "  org.apache.spark.sql.catalyst.plans.logical.AnalysisHelper$.allowInvokingTransformsInAnalyzer(\u001b[32mAnalysisHelper.scala\u001b[39m:\u001b[32m323\u001b[39m)",
      "  org.apache.spark.sql.catalyst.plans.logical.AnalysisHelper.resolveOperatorsUpWithPruning(\u001b[32mAnalysisHelper.scala\u001b[39m:\u001b[32m134\u001b[39m)",
      "  org.apache.spark.sql.catalyst.plans.logical.AnalysisHelper.resolveOperatorsUpWithPruning$(\u001b[32mAnalysisHelper.scala\u001b[39m:\u001b[32m130\u001b[39m)",
      "  org.apache.spark.sql.catalyst.plans.logical.LogicalPlan.resolveOperatorsUpWithPruning(\u001b[32mLogicalPlan.scala\u001b[39m:\u001b[32m32\u001b[39m)",
      "  org.apache.spark.sql.catalyst.plans.logical.AnalysisHelper.resolveOperatorsUp(\u001b[32mAnalysisHelper.scala\u001b[39m:\u001b[32m111\u001b[39m)",
      "  org.apache.spark.sql.catalyst.plans.logical.AnalysisHelper.resolveOperatorsUp$(\u001b[32mAnalysisHelper.scala\u001b[39m:\u001b[32m110\u001b[39m)",
      "  org.apache.spark.sql.catalyst.plans.logical.LogicalPlan.resolveOperatorsUp(\u001b[32mLogicalPlan.scala\u001b[39m:\u001b[32m32\u001b[39m)",
      "  org.apache.spark.sql.catalyst.analysis.Analyzer$ResolveReferences$.apply(\u001b[32mAnalyzer.scala\u001b[39m:\u001b[32m1491\u001b[39m)",
      "  org.apache.spark.sql.catalyst.analysis.Analyzer$ResolveReferences$.apply(\u001b[32mAnalyzer.scala\u001b[39m:\u001b[32m1466\u001b[39m)",
      "  org.apache.spark.sql.catalyst.rules.RuleExecutor.$anonfun$execute$2(\u001b[32mRuleExecutor.scala\u001b[39m:\u001b[32m222\u001b[39m)",
      "  scala.collection.LinearSeqOptimized.foldLeft(\u001b[32mLinearSeqOptimized.scala\u001b[39m:\u001b[32m126\u001b[39m)",
      "  scala.collection.LinearSeqOptimized.foldLeft$(\u001b[32mLinearSeqOptimized.scala\u001b[39m:\u001b[32m122\u001b[39m)",
      "  scala.collection.immutable.List.foldLeft(\u001b[32mList.scala\u001b[39m:\u001b[32m91\u001b[39m)",
      "  org.apache.spark.sql.catalyst.rules.RuleExecutor.$anonfun$execute$1(\u001b[32mRuleExecutor.scala\u001b[39m:\u001b[32m219\u001b[39m)",
      "  org.apache.spark.sql.catalyst.rules.RuleExecutor.$anonfun$execute$1$adapted(\u001b[32mRuleExecutor.scala\u001b[39m:\u001b[32m211\u001b[39m)",
      "  scala.collection.immutable.List.foreach(\u001b[32mList.scala\u001b[39m:\u001b[32m431\u001b[39m)",
      "  org.apache.spark.sql.catalyst.rules.RuleExecutor.execute(\u001b[32mRuleExecutor.scala\u001b[39m:\u001b[32m211\u001b[39m)",
      "  org.apache.spark.sql.catalyst.analysis.Analyzer.org$apache$spark$sql$catalyst$analysis$Analyzer$$executeSameContext(\u001b[32mAnalyzer.scala\u001b[39m:\u001b[32m226\u001b[39m)",
      "  org.apache.spark.sql.catalyst.analysis.Analyzer.$anonfun$execute$1(\u001b[32mAnalyzer.scala\u001b[39m:\u001b[32m222\u001b[39m)",
      "  org.apache.spark.sql.catalyst.analysis.AnalysisContext$.withNewAnalysisContext(\u001b[32mAnalyzer.scala\u001b[39m:\u001b[32m173\u001b[39m)",
      "  org.apache.spark.sql.catalyst.analysis.Analyzer.execute(\u001b[32mAnalyzer.scala\u001b[39m:\u001b[32m222\u001b[39m)",
      "  org.apache.spark.sql.catalyst.analysis.Analyzer.execute(\u001b[32mAnalyzer.scala\u001b[39m:\u001b[32m188\u001b[39m)",
      "  org.apache.spark.sql.catalyst.rules.RuleExecutor.$anonfun$executeAndTrack$1(\u001b[32mRuleExecutor.scala\u001b[39m:\u001b[32m182\u001b[39m)",
      "  org.apache.spark.sql.catalyst.QueryPlanningTracker$.withTracker(\u001b[32mQueryPlanningTracker.scala\u001b[39m:\u001b[32m89\u001b[39m)",
      "  org.apache.spark.sql.catalyst.rules.RuleExecutor.executeAndTrack(\u001b[32mRuleExecutor.scala\u001b[39m:\u001b[32m182\u001b[39m)",
      "  org.apache.spark.sql.catalyst.analysis.Analyzer.$anonfun$executeAndCheck$1(\u001b[32mAnalyzer.scala\u001b[39m:\u001b[32m209\u001b[39m)",
      "  org.apache.spark.sql.catalyst.plans.logical.AnalysisHelper$.markInAnalyzer(\u001b[32mAnalysisHelper.scala\u001b[39m:\u001b[32m330\u001b[39m)",
      "  org.apache.spark.sql.catalyst.analysis.Analyzer.executeAndCheck(\u001b[32mAnalyzer.scala\u001b[39m:\u001b[32m208\u001b[39m)",
      "  org.apache.spark.sql.execution.QueryExecution.$anonfun$analyzed$1(\u001b[32mQueryExecution.scala\u001b[39m:\u001b[32m77\u001b[39m)",
      "  org.apache.spark.sql.catalyst.QueryPlanningTracker.measurePhase(\u001b[32mQueryPlanningTracker.scala\u001b[39m:\u001b[32m138\u001b[39m)",
      "  org.apache.spark.sql.execution.QueryExecution.$anonfun$executePhase$2(\u001b[32mQueryExecution.scala\u001b[39m:\u001b[32m219\u001b[39m)",
      "  org.apache.spark.sql.execution.QueryExecution$.withInternalError(\u001b[32mQueryExecution.scala\u001b[39m:\u001b[32m546\u001b[39m)",
      "  org.apache.spark.sql.execution.QueryExecution.$anonfun$executePhase$1(\u001b[32mQueryExecution.scala\u001b[39m:\u001b[32m219\u001b[39m)",
      "  org.apache.spark.sql.SparkSession.withActive(\u001b[32mSparkSession.scala\u001b[39m:\u001b[32m900\u001b[39m)",
      "  org.apache.spark.sql.execution.QueryExecution.executePhase(\u001b[32mQueryExecution.scala\u001b[39m:\u001b[32m218\u001b[39m)",
      "  org.apache.spark.sql.execution.QueryExecution.analyzed$lzycompute(\u001b[32mQueryExecution.scala\u001b[39m:\u001b[32m77\u001b[39m)",
      "  org.apache.spark.sql.execution.QueryExecution.analyzed(\u001b[32mQueryExecution.scala\u001b[39m:\u001b[32m74\u001b[39m)",
      "  org.apache.spark.sql.execution.QueryExecution.assertAnalyzed(\u001b[32mQueryExecution.scala\u001b[39m:\u001b[32m66\u001b[39m)",
      "  org.apache.spark.sql.Dataset$.$anonfun$ofRows$1(\u001b[32mDataset.scala\u001b[39m:\u001b[32m91\u001b[39m)",
      "  org.apache.spark.sql.SparkSession.withActive(\u001b[32mSparkSession.scala\u001b[39m:\u001b[32m900\u001b[39m)",
      "  org.apache.spark.sql.Dataset$.ofRows(\u001b[32mDataset.scala\u001b[39m:\u001b[32m89\u001b[39m)",
      "  org.apache.spark.sql.Dataset.withPlan(\u001b[32mDataset.scala\u001b[39m:\u001b[32m4363\u001b[39m)",
      "  org.apache.spark.sql.Dataset.select(\u001b[32mDataset.scala\u001b[39m:\u001b[32m1541\u001b[39m)",
      "  org.apache.spark.sql.Dataset.select(\u001b[32mDataset.scala\u001b[39m:\u001b[32m1558\u001b[39m)",
      "  ammonite.$sess.cell27$Helper.<init>(\u001b[32mcell27.sc\u001b[39m:\u001b[32m1\u001b[39m)",
      "  ammonite.$sess.cell27$.<init>(\u001b[32mcell27.sc\u001b[39m:\u001b[32m7\u001b[39m)",
      "  ammonite.$sess.cell27$.<clinit>(\u001b[32mcell27.sc\u001b[39m:\u001b[32m-1\u001b[39m)"
     ]
    }
   ],
   "source": [
    "jDF.select(\"CustomerID\", \"Name\", \"Birthdate\", \"InvoiceDate\").show(5, false)"
   ]
  },
  {
   "cell_type": "code",
   "execution_count": 28,
   "id": "1d2aa62b-4e34-4450-8163-f1ceb7add173",
   "metadata": {},
   "outputs": [
    {
     "name": "stderr",
     "output_type": "stream",
     "text": [
      "24/09/06 21:24:05 INFO BlockManagerInfo: Removed broadcast_33_piece0 on ubuntu:35613 in memory (size: 34.0 KiB, free: 4.5 GiB)\n",
      "24/09/06 21:24:05 INFO BlockManagerInfo: Removed broadcast_34_piece0 on ubuntu:35613 in memory (size: 7.4 KiB, free: 4.5 GiB)\n",
      "24/09/06 21:24:05 INFO BlockManagerInfo: Removed broadcast_35_piece0 on ubuntu:35613 in memory (size: 34.0 KiB, free: 4.5 GiB)\n",
      "24/09/06 21:24:05 INFO BlockManagerInfo: Removed broadcast_37_piece0 on ubuntu:35613 in memory (size: 65.5 KiB, free: 4.5 GiB)\n"
     ]
    },
    {
     "data": {
      "text/plain": [
       "\u001b[36mjDF2\u001b[39m: \u001b[32mDataFrame\u001b[39m = [CustomerID: string, Name: string ... 2 more fields]"
      ]
     },
     "execution_count": 28,
     "metadata": {},
     "output_type": "execute_result"
    }
   ],
   "source": [
    "val jDF2 = spark.sql(\"\"\"\n",
    "select c.CustomerID, c.Name, c.Birthdate, r.InvoiceDate\n",
    "from customer c\n",
    "join retail r\n",
    "on c.CustomerID == r.CustomerID\n",
    "\"\"\")"
   ]
  },
  {
   "cell_type": "code",
   "execution_count": 29,
   "id": "7d5b6a43-739f-4d7d-a9d1-a16c247164c5",
   "metadata": {
    "scrolled": true
   },
   "outputs": [
    {
     "name": "stderr",
     "output_type": "stream",
     "text": [
      "24/09/06 21:24:08 INFO FileSourceStrategy: Pushed Filters: IsNotNull(CustomerID)\n",
      "24/09/06 21:24:08 INFO FileSourceStrategy: Post-Scan Filters: isnotnull(CustomerID#11)\n",
      "24/09/06 21:24:08 INFO FileSourceStrategy: Pushed Filters: IsNotNull(CustomerID)\n",
      "24/09/06 21:24:08 INFO FileSourceStrategy: Post-Scan Filters: isnotnull(CustomerID#363)\n",
      "24/09/06 21:24:08 INFO CodeGenerator: Code generated in 5.677945 ms\n",
      "24/09/06 21:24:08 INFO MemoryStore: Block broadcast_40 stored as values in memory (estimated size 198.4 KiB, free 4.5 GiB)\n",
      "24/09/06 21:24:08 INFO MemoryStore: Block broadcast_40_piece0 stored as bytes in memory (estimated size 34.0 KiB, free 4.5 GiB)\n",
      "24/09/06 21:24:08 INFO BlockManagerInfo: Added broadcast_40_piece0 in memory on ubuntu:35613 (size: 34.0 KiB, free: 4.5 GiB)\n",
      "24/09/06 21:24:08 INFO SparkContext: Created broadcast 40 from $anonfun$withThreadLocalCaptured$1 at FutureTask.java:264\n",
      "24/09/06 21:24:08 INFO FileSourceScanExec: Planning scan with bin packing, max size: 4194304 bytes, open cost is considered as scanning 4194304 bytes.\n",
      "24/09/06 21:24:08 INFO SparkContext: Starting job: $anonfun$withThreadLocalCaptured$1 at FutureTask.java:264\n",
      "24/09/06 21:24:08 INFO DAGScheduler: Got job 21 ($anonfun$withThreadLocalCaptured$1 at FutureTask.java:264) with 1 output partitions\n",
      "24/09/06 21:24:08 INFO DAGScheduler: Final stage: ResultStage 25 ($anonfun$withThreadLocalCaptured$1 at FutureTask.java:264)\n",
      "24/09/06 21:24:08 INFO DAGScheduler: Parents of final stage: List()\n",
      "24/09/06 21:24:08 INFO DAGScheduler: Missing parents: List()\n",
      "24/09/06 21:24:08 INFO DAGScheduler: Submitting ResultStage 25 (MapPartitionsRDD[90] at $anonfun$withThreadLocalCaptured$1 at FutureTask.java:264), which has no missing parents\n",
      "24/09/06 21:24:08 INFO MemoryStore: Block broadcast_41 stored as values in memory (estimated size 15.3 KiB, free 4.5 GiB)\n",
      "24/09/06 21:24:08 INFO MemoryStore: Block broadcast_41_piece0 stored as bytes in memory (estimated size 7.3 KiB, free 4.5 GiB)\n",
      "24/09/06 21:24:08 INFO BlockManagerInfo: Added broadcast_41_piece0 in memory on ubuntu:35613 (size: 7.3 KiB, free: 4.5 GiB)\n",
      "24/09/06 21:24:08 INFO SparkContext: Created broadcast 41 from broadcast at DAGScheduler.scala:1580\n",
      "24/09/06 21:24:08 INFO DAGScheduler: Submitting 1 missing tasks from ResultStage 25 (MapPartitionsRDD[90] at $anonfun$withThreadLocalCaptured$1 at FutureTask.java:264) (first 15 tasks are for partitions Vector(0))\n",
      "24/09/06 21:24:08 INFO TaskSchedulerImpl: Adding task set 25.0 with 1 tasks resource profile 0\n",
      "24/09/06 21:24:08 INFO TaskSetManager: Starting task 0.0 in stage 25.0 (TID 23) (ubuntu, executor driver, partition 0, PROCESS_LOCAL, 8245 bytes) \n",
      "24/09/06 21:24:08 INFO Executor: Running task 0.0 in stage 25.0 (TID 23)\n",
      "24/09/06 21:24:08 INFO CodeGenerator: Code generated in 12.785042 ms\n",
      "24/09/06 21:24:08 INFO FileScanRDD: Reading File path: file:///home/vadim/workspace/Spark/SparkSQL/data/customer_data.json, range: 0-108790, partition values: [empty row]\n",
      "24/09/06 21:24:08 INFO CodeGenerator: Code generated in 5.151588 ms\n",
      "24/09/06 21:24:08 INFO Executor: Finished task 0.0 in stage 25.0 (TID 23). 20233 bytes result sent to driver\n",
      "24/09/06 21:24:08 INFO TaskSetManager: Finished task 0.0 in stage 25.0 (TID 23) in 52 ms on ubuntu (executor driver) (1/1)\n",
      "24/09/06 21:24:08 INFO TaskSchedulerImpl: Removed TaskSet 25.0, whose tasks have all completed, from pool \n",
      "24/09/06 21:24:08 INFO DAGScheduler: ResultStage 25 ($anonfun$withThreadLocalCaptured$1 at FutureTask.java:264) finished in 0,070 s\n",
      "24/09/06 21:24:08 INFO DAGScheduler: Job 21 is finished. Cancelling potential speculative or zombie tasks for this job\n",
      "24/09/06 21:24:08 INFO TaskSchedulerImpl: Killing all running tasks in stage 25: Stage finished\n",
      "24/09/06 21:24:08 INFO DAGScheduler: Job 21 finished: $anonfun$withThreadLocalCaptured$1 at FutureTask.java:264, took 0,079358 s\n",
      "24/09/06 21:24:08 INFO CodeGenerator: Code generated in 4.131195 ms\n",
      "24/09/06 21:24:08 INFO MemoryStore: Block broadcast_42 stored as values in memory (estimated size 32.0 MiB, free 4.5 GiB)\n",
      "24/09/06 21:24:08 INFO MemoryStore: Block broadcast_42_piece0 stored as bytes in memory (estimated size 22.5 KiB, free 4.5 GiB)\n",
      "24/09/06 21:24:08 INFO BlockManagerInfo: Added broadcast_42_piece0 in memory on ubuntu:35613 (size: 22.5 KiB, free: 4.5 GiB)\n",
      "24/09/06 21:24:08 INFO SparkContext: Created broadcast 42 from $anonfun$withThreadLocalCaptured$1 at FutureTask.java:264\n",
      "24/09/06 21:24:08 INFO FileSourceStrategy: Pushed Filters: IsNotNull(CustomerID)\n",
      "24/09/06 21:24:08 INFO FileSourceStrategy: Post-Scan Filters: isnotnull(CustomerID#363)\n",
      "24/09/06 21:24:08 INFO CodeGenerator: Code generated in 17.429718 ms\n",
      "24/09/06 21:24:08 INFO MemoryStore: Block broadcast_43 stored as values in memory (estimated size 198.4 KiB, free 4.5 GiB)\n",
      "24/09/06 21:24:08 INFO MemoryStore: Block broadcast_43_piece0 stored as bytes in memory (estimated size 34.0 KiB, free 4.5 GiB)\n",
      "24/09/06 21:24:08 INFO BlockManagerInfo: Added broadcast_43_piece0 in memory on ubuntu:35613 (size: 34.0 KiB, free: 4.5 GiB)\n",
      "24/09/06 21:24:08 INFO SparkContext: Created broadcast 43 from show at cell29.sc:1\n",
      "24/09/06 21:24:08 INFO FileSourceScanExec: Planning scan with bin packing, max size: 4194304 bytes, open cost is considered as scanning 4194304 bytes.\n",
      "24/09/06 21:24:08 INFO SparkContext: Starting job: show at cell29.sc:1\n",
      "24/09/06 21:24:08 INFO DAGScheduler: Got job 22 (show at cell29.sc:1) with 1 output partitions\n",
      "24/09/06 21:24:08 INFO DAGScheduler: Final stage: ResultStage 26 (show at cell29.sc:1)\n",
      "24/09/06 21:24:08 INFO DAGScheduler: Parents of final stage: List()\n",
      "24/09/06 21:24:08 INFO DAGScheduler: Missing parents: List()\n",
      "24/09/06 21:24:08 INFO DAGScheduler: Submitting ResultStage 26 (MapPartitionsRDD[94] at show at cell29.sc:1), which has no missing parents\n",
      "24/09/06 21:24:08 INFO MemoryStore: Block broadcast_44 stored as values in memory (estimated size 17.3 KiB, free 4.5 GiB)\n",
      "24/09/06 21:24:08 INFO MemoryStore: Block broadcast_44_piece0 stored as bytes in memory (estimated size 8.1 KiB, free 4.5 GiB)\n",
      "24/09/06 21:24:08 INFO BlockManagerInfo: Added broadcast_44_piece0 in memory on ubuntu:35613 (size: 8.1 KiB, free: 4.5 GiB)\n",
      "24/09/06 21:24:08 INFO SparkContext: Created broadcast 44 from broadcast at DAGScheduler.scala:1580\n",
      "24/09/06 21:24:08 INFO DAGScheduler: Submitting 1 missing tasks from ResultStage 26 (MapPartitionsRDD[94] at show at cell29.sc:1) (first 15 tasks are for partitions Vector(0))\n",
      "24/09/06 21:24:08 INFO TaskSchedulerImpl: Adding task set 26.0 with 1 tasks resource profile 0\n",
      "24/09/06 21:24:08 INFO TaskSetManager: Starting task 0.0 in stage 26.0 (TID 24) (ubuntu, executor driver, partition 0, PROCESS_LOCAL, 8243 bytes) \n",
      "24/09/06 21:24:08 INFO Executor: Running task 0.0 in stage 26.0 (TID 24)\n",
      "24/09/06 21:24:08 INFO CodeGenerator: Code generated in 12.588461 ms\n",
      "24/09/06 21:24:08 INFO FileScanRDD: Reading File path: file:///home/vadim/workspace/Spark/SparkSQL/data/retail_data.json, range: 0-4194304, partition values: [empty row]\n",
      "24/09/06 21:24:08 INFO Executor: Finished task 0.0 in stage 26.0 (TID 24). 1842 bytes result sent to driver\n",
      "24/09/06 21:24:08 INFO TaskSetManager: Finished task 0.0 in stage 26.0 (TID 24) in 32 ms on ubuntu (executor driver) (1/1)\n",
      "24/09/06 21:24:08 INFO TaskSchedulerImpl: Removed TaskSet 26.0, whose tasks have all completed, from pool \n",
      "24/09/06 21:24:08 INFO DAGScheduler: ResultStage 26 (show at cell29.sc:1) finished in 0,048 s\n",
      "24/09/06 21:24:08 INFO DAGScheduler: Job 22 is finished. Cancelling potential speculative or zombie tasks for this job\n",
      "24/09/06 21:24:08 INFO TaskSchedulerImpl: Killing all running tasks in stage 26: Stage finished\n",
      "24/09/06 21:24:08 INFO DAGScheduler: Job 22 finished: show at cell29.sc:1, took 0,054415 s\n"
     ]
    },
    {
     "name": "stdout",
     "output_type": "stream",
     "text": [
      "+----------+---------------+-------------------+---------------+\n",
      "|CustomerID|Name           |Birthdate          |InvoiceDate    |\n",
      "+----------+---------------+-------------------+---------------+\n",
      "|12346     |Lindsay Cowan  |1994-02-20 00:46:27|1/18/2011 10:01|\n",
      "|12346     |Lindsay Cowan  |1994-02-20 00:46:27|1/18/2011 10:17|\n",
      "|12347     |Katherine David|1988-06-21 00:15:34|12/7/2010 14:57|\n",
      "|12347     |Katherine David|1988-06-21 00:15:34|12/7/2010 14:57|\n",
      "|12347     |Katherine David|1988-06-21 00:15:34|12/7/2010 14:57|\n",
      "+----------+---------------+-------------------+---------------+\n",
      "only showing top 5 rows\n",
      "\n"
     ]
    }
   ],
   "source": [
    "jDF2.show(5, false)"
   ]
  },
  {
   "cell_type": "code",
   "execution_count": 30,
   "id": "b3ed9125",
   "metadata": {},
   "outputs": [
    {
     "name": "stderr",
     "output_type": "stream",
     "text": [
      "24/09/06 21:24:43 INFO FileSourceStrategy: Pushed Filters: IsNotNull(CustomerID)\n",
      "24/09/06 21:24:43 INFO FileSourceStrategy: Post-Scan Filters: isnotnull(CustomerID#11)\n",
      "24/09/06 21:24:43 INFO FileSourceStrategy: Pushed Filters: IsNotNull(CustomerID)\n",
      "24/09/06 21:24:43 INFO FileSourceStrategy: Post-Scan Filters: isnotnull(CustomerID#363)\n",
      "24/09/06 21:24:43 INFO MemoryStore: Block broadcast_45 stored as values in memory (estimated size 198.4 KiB, free 4.5 GiB)\n",
      "24/09/06 21:24:43 INFO MemoryStore: Block broadcast_45_piece0 stored as bytes in memory (estimated size 34.0 KiB, free 4.5 GiB)\n",
      "24/09/06 21:24:43 INFO BlockManagerInfo: Added broadcast_45_piece0 in memory on ubuntu:35613 (size: 34.0 KiB, free: 4.5 GiB)\n",
      "24/09/06 21:24:43 INFO SparkContext: Created broadcast 45 from $anonfun$withThreadLocalCaptured$1 at FutureTask.java:264\n",
      "24/09/06 21:24:43 INFO FileSourceScanExec: Planning scan with bin packing, max size: 4194304 bytes, open cost is considered as scanning 4194304 bytes.\n",
      "24/09/06 21:24:43 INFO SparkContext: Starting job: $anonfun$withThreadLocalCaptured$1 at FutureTask.java:264\n",
      "24/09/06 21:24:43 INFO DAGScheduler: Got job 23 ($anonfun$withThreadLocalCaptured$1 at FutureTask.java:264) with 1 output partitions\n",
      "24/09/06 21:24:43 INFO DAGScheduler: Final stage: ResultStage 27 ($anonfun$withThreadLocalCaptured$1 at FutureTask.java:264)\n",
      "24/09/06 21:24:43 INFO DAGScheduler: Parents of final stage: List()\n",
      "24/09/06 21:24:43 INFO DAGScheduler: Missing parents: List()\n",
      "24/09/06 21:24:43 INFO DAGScheduler: Submitting ResultStage 27 (MapPartitionsRDD[98] at $anonfun$withThreadLocalCaptured$1 at FutureTask.java:264), which has no missing parents\n",
      "24/09/06 21:24:43 INFO MemoryStore: Block broadcast_46 stored as values in memory (estimated size 15.3 KiB, free 4.5 GiB)\n",
      "24/09/06 21:24:43 INFO MemoryStore: Block broadcast_46_piece0 stored as bytes in memory (estimated size 7.3 KiB, free 4.5 GiB)\n",
      "24/09/06 21:24:43 INFO BlockManagerInfo: Added broadcast_46_piece0 in memory on ubuntu:35613 (size: 7.3 KiB, free: 4.5 GiB)\n",
      "24/09/06 21:24:43 INFO SparkContext: Created broadcast 46 from broadcast at DAGScheduler.scala:1580\n",
      "24/09/06 21:24:43 INFO DAGScheduler: Submitting 1 missing tasks from ResultStage 27 (MapPartitionsRDD[98] at $anonfun$withThreadLocalCaptured$1 at FutureTask.java:264) (first 15 tasks are for partitions Vector(0))\n",
      "24/09/06 21:24:43 INFO TaskSchedulerImpl: Adding task set 27.0 with 1 tasks resource profile 0\n",
      "24/09/06 21:24:43 INFO TaskSetManager: Starting task 0.0 in stage 27.0 (TID 25) (ubuntu, executor driver, partition 0, PROCESS_LOCAL, 8245 bytes) \n",
      "24/09/06 21:24:43 INFO Executor: Running task 0.0 in stage 27.0 (TID 25)\n",
      "24/09/06 21:24:43 INFO FileScanRDD: Reading File path: file:///home/vadim/workspace/Spark/SparkSQL/data/customer_data.json, range: 0-108790, partition values: [empty row]\n",
      "24/09/06 21:24:43 INFO Executor: Finished task 0.0 in stage 27.0 (TID 25). 20233 bytes result sent to driver\n",
      "24/09/06 21:24:43 INFO TaskSetManager: Finished task 0.0 in stage 27.0 (TID 25) in 31 ms on ubuntu (executor driver) (1/1)\n",
      "24/09/06 21:24:43 INFO TaskSchedulerImpl: Removed TaskSet 27.0, whose tasks have all completed, from pool \n",
      "24/09/06 21:24:43 INFO DAGScheduler: ResultStage 27 ($anonfun$withThreadLocalCaptured$1 at FutureTask.java:264) finished in 0,051 s\n",
      "24/09/06 21:24:43 INFO DAGScheduler: Job 23 is finished. Cancelling potential speculative or zombie tasks for this job\n",
      "24/09/06 21:24:43 INFO TaskSchedulerImpl: Killing all running tasks in stage 27: Stage finished\n",
      "24/09/06 21:24:43 INFO DAGScheduler: Job 23 finished: $anonfun$withThreadLocalCaptured$1 at FutureTask.java:264, took 0,069085 s\n",
      "24/09/06 21:24:43 INFO MemoryStore: Block broadcast_47 stored as values in memory (estimated size 32.0 MiB, free 4.5 GiB)\n",
      "24/09/06 21:24:43 INFO MemoryStore: Block broadcast_47_piece0 stored as bytes in memory (estimated size 22.5 KiB, free 4.5 GiB)\n",
      "24/09/06 21:24:43 INFO BlockManagerInfo: Added broadcast_47_piece0 in memory on ubuntu:35613 (size: 22.5 KiB, free: 4.5 GiB)\n",
      "24/09/06 21:24:43 INFO SparkContext: Created broadcast 47 from $anonfun$withThreadLocalCaptured$1 at FutureTask.java:264\n",
      "24/09/06 21:24:43 INFO FileSourceStrategy: Pushed Filters: IsNotNull(CustomerID)\n",
      "24/09/06 21:24:43 INFO FileSourceStrategy: Post-Scan Filters: isnotnull(CustomerID#363)\n",
      "24/09/06 21:24:43 INFO MemoryStore: Block broadcast_48 stored as values in memory (estimated size 198.4 KiB, free 4.5 GiB)\n",
      "24/09/06 21:24:43 INFO MemoryStore: Block broadcast_48_piece0 stored as bytes in memory (estimated size 34.0 KiB, free 4.5 GiB)\n",
      "24/09/06 21:24:43 INFO BlockManagerInfo: Added broadcast_48_piece0 in memory on ubuntu:35613 (size: 34.0 KiB, free: 4.5 GiB)\n",
      "24/09/06 21:24:43 INFO SparkContext: Created broadcast 48 from show at cell30.sc:1\n",
      "24/09/06 21:24:43 INFO FileSourceScanExec: Planning scan with bin packing, max size: 4194304 bytes, open cost is considered as scanning 4194304 bytes.\n",
      "24/09/06 21:24:43 INFO SparkContext: Starting job: show at cell30.sc:1\n",
      "24/09/06 21:24:43 INFO DAGScheduler: Got job 24 (show at cell30.sc:1) with 1 output partitions\n",
      "24/09/06 21:24:43 INFO DAGScheduler: Final stage: ResultStage 28 (show at cell30.sc:1)\n",
      "24/09/06 21:24:43 INFO DAGScheduler: Parents of final stage: List()\n",
      "24/09/06 21:24:43 INFO DAGScheduler: Missing parents: List()\n",
      "24/09/06 21:24:43 INFO DAGScheduler: Submitting ResultStage 28 (MapPartitionsRDD[102] at show at cell30.sc:1), which has no missing parents\n",
      "24/09/06 21:24:43 INFO MemoryStore: Block broadcast_49 stored as values in memory (estimated size 17.3 KiB, free 4.5 GiB)\n",
      "24/09/06 21:24:43 INFO MemoryStore: Block broadcast_49_piece0 stored as bytes in memory (estimated size 8.1 KiB, free 4.5 GiB)\n",
      "24/09/06 21:24:43 INFO BlockManagerInfo: Added broadcast_49_piece0 in memory on ubuntu:35613 (size: 8.1 KiB, free: 4.5 GiB)\n",
      "24/09/06 21:24:43 INFO SparkContext: Created broadcast 49 from broadcast at DAGScheduler.scala:1580\n",
      "24/09/06 21:24:43 INFO DAGScheduler: Submitting 1 missing tasks from ResultStage 28 (MapPartitionsRDD[102] at show at cell30.sc:1) (first 15 tasks are for partitions Vector(0))\n",
      "24/09/06 21:24:43 INFO TaskSchedulerImpl: Adding task set 28.0 with 1 tasks resource profile 0\n",
      "24/09/06 21:24:43 INFO TaskSetManager: Starting task 0.0 in stage 28.0 (TID 26) (ubuntu, executor driver, partition 0, PROCESS_LOCAL, 8243 bytes) \n",
      "24/09/06 21:24:43 INFO Executor: Running task 0.0 in stage 28.0 (TID 26)\n",
      "24/09/06 21:24:43 INFO FileScanRDD: Reading File path: file:///home/vadim/workspace/Spark/SparkSQL/data/retail_data.json, range: 0-4194304, partition values: [empty row]\n",
      "24/09/06 21:24:43 INFO Executor: Finished task 0.0 in stage 28.0 (TID 26). 1842 bytes result sent to driver\n",
      "24/09/06 21:24:43 INFO TaskSetManager: Finished task 0.0 in stage 28.0 (TID 26) in 25 ms on ubuntu (executor driver) (1/1)\n",
      "24/09/06 21:24:43 INFO TaskSchedulerImpl: Removed TaskSet 28.0, whose tasks have all completed, from pool \n",
      "24/09/06 21:24:43 INFO DAGScheduler: ResultStage 28 (show at cell30.sc:1) finished in 0,039 s\n",
      "24/09/06 21:24:43 INFO DAGScheduler: Job 24 is finished. Cancelling potential speculative or zombie tasks for this job\n",
      "24/09/06 21:24:43 INFO TaskSchedulerImpl: Killing all running tasks in stage 28: Stage finished\n",
      "24/09/06 21:24:43 INFO DAGScheduler: Job 24 finished: show at cell30.sc:1, took 0,045535 s\n"
     ]
    },
    {
     "name": "stdout",
     "output_type": "stream",
     "text": [
      "+----------+---------------+-------------------+---------------+\n",
      "|CustomerID|Name           |Birthdate          |InvoiceDate    |\n",
      "+----------+---------------+-------------------+---------------+\n",
      "|12346     |Lindsay Cowan  |1994-02-20 00:46:27|1/18/2011 10:01|\n",
      "|12346     |Lindsay Cowan  |1994-02-20 00:46:27|1/18/2011 10:17|\n",
      "|12347     |Katherine David|1988-06-21 00:15:34|12/7/2010 14:57|\n",
      "|12347     |Katherine David|1988-06-21 00:15:34|12/7/2010 14:57|\n",
      "|12347     |Katherine David|1988-06-21 00:15:34|12/7/2010 14:57|\n",
      "+----------+---------------+-------------------+---------------+\n",
      "only showing top 5 rows\n",
      "\n"
     ]
    }
   ],
   "source": [
    "jDF2.select(\"CustomerID\", \"Name\", \"Birthdate\", \"InvoiceDate\").show(5, false)"
   ]
  },
  {
   "cell_type": "code",
   "execution_count": 31,
   "id": "88bd309b-390d-412c-978a-8c361167421f",
   "metadata": {},
   "outputs": [
    {
     "name": "stderr",
     "output_type": "stream",
     "text": [
      "24/09/06 21:25:09 INFO SparkContext: SparkContext is stopping with exitCode 0.\n",
      "24/09/06 21:25:09 INFO SparkUI: Stopped Spark web UI at http://ubuntu:4041\n",
      "24/09/06 21:25:09 INFO MapOutputTrackerMasterEndpoint: MapOutputTrackerMasterEndpoint stopped!\n",
      "24/09/06 21:25:09 INFO MemoryStore: MemoryStore cleared\n",
      "24/09/06 21:25:09 INFO BlockManager: BlockManager stopped\n",
      "24/09/06 21:25:09 INFO BlockManagerMaster: BlockManagerMaster stopped\n",
      "24/09/06 21:25:09 INFO OutputCommitCoordinator$OutputCommitCoordinatorEndpoint: OutputCommitCoordinator stopped!\n",
      "24/09/06 21:25:09 INFO SparkContext: Successfully stopped SparkContext\n"
     ]
    }
   ],
   "source": [
    "spark.stop()"
   ]
  },
  {
   "cell_type": "code",
   "execution_count": null,
   "id": "01b09568-457c-4a66-a8d5-866e1a627c03",
   "metadata": {},
   "outputs": [],
   "source": []
  }
 ],
 "metadata": {
  "kernelspec": {
   "display_name": "Scala (2.12)",
   "language": "scala",
   "name": "scala212"
  },
  "language_info": {
   "codemirror_mode": "text/x-scala",
   "file_extension": ".sc",
   "mimetype": "text/x-scala",
   "name": "scala",
   "nbconvert_exporter": "script",
   "version": "2.12.18"
  }
 },
 "nbformat": 4,
 "nbformat_minor": 5
}
